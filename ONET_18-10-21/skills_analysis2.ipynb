{
 "cells": [
  {
   "cell_type": "code",
   "execution_count": 1,
   "id": "9e133cd4",
   "metadata": {},
   "outputs": [
    {
     "name": "stdout",
     "output_type": "stream",
     "text": [
      "  O*NET-SOC Code             Title Element ID           Element Name  \\\n",
      "0     11-1011.00  Chief Executives    2.A.1.a  Reading Comprehension   \n",
      "1     11-1011.00  Chief Executives    2.A.1.b       Active Listening   \n",
      "2     11-1011.00  Chief Executives    2.A.1.c                Writing   \n",
      "3     11-1011.00  Chief Executives    2.A.1.d               Speaking   \n",
      "4     11-1011.00  Chief Executives    2.A.1.e            Mathematics   \n",
      "\n",
      "   Data Value  Standard Error  Lower CI Bound  Upper CI Bound  \n",
      "0        4.75            0.16            4.43            5.07  \n",
      "1        4.88            0.23            4.43            5.32  \n",
      "2        4.38            0.18            4.02            4.73  \n",
      "3        4.88            0.13            4.63            5.12  \n",
      "4        3.62            0.26            3.11            4.14  \n"
     ]
    }
   ],
   "source": [
    "import pandas as pd\n",
    "\n",
    "df = pd.read_excel(\"Skills.xlsx\")\n",
    "#print(df.head())\n",
    "\n",
    "#Lets remove the importance values:\n",
    "\n",
    "df2 = df.loc[df[\"Scale Name\"] == \"Level\"]\n",
    "df2.reset_index(drop = True, inplace = True)\n",
    "#print(df2.head())\n",
    "\n",
    "#Lets now remove the irrelevent columns:\n",
    "\n",
    "df3 = df2.drop(columns = [\"Scale ID\",\"Scale Name\",\"N\",\"Recommend Suppress\",\"Not Relevant\",\"Date\",\"Domain Source\"])\n",
    "print(df3.head())\n",
    "\n",
    "#NOTE that we have ignored the suppress recomendations, we shall continue with this for now but will need to address this later\n"
   ]
  },
  {
   "cell_type": "code",
   "execution_count": 3,
   "id": "420df498",
   "metadata": {},
   "outputs": [
    {
     "name": "stdout",
     "output_type": "stream",
     "text": [
      "<class 'pandas.core.frame.DataFrame'>\n",
      "RangeIndex: 30555 entries, 0 to 30554\n",
      "Data columns (total 8 columns):\n",
      " #   Column          Non-Null Count  Dtype  \n",
      "---  ------          --------------  -----  \n",
      " 0   O*NET-SOC Code  30555 non-null  object \n",
      " 1   Title           30555 non-null  object \n",
      " 2   Element ID      30555 non-null  object \n",
      " 3   Element Name    30555 non-null  object \n",
      " 4   Data Value      30555 non-null  float64\n",
      " 5   Standard Error  28700 non-null  float64\n",
      " 6   Lower CI Bound  28700 non-null  float64\n",
      " 7   Upper CI Bound  28700 non-null  float64\n",
      "dtypes: float64(4), object(4)\n",
      "memory usage: 1.9+ MB\n",
      "  O*NET-SOC Code             Title Element ID           Element Name  \\\n",
      "0     11-1011.00  Chief Executives    2.A.1.a  Reading Comprehension   \n",
      "1     11-1011.00  Chief Executives    2.A.1.b       Active Listening   \n",
      "2     11-1011.00  Chief Executives    2.A.1.c                Writing   \n",
      "3     11-1011.00  Chief Executives    2.A.1.d               Speaking   \n",
      "4     11-1011.00  Chief Executives    2.A.1.e            Mathematics   \n",
      "\n",
      "   Data Value  \n",
      "0        4.75  \n",
      "1        4.88  \n",
      "2        4.38  \n",
      "3        4.88  \n",
      "4        3.62  \n"
     ]
    }
   ],
   "source": [
    "#Lets now discover a bit about our data set:\n",
    "\n",
    "df3.info()\n",
    "\n",
    "#We note that there are some occupations for which the standard error and bound values are missing. Lets supress these for now:\n",
    "\n",
    "df3.drop(columns = [\"Standard Error\",\"Lower CI Bound\",\"Upper CI Bound\"],inplace = True)\n",
    "print(df3.head())"
   ]
  },
  {
   "cell_type": "code",
   "execution_count": 2,
   "id": "136577d2",
   "metadata": {},
   "outputs": [
    {
     "name": "stdout",
     "output_type": "stream",
     "text": [
      "  O*NET-SOC Code                                              Title\n",
      "0     41-3011.00                        Personal Financial Advisors\n",
      "1     25-4031.00     Airline Pilots, Copilots, and Flight Engineers\n",
      "2     19-3092.00  Forest Fire Inspectors and Prevention Specialists\n",
      "3     27-4011.00     First-Line Supervisors of Retail Sales Workers\n",
      "4     43-4051.00                                         Pipelayers\n"
     ]
    }
   ],
   "source": [
    "#We now want to create a new dataframe that has occupation titles as observations, and the different skills as variables\n",
    "\n",
    "#We need to begin by creating a dictionary:\n",
    "\n",
    "mydict = {}\n",
    "variable = df3.columns[0]\n",
    "myset = set((df3[variable]))\n",
    "variable_list = list(myset)\n",
    "#print(variable_list)\n",
    "mydict[variable] = variable_list\n",
    "\n",
    "variable = df3.columns[1]\n",
    "myset = set((df3[variable]))\n",
    "variable_list = list(myset)\n",
    "#print(variable_list)\n",
    "mydict[variable] = variable_list\n",
    "\n",
    "df4 = pd.DataFrame(mydict)\n",
    "print(df4.head())\n",
    "\n",
    "#Evidently this code doesn't work the way I want it to"
   ]
  },
  {
   "cell_type": "code",
   "execution_count": 4,
   "id": "d55a1537",
   "metadata": {
    "scrolled": true
   },
   "outputs": [
    {
     "name": "stderr",
     "output_type": "stream",
     "text": [
      "<ipython-input-4-398803c0bc0e>:4: SettingWithCopyWarning: \n",
      "A value is trying to be set on a copy of a slice from a DataFrame\n",
      "\n",
      "See the caveats in the documentation: https://pandas.pydata.org/pandas-docs/stable/user_guide/indexing.html#returning-a-view-versus-a-copy\n",
      "  df4.drop_duplicates(inplace=True)\n",
      "<ipython-input-4-398803c0bc0e>:14: SettingWithCopyWarning: \n",
      "A value is trying to be set on a copy of a slice from a DataFrame.\n",
      "Try using .loc[row_indexer,col_indexer] = value instead\n",
      "\n",
      "See the caveats in the documentation: https://pandas.pydata.org/pandas-docs/stable/user_guide/indexing.html#returning-a-view-versus-a-copy\n",
      "  df4[df3[\"Element Name\"][i]] = \"\"\n",
      "C:\\Users\\jacob\\Anaconda3\\lib\\site-packages\\IPython\\core\\interactiveshell.py:3437: SettingWithCopyWarning: \n",
      "A value is trying to be set on a copy of a slice from a DataFrame\n",
      "\n",
      "See the caveats in the documentation: https://pandas.pydata.org/pandas-docs/stable/user_guide/indexing.html#returning-a-view-versus-a-copy\n",
      "  exec(code_obj, self.user_global_ns, self.user_ns)\n"
     ]
    }
   ],
   "source": [
    "#I shall implement the drop_duplicates method:\n",
    "\n",
    "df4 = df3[[\"O*NET-SOC Code\",\"Title\"]]\n",
    "df4.drop_duplicates(inplace=True)\n",
    "df4.reset_index(drop = True, inplace = True)\n",
    "#print(df4.head())\n",
    "\n",
    "#We now need to add the variables. Begin by adding empty columns to the dataframe:\n",
    "\n",
    "n_jobs = len(set((df3[\"Title\"])))\n",
    "n_variables = len(set((df3[\"Element Name\"])))\n",
    "\n",
    "for i in range(n_jobs):\n",
    "    df4[df3[\"Element Name\"][i]] = \"\"\n",
    "\n",
    "#print(df4.head())\n",
    "#Now we need to fill these columns:\n",
    "\n",
    "x = df3.loc[df3[\"Title\"] == \"Chief Executives\"]\n",
    "y = x[\"Data Value\"]\n",
    "\n",
    "for i in range(n_variables):\n",
    "    df4[df4.columns[2+i]][0] = y[i]\n",
    "    \n",
    "#We now need to do this procedure for every job:\n",
    "\n",
    "for j in range(n_jobs):\n",
    "    x = df3.loc[df3[\"Title\"] == df4.iloc[j,1]]\n",
    "    y = x[\"Data Value\"]\n",
    "    y.reset_index(drop = True, inplace = True)\n",
    "    for i in range(n_variables):\n",
    "        df4[df4.columns[2+i]][j] = y[i]\n"
   ]
  },
  {
   "cell_type": "code",
   "execution_count": 5,
   "id": "f0748248",
   "metadata": {},
   "outputs": [
    {
     "name": "stdout",
     "output_type": "stream",
     "text": [
      "  O*NET-SOC Code                                Title Reading Comprehension  \\\n",
      "0     11-1011.00                     Chief Executives                  4.75   \n",
      "1     11-1011.03        Chief Sustainability Officers                  4.25   \n",
      "2     11-1021.00      General and Operations Managers                   4.0   \n",
      "3     11-2011.00  Advertising and Promotions Managers                   4.0   \n",
      "4     11-2021.00                   Marketing Managers                  4.25   \n",
      "\n",
      "  Active Listening Writing Speaking Mathematics Science Critical Thinking  \\\n",
      "0             4.88    4.38     4.88        3.62    1.12              4.75   \n",
      "1              4.0    4.25     4.12        3.12    1.88              4.12   \n",
      "2              4.0    3.88      4.0         2.5    1.12               4.0   \n",
      "3             4.12    3.88     4.12        3.25    0.62              4.12   \n",
      "4             4.12    3.88     4.12        3.12     1.5              4.25   \n",
      "\n",
      "  Active Learning  ... Troubleshooting Repairing Quality Control Analysis  \\\n",
      "0            4.75  ...             0.0       0.0                      1.0   \n",
      "1            3.88  ...             0.0       0.0                      1.5   \n",
      "2            3.62  ...            1.38       0.0                     2.12   \n",
      "3            4.12  ...             0.0       0.0                      1.0   \n",
      "4            4.12  ...             0.0       0.0                     1.38   \n",
      "\n",
      "  Judgment and Decision Making Systems Analysis Systems Evaluation  \\\n",
      "0                         5.75             5.38               5.12   \n",
      "1                          4.0              4.0                4.0   \n",
      "2                         3.75              3.0               3.12   \n",
      "3                          4.0             3.12               3.75   \n",
      "4                          4.0             3.75               3.75   \n",
      "\n",
      "  Time Management Management of Financial Resources  \\\n",
      "0            4.75                               5.5   \n",
      "1            3.88                              3.12   \n",
      "2            3.75                              3.38   \n",
      "3            3.88                              3.62   \n",
      "4            3.75                              3.75   \n",
      "\n",
      "  Management of Material Resources Management of Personnel Resources  \n",
      "0                             4.75                              5.38  \n",
      "1                             2.62                               4.0  \n",
      "2                             3.25                              3.88  \n",
      "3                             2.62                              3.88  \n",
      "4                             2.75                              3.88  \n",
      "\n",
      "[5 rows x 37 columns]\n",
      "    O*NET-SOC Code                                             Title  \\\n",
      "868     53-7071.00  Gas Compressor and Gas Pumping Station Operators   \n",
      "869     53-7072.00           Pump Operators, Except Wellhead Pumpers   \n",
      "870     53-7073.00                                  Wellhead Pumpers   \n",
      "871     53-7081.00         Refuse and Recyclable Material Collectors   \n",
      "872     53-7121.00                 Tank Car, Truck, and Ship Loaders   \n",
      "\n",
      "    Reading Comprehension Active Listening Writing Speaking Mathematics  \\\n",
      "868                  3.12              3.0    2.88      3.0        2.12   \n",
      "869                   3.0              3.0    2.75     2.88        2.62   \n",
      "870                  2.88             2.75    2.12      3.0        1.62   \n",
      "871                  2.38             2.62    2.38     2.25         0.5   \n",
      "872                  3.12              3.0    2.75     2.88        2.12   \n",
      "\n",
      "    Science Critical Thinking Active Learning  ... Troubleshooting Repairing  \\\n",
      "868    1.25               3.0            2.38  ...            3.12       3.0   \n",
      "869    1.38              3.12            2.88  ...            2.88      2.75   \n",
      "870    0.12               3.0            2.12  ...             3.0      3.75   \n",
      "871     0.0               3.0             2.0  ...            2.12      2.12   \n",
      "872    0.75              2.88            2.75  ...             2.5      2.25   \n",
      "\n",
      "    Quality Control Analysis Judgment and Decision Making Systems Analysis  \\\n",
      "868                      3.0                         2.75             2.38   \n",
      "869                     2.75                          3.0             2.12   \n",
      "870                      2.5                         2.88             1.38   \n",
      "871                     2.25                         2.12              2.0   \n",
      "872                     2.88                         2.88             2.62   \n",
      "\n",
      "    Systems Evaluation Time Management Management of Financial Resources  \\\n",
      "868               2.12            2.75                              0.75   \n",
      "869               2.12            2.88                              1.12   \n",
      "870               1.38            2.75                              0.38   \n",
      "871               1.88            2.75                              0.25   \n",
      "872               2.12            2.88                              1.12   \n",
      "\n",
      "    Management of Material Resources Management of Personnel Resources  \n",
      "868                             1.25                              2.12  \n",
      "869                             1.75                              2.25  \n",
      "870                             0.88                               2.0  \n",
      "871                             0.38                               2.0  \n",
      "872                             1.88                              2.75  \n",
      "\n",
      "[5 rows x 37 columns]\n"
     ]
    }
   ],
   "source": [
    "print(df4.head())\n",
    "print(df4.tail())"
   ]
  },
  {
   "cell_type": "markdown",
   "id": "194be949",
   "metadata": {},
   "source": [
    "### We now have the skills dataframe just as we want it!"
   ]
  },
  {
   "cell_type": "code",
   "execution_count": 6,
   "id": "0edae9ce",
   "metadata": {},
   "outputs": [
    {
     "data": {
      "text/html": [
       "<div>\n",
       "<style scoped>\n",
       "    .dataframe tbody tr th:only-of-type {\n",
       "        vertical-align: middle;\n",
       "    }\n",
       "\n",
       "    .dataframe tbody tr th {\n",
       "        vertical-align: top;\n",
       "    }\n",
       "\n",
       "    .dataframe thead th {\n",
       "        text-align: right;\n",
       "    }\n",
       "</style>\n",
       "<table border=\"1\" class=\"dataframe\">\n",
       "  <thead>\n",
       "    <tr style=\"text-align: right;\">\n",
       "      <th></th>\n",
       "      <th>O*NET-SOC Code</th>\n",
       "      <th>Title</th>\n",
       "      <th>Reading Comprehension</th>\n",
       "      <th>Active Listening</th>\n",
       "      <th>Writing</th>\n",
       "      <th>Speaking</th>\n",
       "      <th>Mathematics</th>\n",
       "      <th>Science</th>\n",
       "      <th>Critical Thinking</th>\n",
       "      <th>Active Learning</th>\n",
       "      <th>...</th>\n",
       "      <th>Troubleshooting</th>\n",
       "      <th>Repairing</th>\n",
       "      <th>Quality Control Analysis</th>\n",
       "      <th>Judgment and Decision Making</th>\n",
       "      <th>Systems Analysis</th>\n",
       "      <th>Systems Evaluation</th>\n",
       "      <th>Time Management</th>\n",
       "      <th>Management of Financial Resources</th>\n",
       "      <th>Management of Material Resources</th>\n",
       "      <th>Management of Personnel Resources</th>\n",
       "    </tr>\n",
       "  </thead>\n",
       "  <tbody>\n",
       "    <tr>\n",
       "      <th>count</th>\n",
       "      <td>873</td>\n",
       "      <td>873</td>\n",
       "      <td>873.0</td>\n",
       "      <td>873.0</td>\n",
       "      <td>873.0</td>\n",
       "      <td>873.0</td>\n",
       "      <td>873.0</td>\n",
       "      <td>873.0</td>\n",
       "      <td>873.0</td>\n",
       "      <td>873.0</td>\n",
       "      <td>...</td>\n",
       "      <td>873.0</td>\n",
       "      <td>873.0</td>\n",
       "      <td>873.0</td>\n",
       "      <td>873.0</td>\n",
       "      <td>873.0</td>\n",
       "      <td>873.0</td>\n",
       "      <td>873.0</td>\n",
       "      <td>873.00</td>\n",
       "      <td>873.00</td>\n",
       "      <td>873.0</td>\n",
       "    </tr>\n",
       "    <tr>\n",
       "      <th>unique</th>\n",
       "      <td>873</td>\n",
       "      <td>873</td>\n",
       "      <td>55.0</td>\n",
       "      <td>44.0</td>\n",
       "      <td>50.0</td>\n",
       "      <td>47.0</td>\n",
       "      <td>69.0</td>\n",
       "      <td>69.0</td>\n",
       "      <td>46.0</td>\n",
       "      <td>51.0</td>\n",
       "      <td>...</td>\n",
       "      <td>50.0</td>\n",
       "      <td>47.0</td>\n",
       "      <td>53.0</td>\n",
       "      <td>43.0</td>\n",
       "      <td>57.0</td>\n",
       "      <td>62.0</td>\n",
       "      <td>35.0</td>\n",
       "      <td>54.00</td>\n",
       "      <td>52.00</td>\n",
       "      <td>56.0</td>\n",
       "    </tr>\n",
       "    <tr>\n",
       "      <th>top</th>\n",
       "      <td>41-3011.00</td>\n",
       "      <td>Personal Financial Advisors</td>\n",
       "      <td>4.0</td>\n",
       "      <td>4.0</td>\n",
       "      <td>4.0</td>\n",
       "      <td>4.0</td>\n",
       "      <td>2.0</td>\n",
       "      <td>0.0</td>\n",
       "      <td>4.0</td>\n",
       "      <td>3.0</td>\n",
       "      <td>...</td>\n",
       "      <td>0.0</td>\n",
       "      <td>0.0</td>\n",
       "      <td>3.0</td>\n",
       "      <td>3.0</td>\n",
       "      <td>3.0</td>\n",
       "      <td>3.0</td>\n",
       "      <td>3.0</td>\n",
       "      <td>0.75</td>\n",
       "      <td>0.88</td>\n",
       "      <td>3.0</td>\n",
       "    </tr>\n",
       "    <tr>\n",
       "      <th>freq</th>\n",
       "      <td>1</td>\n",
       "      <td>1</td>\n",
       "      <td>109.0</td>\n",
       "      <td>165.0</td>\n",
       "      <td>90.0</td>\n",
       "      <td>139.0</td>\n",
       "      <td>74.0</td>\n",
       "      <td>129.0</td>\n",
       "      <td>104.0</td>\n",
       "      <td>96.0</td>\n",
       "      <td>...</td>\n",
       "      <td>146.0</td>\n",
       "      <td>415.0</td>\n",
       "      <td>63.0</td>\n",
       "      <td>110.0</td>\n",
       "      <td>86.0</td>\n",
       "      <td>72.0</td>\n",
       "      <td>154.0</td>\n",
       "      <td>83.00</td>\n",
       "      <td>62.00</td>\n",
       "      <td>88.0</td>\n",
       "    </tr>\n",
       "  </tbody>\n",
       "</table>\n",
       "<p>4 rows × 37 columns</p>\n",
       "</div>"
      ],
      "text/plain": [
       "       O*NET-SOC Code                        Title  Reading Comprehension  \\\n",
       "count             873                          873                  873.0   \n",
       "unique            873                          873                   55.0   \n",
       "top        41-3011.00  Personal Financial Advisors                    4.0   \n",
       "freq                1                            1                  109.0   \n",
       "\n",
       "        Active Listening  Writing  Speaking  Mathematics  Science  \\\n",
       "count              873.0    873.0     873.0        873.0    873.0   \n",
       "unique              44.0     50.0      47.0         69.0     69.0   \n",
       "top                  4.0      4.0       4.0          2.0      0.0   \n",
       "freq               165.0     90.0     139.0         74.0    129.0   \n",
       "\n",
       "        Critical Thinking  Active Learning  ...  Troubleshooting  Repairing  \\\n",
       "count               873.0            873.0  ...            873.0      873.0   \n",
       "unique               46.0             51.0  ...             50.0       47.0   \n",
       "top                   4.0              3.0  ...              0.0        0.0   \n",
       "freq                104.0             96.0  ...            146.0      415.0   \n",
       "\n",
       "        Quality Control Analysis  Judgment and Decision Making  \\\n",
       "count                      873.0                         873.0   \n",
       "unique                      53.0                          43.0   \n",
       "top                          3.0                           3.0   \n",
       "freq                        63.0                         110.0   \n",
       "\n",
       "        Systems Analysis  Systems Evaluation  Time Management  \\\n",
       "count              873.0               873.0            873.0   \n",
       "unique              57.0                62.0             35.0   \n",
       "top                  3.0                 3.0              3.0   \n",
       "freq                86.0                72.0            154.0   \n",
       "\n",
       "        Management of Financial Resources  Management of Material Resources  \\\n",
       "count                              873.00                            873.00   \n",
       "unique                              54.00                             52.00   \n",
       "top                                  0.75                              0.88   \n",
       "freq                                83.00                             62.00   \n",
       "\n",
       "        Management of Personnel Resources  \n",
       "count                               873.0  \n",
       "unique                               56.0  \n",
       "top                                   3.0  \n",
       "freq                                 88.0  \n",
       "\n",
       "[4 rows x 37 columns]"
      ]
     },
     "execution_count": 6,
     "metadata": {},
     "output_type": "execute_result"
    }
   ],
   "source": [
    "#Lets understand our data a bit:\n",
    "\n",
    "df4.describe()"
   ]
  },
  {
   "cell_type": "code",
   "execution_count": null,
   "id": "3ecb3b25",
   "metadata": {},
   "outputs": [],
   "source": [
    "%matplotlib inline\n",
    "import matplotlib.pyplot as plt\n",
    "hist = df4.iloc[:,20].hist(bins=20)\n",
    "\n",
    "#We can inspect the histogram of any variable we want"
   ]
  },
  {
   "cell_type": "markdown",
   "id": "3628f6e5",
   "metadata": {},
   "source": [
    "### Let's now  import another dataframe with autovalues"
   ]
  },
  {
   "cell_type": "code",
   "execution_count": 7,
   "id": "87641e7b",
   "metadata": {},
   "outputs": [
    {
     "name": "stdout",
     "output_type": "stream",
     "text": [
      "                                     Occupation Name BLS codes  \\\n",
      "0                            Recreational Therapists  29-1125_   \n",
      "1  First-Line Supervisors of Mechanics Installers...  49-1011_   \n",
      "2                     Emergency Management Directors  11-9161_   \n",
      "3   Mental Health and Substance Abuse Social Workers  21-1023_   \n",
      "4                                       Audiologists  29-1181_   \n",
      "\n",
      "   Training set automatable labels  \n",
      "0                              NaN  \n",
      "1                              NaN  \n",
      "2                              NaN  \n",
      "3                              NaN  \n",
      "4                              NaN  \n"
     ]
    }
   ],
   "source": [
    "df5 = pd.read_excel(\"US_data_email.xls\")\n",
    "df5 = df5[[\"Occupation Name\",\"BLS codes\",\"Training set automatable labels\"]]\n",
    "print(df5.head())"
   ]
  },
  {
   "cell_type": "code",
   "execution_count": 8,
   "id": "40868f55",
   "metadata": {},
   "outputs": [
    {
     "name": "stdout",
     "output_type": "stream",
     "text": [
      "<class 'pandas.core.frame.DataFrame'>\n",
      "RangeIndex: 702 entries, 0 to 701\n",
      "Data columns (total 3 columns):\n",
      " #   Column                           Non-Null Count  Dtype  \n",
      "---  ------                           --------------  -----  \n",
      " 0   Occupation Name                  702 non-null    object \n",
      " 1   BLS codes                        702 non-null    object \n",
      " 2   Training set automatable labels  70 non-null     float64\n",
      "dtypes: float64(1), object(2)\n",
      "memory usage: 16.6+ KB\n"
     ]
    }
   ],
   "source": [
    "df5.info()"
   ]
  },
  {
   "cell_type": "code",
   "execution_count": 9,
   "id": "422495f2",
   "metadata": {},
   "outputs": [
    {
     "name": "stdout",
     "output_type": "stream",
     "text": [
      "                                     Occupation Name   BLS codes  \\\n",
      "0                            Recreational Therapists  29-1125.00   \n",
      "1  First-Line Supervisors of Mechanics Installers...  49-1011.00   \n",
      "2                     Emergency Management Directors  11-9161.00   \n",
      "3   Mental Health and Substance Abuse Social Workers  21-1023.00   \n",
      "4                                       Audiologists  29-1181.00   \n",
      "\n",
      "   Training set automatable labels  \n",
      "0                              NaN  \n",
      "1                              NaN  \n",
      "2                              NaN  \n",
      "3                              NaN  \n",
      "4                              NaN  \n",
      "<class 'pandas.core.frame.DataFrame'>\n",
      "RangeIndex: 702 entries, 0 to 701\n",
      "Data columns (total 3 columns):\n",
      " #   Column                           Non-Null Count  Dtype  \n",
      "---  ------                           --------------  -----  \n",
      " 0   Occupation Name                  702 non-null    object \n",
      " 1   BLS codes                        702 non-null    object \n",
      " 2   Training set automatable labels  70 non-null     float64\n",
      "dtypes: float64(1), object(2)\n",
      "memory usage: 16.6+ KB\n"
     ]
    }
   ],
   "source": [
    "#Lets define a function so that we can make occupation ID's consistent:\n",
    "\n",
    "def title_set(my_string):\n",
    "    my_list = []\n",
    "    my_list[:0] = my_string\n",
    "    my_list.remove(\"_\")\n",
    "    my_list.append(\".00\")\n",
    "    my_output = \"\".join(my_list)\n",
    "    return my_output\n",
    "\n",
    "#print(title_set(\"45-4023_\"))\n",
    "\n",
    "df5.iloc[:,1] = df5.iloc[:,1].apply(title_set)\n",
    "print(df5.head())\n",
    "df5.info()"
   ]
  },
  {
   "cell_type": "code",
   "execution_count": 10,
   "id": "88670d53",
   "metadata": {},
   "outputs": [
    {
     "name": "stderr",
     "output_type": "stream",
     "text": [
      "<ipython-input-10-27a20ac659ae>:3: SettingWithCopyWarning: \n",
      "A value is trying to be set on a copy of a slice from a DataFrame.\n",
      "Try using .loc[row_indexer,col_indexer] = value instead\n",
      "\n",
      "See the caveats in the documentation: https://pandas.pydata.org/pandas-docs/stable/user_guide/indexing.html#returning-a-view-versus-a-copy\n",
      "  df4[\"Auto label value\"] = np.nan\n",
      "C:\\Users\\jacob\\Anaconda3\\lib\\site-packages\\pandas\\core\\indexing.py:1676: SettingWithCopyWarning: \n",
      "A value is trying to be set on a copy of a slice from a DataFrame.\n",
      "Try using .loc[row_indexer,col_indexer] = value instead\n",
      "\n",
      "See the caveats in the documentation: https://pandas.pydata.org/pandas-docs/stable/user_guide/indexing.html#returning-a-view-versus-a-copy\n",
      "  self._setitem_single_column(ilocs[0], value, pi)\n",
      "C:\\Users\\jacob\\Anaconda3\\lib\\site-packages\\pandas\\core\\indexing.py:1700: SettingWithCopyWarning: \n",
      "A value is trying to be set on a copy of a slice from a DataFrame.\n",
      "Try using .loc[row_indexer,col_indexer] = value instead\n",
      "\n",
      "See the caveats in the documentation: https://pandas.pydata.org/pandas-docs/stable/user_guide/indexing.html#returning-a-view-versus-a-copy\n",
      "  self._setitem_single_column(loc, v, pi)\n"
     ]
    }
   ],
   "source": [
    "#Lets now concatenate the auto labels to our 1st dataframe:\n",
    "import numpy as np\n",
    "df4[\"Auto label value\"] = np.nan\n",
    "for i in list(df5[\"BLS codes\"]):\n",
    "    df4.loc[df4[\"O*NET-SOC Code\"] == i,\"Auto label value\"] = list(df5.loc[df5[\"BLS codes\"] == i,\"Training set automatable labels\"])"
   ]
  },
  {
   "cell_type": "code",
   "execution_count": 11,
   "id": "f37d0dd5",
   "metadata": {},
   "outputs": [
    {
     "name": "stdout",
     "output_type": "stream",
     "text": [
      "<class 'pandas.core.frame.DataFrame'>\n",
      "RangeIndex: 873 entries, 0 to 872\n",
      "Data columns (total 38 columns):\n",
      " #   Column                             Non-Null Count  Dtype  \n",
      "---  ------                             --------------  -----  \n",
      " 0   O*NET-SOC Code                     873 non-null    object \n",
      " 1   Title                              873 non-null    object \n",
      " 2   Reading Comprehension              873 non-null    object \n",
      " 3   Active Listening                   873 non-null    object \n",
      " 4   Writing                            873 non-null    object \n",
      " 5   Speaking                           873 non-null    object \n",
      " 6   Mathematics                        873 non-null    object \n",
      " 7   Science                            873 non-null    object \n",
      " 8   Critical Thinking                  873 non-null    object \n",
      " 9   Active Learning                    873 non-null    object \n",
      " 10  Learning Strategies                873 non-null    object \n",
      " 11  Monitoring                         873 non-null    object \n",
      " 12  Social Perceptiveness              873 non-null    object \n",
      " 13  Coordination                       873 non-null    object \n",
      " 14  Persuasion                         873 non-null    object \n",
      " 15  Negotiation                        873 non-null    object \n",
      " 16  Instructing                        873 non-null    object \n",
      " 17  Service Orientation                873 non-null    object \n",
      " 18  Complex Problem Solving            873 non-null    object \n",
      " 19  Operations Analysis                873 non-null    object \n",
      " 20  Technology Design                  873 non-null    object \n",
      " 21  Equipment Selection                873 non-null    object \n",
      " 22  Installation                       873 non-null    object \n",
      " 23  Programming                        873 non-null    object \n",
      " 24  Operations Monitoring              873 non-null    object \n",
      " 25  Operation and Control              873 non-null    object \n",
      " 26  Equipment Maintenance              873 non-null    object \n",
      " 27  Troubleshooting                    873 non-null    object \n",
      " 28  Repairing                          873 non-null    object \n",
      " 29  Quality Control Analysis           873 non-null    object \n",
      " 30  Judgment and Decision Making       873 non-null    object \n",
      " 31  Systems Analysis                   873 non-null    object \n",
      " 32  Systems Evaluation                 873 non-null    object \n",
      " 33  Time Management                    873 non-null    object \n",
      " 34  Management of Financial Resources  873 non-null    object \n",
      " 35  Management of Material Resources   873 non-null    object \n",
      " 36  Management of Personnel Resources  873 non-null    object \n",
      " 37  Auto label value                   63 non-null     float64\n",
      "dtypes: float64(1), object(37)\n",
      "memory usage: 259.3+ KB\n"
     ]
    }
   ],
   "source": [
    "df4.info()\n",
    "\n",
    "#Note - the auto value count is supposedly 330 non-null, even though it should be 70. After creating a csv from the dataframe,\n",
    "#I found that there were 70 non-null as expected. Worth bringing up with Mike."
   ]
  },
  {
   "cell_type": "code",
   "execution_count": null,
   "id": "6e95a90d",
   "metadata": {},
   "outputs": [],
   "source": [
    "df4.to_csv(\"test.csv\",index=False)"
   ]
  },
  {
   "cell_type": "markdown",
   "id": "b0e2d9a8",
   "metadata": {},
   "source": [
    "### We now have a dataset which encompass jobs titles, SOC codes, skill levels and hand picked auto labels"
   ]
  },
  {
   "cell_type": "markdown",
   "id": "178d2e87",
   "metadata": {},
   "source": [
    "### Lets now split and standardize the data:"
   ]
  },
  {
   "cell_type": "code",
   "execution_count": null,
   "id": "77cc1e57",
   "metadata": {},
   "outputs": [],
   "source": [
    "#To prevent information about the distribution of the test set leaking into the model, we shall first form a training set\n",
    "# and form a scaler operator from this, and then apply this to both training and test sets.\n"
   ]
  },
  {
   "cell_type": "code",
   "execution_count": 12,
   "id": "a0fc4bc6",
   "metadata": {},
   "outputs": [
    {
     "name": "stdout",
     "output_type": "stream",
     "text": [
      "<class 'pandas.core.frame.DataFrame'>\n",
      "RangeIndex: 63 entries, 0 to 62\n",
      "Data columns (total 38 columns):\n",
      " #   Column                             Non-Null Count  Dtype  \n",
      "---  ------                             --------------  -----  \n",
      " 0   O*NET-SOC Code                     63 non-null     object \n",
      " 1   Title                              63 non-null     object \n",
      " 2   Reading Comprehension              63 non-null     object \n",
      " 3   Active Listening                   63 non-null     object \n",
      " 4   Writing                            63 non-null     object \n",
      " 5   Speaking                           63 non-null     object \n",
      " 6   Mathematics                        63 non-null     object \n",
      " 7   Science                            63 non-null     object \n",
      " 8   Critical Thinking                  63 non-null     object \n",
      " 9   Active Learning                    63 non-null     object \n",
      " 10  Learning Strategies                63 non-null     object \n",
      " 11  Monitoring                         63 non-null     object \n",
      " 12  Social Perceptiveness              63 non-null     object \n",
      " 13  Coordination                       63 non-null     object \n",
      " 14  Persuasion                         63 non-null     object \n",
      " 15  Negotiation                        63 non-null     object \n",
      " 16  Instructing                        63 non-null     object \n",
      " 17  Service Orientation                63 non-null     object \n",
      " 18  Complex Problem Solving            63 non-null     object \n",
      " 19  Operations Analysis                63 non-null     object \n",
      " 20  Technology Design                  63 non-null     object \n",
      " 21  Equipment Selection                63 non-null     object \n",
      " 22  Installation                       63 non-null     object \n",
      " 23  Programming                        63 non-null     object \n",
      " 24  Operations Monitoring              63 non-null     object \n",
      " 25  Operation and Control              63 non-null     object \n",
      " 26  Equipment Maintenance              63 non-null     object \n",
      " 27  Troubleshooting                    63 non-null     object \n",
      " 28  Repairing                          63 non-null     object \n",
      " 29  Quality Control Analysis           63 non-null     object \n",
      " 30  Judgment and Decision Making       63 non-null     object \n",
      " 31  Systems Analysis                   63 non-null     object \n",
      " 32  Systems Evaluation                 63 non-null     object \n",
      " 33  Time Management                    63 non-null     object \n",
      " 34  Management of Financial Resources  63 non-null     object \n",
      " 35  Management of Material Resources   63 non-null     object \n",
      " 36  Management of Personnel Resources  63 non-null     object \n",
      " 37  Auto label value                   63 non-null     float64\n",
      "dtypes: float64(1), object(37)\n",
      "memory usage: 18.8+ KB\n"
     ]
    }
   ],
   "source": [
    "#Lets now create a training set which includes only the jobs for which we have hand picked auto values:\n",
    "\n",
    "training_set = df4.dropna(axis=0,how=\"any\")\n",
    "training_set.reset_index(drop = True, inplace=True)\n",
    "#print(training_set.head())\n",
    "training_set.info()\n"
   ]
  },
  {
   "cell_type": "code",
   "execution_count": 13,
   "id": "6c955b9b",
   "metadata": {},
   "outputs": [],
   "source": [
    "#Lets apply stratified sampling on this set to create a training and test set\n",
    "#Code taken from Hands on Machine Learning book\n",
    "\n",
    "from sklearn.model_selection import StratifiedShuffleSplit\n",
    "\n",
    "split = StratifiedShuffleSplit(n_splits=1,test_size=0.2,random_state=42)\n",
    "for train_index, test_index in split.split(training_set,training_set[\"Auto label value\"]):\n",
    "    strat_train_set = training_set.loc[train_index]\n",
    "    strat_test_set = training_set.loc[test_index]\n"
   ]
  },
  {
   "cell_type": "code",
   "execution_count": 14,
   "id": "04871038",
   "metadata": {},
   "outputs": [],
   "source": [
    "strat_train_set.reset_index(drop=True,inplace=True)\n",
    "strat_test_set.reset_index(drop=True,inplace=True)"
   ]
  },
  {
   "cell_type": "code",
   "execution_count": 15,
   "id": "7615f630",
   "metadata": {},
   "outputs": [
    {
     "data": {
      "text/plain": [
       "1.0    0.54\n",
       "0.0    0.46\n",
       "Name: Auto label value, dtype: float64"
      ]
     },
     "execution_count": 15,
     "metadata": {},
     "output_type": "execute_result"
    }
   ],
   "source": [
    "strat_train_set[\"Auto label value\"].value_counts()/len(strat_train_set)"
   ]
  },
  {
   "cell_type": "code",
   "execution_count": 16,
   "id": "4985df74",
   "metadata": {
    "scrolled": false
   },
   "outputs": [],
   "source": [
    "#Now that we have our training set, lets create a standardiser for it:\n",
    "\n",
    "from sklearn.preprocessing import StandardScaler\n",
    "scaler = StandardScaler(with_mean=True,with_std=True)\n",
    "scaler.fit(strat_train_set.iloc[:,2:37])\n",
    "scaled_training_values = scaler.transform(strat_train_set.iloc[:,2:37])\n",
    "scaled_test_values = scaler.transform(strat_test_set.iloc[:,2:37])\n",
    "scaled_train_set = strat_train_set.copy()\n",
    "scaled_test_set = strat_test_set.copy()\n",
    "#print(strat_train_set.head())"
   ]
  },
  {
   "cell_type": "code",
   "execution_count": 17,
   "id": "85fb4ce1",
   "metadata": {},
   "outputs": [],
   "source": [
    "temporary = pd.DataFrame(data=scaled_training_values)\n",
    "temporary2 = pd.DataFrame(data=scaled_test_values) #we create temporary data frames from the numpy arrays we've just created\n",
    "#print(temporary)\n",
    "for i in range(2,37):\n",
    "    scaled_train_set[scaled_train_set.columns[i]] = temporary[temporary.columns[i-2]]\n",
    "    scaled_test_set[scaled_test_set.columns[i]] = temporary2[temporary2.columns[i-2]]\n",
    "\n",
    "#print(scaled_test_set.head())"
   ]
  },
  {
   "cell_type": "code",
   "execution_count": 18,
   "id": "8d735dae",
   "metadata": {},
   "outputs": [
    {
     "name": "stdout",
     "output_type": "stream",
     "text": [
      "  O*NET-SOC Code                                              Title  \\\n",
      "0     13-2081.00   Tax Examiners and Collectors, and Revenue Agents   \n",
      "1     19-1023.00                 Zoologists and Wildlife Biologists   \n",
      "2     43-2011.00  Switchboard Operators, Including Answering Ser...   \n",
      "3     35-9021.00                                        Dishwashers   \n",
      "4     23-1023.00         Judges, Magistrate Judges, and Magistrates   \n",
      "\n",
      "   Reading Comprehension  Active Listening   Writing  Speaking  Mathematics  \\\n",
      "0               0.622682          0.481653 -0.104328  0.349363     0.847035   \n",
      "1               1.252416          0.481653  1.196523  0.529733     0.567301   \n",
      "2              -0.787924         -0.855530 -1.236069 -1.038099    -1.245377   \n",
      "3              -1.896257         -1.858417 -2.055605 -1.912200    -1.670573   \n",
      "4               1.416147          2.995557  2.016059  1.917195    -0.417364   \n",
      "\n",
      "    Science  Critical Thinking  Active Learning  ...  Repairing  \\\n",
      "0 -0.765287           0.064649         0.553186  ...  -0.462245   \n",
      "1  2.650858           0.755342         0.716256  ...  -0.462245   \n",
      "2 -0.765287          -1.137158        -1.165328  ...  -0.462245   \n",
      "3 -0.765287          -2.007432        -1.478925  ...   2.077561   \n",
      "4  0.449734           3.007003         1.807575  ...  -0.462245   \n",
      "\n",
      "   Quality Control Analysis  Judgment and Decision Making  Systems Analysis  \\\n",
      "0                 -0.417819                      0.210561         -0.215801   \n",
      "1                  0.765805                      0.840981          1.071193   \n",
      "2                 -0.263948                     -1.378100         -0.939736   \n",
      "3                  0.623770                     -1.378100         -1.663671   \n",
      "4                 -1.743479                      1.937914          0.783918   \n",
      "\n",
      "   Systems Evaluation  Time Management  Management of Financial Resources  \\\n",
      "0           -0.057285        -0.595966                          -0.058512   \n",
      "1            0.901098         1.202362                           0.479727   \n",
      "2           -1.690893        -1.728913                          -1.039496   \n",
      "3           -1.560204        -1.728913                          -0.605432   \n",
      "4            0.487251         1.651944                          -0.605432   \n",
      "\n",
      "   Management of Material Resources  Management of Personnel Resources  \\\n",
      "0                         -0.642732                          -0.837741   \n",
      "1                          0.611428                           0.476730   \n",
      "2                         -1.274828                          -1.283722   \n",
      "3                         -0.512299                          -0.696904   \n",
      "4                         -0.642732                           0.617567   \n",
      "\n",
      "   Auto label value  \n",
      "0               1.0  \n",
      "1               0.0  \n",
      "2               1.0  \n",
      "3               1.0  \n",
      "4               0.0  \n",
      "\n",
      "[5 rows x 38 columns]\n",
      "  O*NET-SOC Code                     Title  Reading Comprehension  \\\n",
      "0     19-3011.00                Economists               1.416147   \n",
      "1     47-2211.00       Sheet Metal Workers              -1.266522   \n",
      "2     51-6031.00  Sewing Machine Operators              -1.896257   \n",
      "3     17-1012.00      Landscape Architects               0.471545   \n",
      "4     27-3042.00         Technical Writers               1.579878   \n",
      "\n",
      "   Active Listening   Writing  Speaking  Mathematics   Science  \\\n",
      "0          0.481653  1.196523  1.043094     1.965973  1.215725   \n",
      "1         -1.363659 -1.574290 -0.857729     0.847035 -0.104950   \n",
      "2         -2.032251 -1.730392 -2.245191    -0.685909 -0.765287   \n",
      "3          0.481653  0.715208  0.696228     0.701574  1.770408   \n",
      "4          0.321191  2.172161  0.349363    -2.095769 -0.545174   \n",
      "\n",
      "   Critical Thinking  Active Learning  ...  Repairing  \\\n",
      "0           1.280270         1.029854  ...  -0.462245   \n",
      "1          -0.791811        -1.002257  ...   2.864901   \n",
      "2          -2.007432        -1.629452  ...   0.807658   \n",
      "3           0.423810         0.716256  ...  -0.462245   \n",
      "4           0.423810         0.553186  ...  -0.462245   \n",
      "\n",
      "   Quality Control Analysis  Judgment and Decision Making  Systems Analysis  \\\n",
      "0                 -1.293701                      0.992282          1.507852   \n",
      "1                  2.103300                     -0.419860         -0.652460   \n",
      "2                  1.357617                     -1.529401         -1.089119   \n",
      "3                  0.765805                      0.677072          0.933301   \n",
      "4                  0.481735                     -0.268559         -0.514568   \n",
      "\n",
      "   Systems Evaluation  Time Management  Management of Financial Resources  \\\n",
      "0            1.304055        -0.146384                          -0.058512   \n",
      "1           -0.601821        -0.362183                          -0.605432   \n",
      "2           -1.560204        -1.728913                          -0.492576   \n",
      "3            1.304055         1.202362                           1.243680   \n",
      "4           -1.418625        -0.146384                          -0.926640   \n",
      "\n",
      "   Management of Material Resources  Management of Personnel Resources  \\\n",
      "0                         -0.271500                          -0.250923   \n",
      "1                         -0.010635                           0.335894   \n",
      "2                         -0.642732                          -1.283722   \n",
      "3                          1.494356                           0.617567   \n",
      "4                         -0.773164                          -0.556068   \n",
      "\n",
      "   Auto label value  \n",
      "0               0.0  \n",
      "1               1.0  \n",
      "2               1.0  \n",
      "3               0.0  \n",
      "4               1.0  \n",
      "\n",
      "[5 rows x 38 columns]\n"
     ]
    }
   ],
   "source": [
    "print(scaled_train_set.head())\n",
    "print(scaled_test_set.head())"
   ]
  },
  {
   "cell_type": "markdown",
   "id": "45a5c7ed",
   "metadata": {},
   "source": [
    "### We now have a fully scaled training and test set!"
   ]
  },
  {
   "cell_type": "markdown",
   "id": "e78aad85",
   "metadata": {},
   "source": [
    "### We can now perform Principal Component Analysis"
   ]
  },
  {
   "cell_type": "code",
   "execution_count": null,
   "id": "91dfe4a4",
   "metadata": {},
   "outputs": [],
   "source": [
    "#We begin by creating a centred training set:\n",
    "\n",
    "X = strat_train_set.drop([\"Title\",\"O*NET-SOC Code\"],axis=1)\n",
    "\n",
    "#We now use the Scikit learn toolkit to visualise how the explained variance ratio changes with no. dimensions:\n",
    "\n",
    "from sklearn.decomposition import PCA\n",
    "pca = PCA()\n",
    "pca.fit(X)\n",
    "cumsum = np.cumsum(pca.explained_variance_ratio_)\n",
    "dim = range(len(X.columns))"
   ]
  },
  {
   "cell_type": "code",
   "execution_count": null,
   "id": "a4ea62cc",
   "metadata": {},
   "outputs": [],
   "source": [
    "import matplotlib.pyplot as plt\n",
    "plt.plot(np.array(dim),np.array(cumsum))"
   ]
  },
  {
   "cell_type": "code",
   "execution_count": null,
   "id": "e40d274a",
   "metadata": {},
   "outputs": [],
   "source": [
    "#Having visualized the effect of dimensionality, we can implement this to our dataset:\n",
    "\n",
    "pca2 = PCA(n_components=0.95)\n",
    "X_reduced = pca2.fit_transform(X)\n",
    "print(X_reduced[1])\n"
   ]
  },
  {
   "cell_type": "markdown",
   "id": "badabc02",
   "metadata": {},
   "source": [
    "### We shall now fit a GP classifier to the unreduced dataset:"
   ]
  },
  {
   "cell_type": "code",
   "execution_count": 60,
   "id": "30b04605",
   "metadata": {},
   "outputs": [
    {
     "name": "stderr",
     "output_type": "stream",
     "text": [
      "C:\\Users\\jacob\\Anaconda3\\lib\\site-packages\\sklearn\\utils\\validation.py:63: DataConversionWarning: A column-vector y was passed when a 1d array was expected. Please change the shape of y to (n_samples, ), for example using ravel().\n",
      "  return f(*args, **kwargs)\n"
     ]
    },
    {
     "data": {
      "text/plain": [
       "{'copy_X_train': True,\n",
       " 'kernel': 1**2 * RBF(length_scale=2),\n",
       " 'max_iter_predict': 100,\n",
       " 'multi_class': 'one_vs_rest',\n",
       " 'n_jobs': None,\n",
       " 'n_restarts_optimizer': 0,\n",
       " 'optimizer': 'fmin_l_bfgs_b',\n",
       " 'random_state': None,\n",
       " 'warm_start': False}"
      ]
     },
     "execution_count": 60,
     "metadata": {},
     "output_type": "execute_result"
    }
   ],
   "source": [
    "#Begin by creating numpy arrays for our input X and output Y:\n",
    "\n",
    "X = np.array([scaled_train_set.iloc[:,2:37]])\n",
    "Y = np.array([scaled_train_set.iloc[:,37]])\n",
    "#X = np.transpose(X)\n",
    "#Y = np.transpose(Y)\n",
    "X = np.reshape(X,(50,35)) #Reshape to go from 3d matrix to 2d\n",
    "Y = np.reshape(Y,(50,1)) # ^\n",
    "\n",
    "#Now generate a kernel:\n",
    "from sklearn.gaussian_process import GaussianProcessClassifier\n",
    "from sklearn.gaussian_process.kernels import RBF\n",
    "\n",
    "length_scale = 2\n",
    "kernel = 1 * RBF(length_scale)\n",
    "gpc = GaussianProcessClassifier(kernel=kernel,optimizer='fmin_l_bfgs_b').fit(X, Y)  #This one finds optimal hyperparameters\n",
    "#gpc = GaussianProcessClassifier(kernel=kernel,optimizer=None).fit(X, Y)\n",
    "gpc.get_params(deep=False)\n",
    "\n"
   ]
  },
  {
   "cell_type": "code",
   "execution_count": null,
   "id": "40e0f91a",
   "metadata": {},
   "outputs": [],
   "source": [
    "# Now see how this model does on the test set:\n",
    "\n",
    "X = np.array([strat_test_set.iloc[:,2:37]])\n",
    "Y = np.array([strat_test_set.iloc[:,37]])\n",
    "X = np.transpose(X)\n",
    "Y = np.transpose(Y)\n",
    "X = np.reshape(X,(13,35)) #Reshape to go from 3d matrix to 2d\n",
    "\n",
    "gpc.score(X,Y)"
   ]
  },
  {
   "cell_type": "markdown",
   "id": "13de51ce",
   "metadata": {},
   "source": [
    "### Lets now apply k-fold cross validation on the model:"
   ]
  },
  {
   "cell_type": "code",
   "execution_count": 20,
   "id": "56997c4d",
   "metadata": {},
   "outputs": [],
   "source": [
    "X_train = np.array(scaled_train_set.iloc[:,2:37])\n",
    "#X_train = np.transpose(X_train)\n",
    "y_train = np.array(scaled_train_set.iloc[:,37])\n",
    "#y_train = np.transpose(y_train)"
   ]
  },
  {
   "cell_type": "code",
   "execution_count": 40,
   "id": "d6974f1a",
   "metadata": {},
   "outputs": [
    {
     "name": "stdout",
     "output_type": "stream",
     "text": [
      "0.8\n",
      "0.8\n",
      "0.9\n",
      "0.7\n",
      "0.8\n"
     ]
    }
   ],
   "source": [
    "from sklearn.model_selection import StratifiedKFold\n",
    "from sklearn.base import clone\n",
    "\n",
    "skfolds = StratifiedKFold(n_splits=5,shuffle=True,random_state=42)\n",
    "\n",
    "\n",
    "for train_index, test_index in skfolds.split(X_train,y_train):\n",
    "    clone_gpc = clone(gpc)\n",
    "    X_train_folds = X_train[train_index]\n",
    "    y_train_folds = y_train[train_index]\n",
    "    X_test_fold = X_train[test_index]\n",
    "    y_test_fold = y_train[test_index]\n",
    "    \n",
    "    clone_gpc.fit(X_train_folds,y_train_folds)\n",
    "    y_pred = clone_gpc.predict(X_test_fold)\n",
    "    n_correct = sum(y_pred == y_test_fold)\n",
    "    print(n_correct/len(y_pred))\n",
    "    "
   ]
  },
  {
   "cell_type": "markdown",
   "id": "68786926",
   "metadata": {},
   "source": [
    "### What about an F1 score?"
   ]
  },
  {
   "cell_type": "code",
   "execution_count": 62,
   "id": "185668f2",
   "metadata": {},
   "outputs": [
    {
     "data": {
      "text/plain": [
       "0.8333333333333334"
      ]
     },
     "execution_count": 62,
     "metadata": {},
     "output_type": "execute_result"
    }
   ],
   "source": [
    "from sklearn.model_selection import cross_val_predict\n",
    "from sklearn.metrics import f1_score\n",
    "\n",
    "y_train_pred = cross_val_predict(gpc,X_train,y_train,cv=5)\n",
    "f1_score(y_train,y_train_pred)"
   ]
  },
  {
   "cell_type": "markdown",
   "id": "f79c6f32",
   "metadata": {},
   "source": [
    "### And how about an AUC value?"
   ]
  },
  {
   "cell_type": "code",
   "execution_count": 61,
   "id": "40910d2f",
   "metadata": {},
   "outputs": [
    {
     "data": {
      "text/plain": [
       "0.9404186795491143"
      ]
     },
     "execution_count": 61,
     "metadata": {},
     "output_type": "execute_result"
    }
   ],
   "source": [
    "from sklearn.metrics import roc_auc_score\n",
    "y_probas = cross_val_predict(gpc,X_train,y_train,cv=5,method=\"predict_proba\")\n",
    "y_scores = y_probas[:,1]\n",
    "roc_auc_score(y_train,y_scores)"
   ]
  },
  {
   "cell_type": "markdown",
   "id": "1a1ddfdf",
   "metadata": {},
   "source": [
    "### And a log-likelihood?"
   ]
  },
  {
   "cell_type": "code",
   "execution_count": 63,
   "id": "424fa99e",
   "metadata": {},
   "outputs": [
    {
     "data": {
      "text/plain": [
       "-25.36844170550148"
      ]
     },
     "execution_count": 63,
     "metadata": {},
     "output_type": "execute_result"
    }
   ],
   "source": [
    "gpc.log_marginal_likelihood(theta=None, eval_gradient=False, clone_kernel=True)"
   ]
  },
  {
   "cell_type": "markdown",
   "id": "a00d78e0",
   "metadata": {},
   "source": [
    "### It is worth using the model to predict values for the test set to ensure it is working as I want it to:"
   ]
  },
  {
   "cell_type": "code",
   "execution_count": 43,
   "id": "b4d045d1",
   "metadata": {},
   "outputs": [],
   "source": [
    "X_test = np.array(scaled_test_set.iloc[:,2:37])\n",
    "y_test = np.array(scaled_test_set.iloc[:,37])\n",
    "\n",
    "y_pred = gpc.predict(X_test)"
   ]
  },
  {
   "cell_type": "code",
   "execution_count": 44,
   "id": "09f0c78c",
   "metadata": {},
   "outputs": [
    {
     "name": "stdout",
     "output_type": "stream",
     "text": [
      "[0. 1. 1. 0. 1. 0. 1. 0. 1. 1. 0. 1. 0.]\n",
      "[1. 0. 1. 0. 1. 0. 1. 0. 1. 1. 0. 1. 0.]\n"
     ]
    }
   ],
   "source": [
    "print(y_test)\n",
    "print(y_pred)"
   ]
  },
  {
   "cell_type": "code",
   "execution_count": 45,
   "id": "c8f8dc9e",
   "metadata": {},
   "outputs": [
    {
     "data": {
      "text/plain": [
       "array([[0.42042441, 0.57957559],\n",
       "       [0.50987293, 0.49012707],\n",
       "       [0.44850662, 0.55149338],\n",
       "       [0.5568129 , 0.4431871 ],\n",
       "       [0.47591363, 0.52408637],\n",
       "       [0.52848862, 0.47151138],\n",
       "       [0.42213697, 0.57786303],\n",
       "       [0.50053099, 0.49946901],\n",
       "       [0.49766305, 0.50233695],\n",
       "       [0.46988907, 0.53011093],\n",
       "       [0.50221117, 0.49778883],\n",
       "       [0.42999738, 0.57000262],\n",
       "       [0.50607506, 0.49392494]])"
      ]
     },
     "execution_count": 45,
     "metadata": {},
     "output_type": "execute_result"
    }
   ],
   "source": [
    "gpc.predict_proba(X_test)"
   ]
  },
  {
   "cell_type": "markdown",
   "id": "d6bd5b80",
   "metadata": {},
   "source": [
    "### We now have a fully working GP classifier!"
   ]
  },
  {
   "cell_type": "markdown",
   "id": "52436a7e",
   "metadata": {},
   "source": [
    "### Lets now consider the interpretability:"
   ]
  },
  {
   "cell_type": "code",
   "execution_count": 46,
   "id": "7c840583",
   "metadata": {},
   "outputs": [
    {
     "name": "stdout",
     "output_type": "stream",
     "text": [
      "                             Features  Importances\n",
      "0               Reading Comprehension     0.038462\n",
      "1                    Active Listening     0.012821\n",
      "2                             Writing     0.025641\n",
      "3                            Speaking     0.007692\n",
      "4                         Mathematics     0.087179\n",
      "5                             Science     0.030769\n",
      "6                   Critical Thinking     0.033333\n",
      "7                     Active Learning     0.033333\n",
      "8                 Learning Strategies     0.035897\n",
      "9                          Monitoring     0.064103\n",
      "10              Social Perceptiveness     0.074359\n",
      "11                       Coordination     0.112821\n",
      "12                         Persuasion     0.064103\n",
      "13                        Negotiation     0.056410\n",
      "14                        Instructing     0.053846\n",
      "15                Service Orientation     0.097436\n",
      "16            Complex Problem Solving     0.025641\n",
      "17                Operations Analysis     0.000000\n",
      "18                  Technology Design     0.089744\n",
      "19                Equipment Selection     0.010256\n",
      "20                       Installation     0.064103\n",
      "21                        Programming     0.030769\n",
      "22              Operations Monitoring     0.056410\n",
      "23              Operation and Control     0.064103\n",
      "24              Equipment Maintenance     0.046154\n",
      "25                    Troubleshooting     0.064103\n",
      "26                          Repairing     0.048718\n",
      "27           Quality Control Analysis     0.105128\n",
      "28       Judgment and Decision Making     0.058974\n",
      "29                   Systems Analysis     0.000000\n",
      "30                 Systems Evaluation     0.000000\n",
      "31                    Time Management     0.061538\n",
      "32  Management of Financial Resources     0.017949\n",
      "33   Management of Material Resources     0.064103\n",
      "34  Management of Personnel Resources     0.089744\n"
     ]
    }
   ],
   "source": [
    "#We shall use the feature permutation method:\n",
    "\n",
    "from sklearn.inspection import permutation_importance\n",
    "feature_importance = pd.DataFrame({\"Features\":np.array(training_set.columns[2:37])})\n",
    "\n",
    "r = permutation_importance(gpc,X_test,y_test,n_repeats=30,random_state=0)\n",
    "feature_importance[\"Importances\"] = abs(r.importances_mean)\n",
    "#feature_importance = feature_importance\n",
    "print(feature_importance)\n",
    "#print(r.importances_mean)\n",
    "\n",
    "#for i in r.importances_mean.argsort()[::-1]:\n",
    "#    if r.importances_mean[i] - 2 * r.importances_std[i] > 0:\n",
    "#        print(f\"{feature_importance.Features[i]:<8}\"\n",
    "#        f\"{r.importances_mean[i]:.3f}\"\n",
    "#        f\" +/- {r.importances_std[i]:.3f}\")"
   ]
  },
  {
   "cell_type": "markdown",
   "id": "afb49c78",
   "metadata": {},
   "source": [
    "### Now that we have the feature importances, lets calculate the entropy:"
   ]
  },
  {
   "cell_type": "code",
   "execution_count": 47,
   "id": "79ce2fd6",
   "metadata": {},
   "outputs": [
    {
     "name": "stdout",
     "output_type": "stream",
     "text": [
      "2.7818979230540304\n"
     ]
    }
   ],
   "source": [
    "# For the moment we won't normalise the distribution - might have to do this in the future (ask Mike)\n",
    "\n",
    "def log_calc(my_list):    #This function deals with values of 0\n",
    "    my_output = [0]*len(my_list)\n",
    "    for i in range(len(my_list)):\n",
    "        if my_list[i] != 0.0:\n",
    "            my_output[i] = np.log(my_list[i])\n",
    "    return my_output        \n",
    "            \n",
    "temp = abs(r.importances_mean)\n",
    "tempnew = temp/sum(temp)\n",
    "vector1 = np.array(tempnew)\n",
    "vector2 = np.array(log_calc(abs(r.importances_mean)))\n",
    "entropy = -1*np.dot(vector1,vector2)\n",
    "print(entropy)"
   ]
  },
  {
   "cell_type": "markdown",
   "id": "ba7d928b",
   "metadata": {},
   "source": [
    "### Lets now implement a gridsearch method:"
   ]
  },
  {
   "cell_type": "code",
   "execution_count": 72,
   "id": "8e9ca5ad",
   "metadata": {},
   "outputs": [
    {
     "name": "stderr",
     "output_type": "stream",
     "text": [
      "C:\\Users\\jacob\\Anaconda3\\lib\\site-packages\\sklearn\\utils\\validation.py:63: DataConversionWarning: A column-vector y was passed when a 1d array was expected. Please change the shape of y to (n_samples, ), for example using ravel().\n",
      "  return f(*args, **kwargs)\n",
      "C:\\Users\\jacob\\Anaconda3\\lib\\site-packages\\sklearn\\utils\\validation.py:63: DataConversionWarning: A column-vector y was passed when a 1d array was expected. Please change the shape of y to (n_samples, ), for example using ravel().\n",
      "  return f(*args, **kwargs)\n",
      "C:\\Users\\jacob\\Anaconda3\\lib\\site-packages\\sklearn\\utils\\validation.py:63: DataConversionWarning: A column-vector y was passed when a 1d array was expected. Please change the shape of y to (n_samples, ), for example using ravel().\n",
      "  return f(*args, **kwargs)\n",
      "C:\\Users\\jacob\\Anaconda3\\lib\\site-packages\\sklearn\\utils\\validation.py:63: DataConversionWarning: A column-vector y was passed when a 1d array was expected. Please change the shape of y to (n_samples, ), for example using ravel().\n",
      "  return f(*args, **kwargs)\n",
      "C:\\Users\\jacob\\Anaconda3\\lib\\site-packages\\sklearn\\utils\\validation.py:63: DataConversionWarning: A column-vector y was passed when a 1d array was expected. Please change the shape of y to (n_samples, ), for example using ravel().\n",
      "  return f(*args, **kwargs)\n",
      "C:\\Users\\jacob\\Anaconda3\\lib\\site-packages\\sklearn\\utils\\validation.py:63: DataConversionWarning: A column-vector y was passed when a 1d array was expected. Please change the shape of y to (n_samples, ), for example using ravel().\n",
      "  return f(*args, **kwargs)\n",
      "C:\\Users\\jacob\\Anaconda3\\lib\\site-packages\\sklearn\\utils\\validation.py:63: DataConversionWarning: A column-vector y was passed when a 1d array was expected. Please change the shape of y to (n_samples, ), for example using ravel().\n",
      "  return f(*args, **kwargs)\n",
      "C:\\Users\\jacob\\Anaconda3\\lib\\site-packages\\sklearn\\utils\\validation.py:63: DataConversionWarning: A column-vector y was passed when a 1d array was expected. Please change the shape of y to (n_samples, ), for example using ravel().\n",
      "  return f(*args, **kwargs)\n",
      "C:\\Users\\jacob\\Anaconda3\\lib\\site-packages\\sklearn\\utils\\validation.py:63: DataConversionWarning: A column-vector y was passed when a 1d array was expected. Please change the shape of y to (n_samples, ), for example using ravel().\n",
      "  return f(*args, **kwargs)\n",
      "C:\\Users\\jacob\\Anaconda3\\lib\\site-packages\\sklearn\\utils\\validation.py:63: DataConversionWarning: A column-vector y was passed when a 1d array was expected. Please change the shape of y to (n_samples, ), for example using ravel().\n",
      "  return f(*args, **kwargs)\n",
      "C:\\Users\\jacob\\Anaconda3\\lib\\site-packages\\sklearn\\utils\\validation.py:63: DataConversionWarning: A column-vector y was passed when a 1d array was expected. Please change the shape of y to (n_samples, ), for example using ravel().\n",
      "  return f(*args, **kwargs)\n"
     ]
    },
    {
     "data": {
      "text/plain": [
       "{'mean_fit_time': array([0.00260601, 0.00175409]),\n",
       " 'std_fit_time': array([0.00049787, 0.00038667]),\n",
       " 'mean_score_time': array([0.00128713, 0.00079765]),\n",
       " 'std_score_time': array([0.00039434, 0.00039883]),\n",
       " 'param_kernel': masked_array(data=[1**2 * RBF(length_scale=1), 1**2 * RBF(length_scale=2)],\n",
       "              mask=[False, False],\n",
       "        fill_value='?',\n",
       "             dtype=object),\n",
       " 'params': [{'kernel': 1**2 * RBF(length_scale=1)},\n",
       "  {'kernel': 1**2 * RBF(length_scale=2)}],\n",
       " 'split0_test_score': array([0.83333333, 1.        ]),\n",
       " 'split1_test_score': array([1.        , 0.91666667]),\n",
       " 'split2_test_score': array([0.92, 0.88]),\n",
       " 'split3_test_score': array([0.8, 1. ]),\n",
       " 'split4_test_score': array([0.72, 0.76]),\n",
       " 'mean_test_score': array([0.85466667, 0.91133333]),\n",
       " 'std_test_score': array([0.0969215 , 0.08903433]),\n",
       " 'rank_test_score': array([2, 1])}"
      ]
     },
     "execution_count": 72,
     "metadata": {},
     "output_type": "execute_result"
    }
   ],
   "source": [
    "from sklearn.model_selection import GridSearchCV\n",
    "\n",
    "clf = GridSearchCV(GaussianProcessClassifier(optimizer=None),{'kernel': [1*RBF(1),1*RBF(2)]},cv=5,return_train_score=False,scoring='roc_auc')\n",
    "clf.fit(X,Y)\n",
    "clf.cv_results_"
   ]
  },
  {
   "cell_type": "code",
   "execution_count": 69,
   "id": "3d62ce5b",
   "metadata": {},
   "outputs": [
    {
     "data": {
      "text/html": [
       "<div>\n",
       "<style scoped>\n",
       "    .dataframe tbody tr th:only-of-type {\n",
       "        vertical-align: middle;\n",
       "    }\n",
       "\n",
       "    .dataframe tbody tr th {\n",
       "        vertical-align: top;\n",
       "    }\n",
       "\n",
       "    .dataframe thead th {\n",
       "        text-align: right;\n",
       "    }\n",
       "</style>\n",
       "<table border=\"1\" class=\"dataframe\">\n",
       "  <thead>\n",
       "    <tr style=\"text-align: right;\">\n",
       "      <th></th>\n",
       "      <th>mean_fit_time</th>\n",
       "      <th>std_fit_time</th>\n",
       "      <th>mean_score_time</th>\n",
       "      <th>std_score_time</th>\n",
       "      <th>param_kernel</th>\n",
       "      <th>params</th>\n",
       "      <th>split0_test_score</th>\n",
       "      <th>split1_test_score</th>\n",
       "      <th>split2_test_score</th>\n",
       "      <th>split3_test_score</th>\n",
       "      <th>split4_test_score</th>\n",
       "      <th>mean_test_score</th>\n",
       "      <th>std_test_score</th>\n",
       "      <th>rank_test_score</th>\n",
       "    </tr>\n",
       "  </thead>\n",
       "  <tbody>\n",
       "    <tr>\n",
       "      <th>0</th>\n",
       "      <td>0.002180</td>\n",
       "      <td>0.001166</td>\n",
       "      <td>0.001196</td>\n",
       "      <td>0.000401</td>\n",
       "      <td>1**2 * RBF(length_scale=1)</td>\n",
       "      <td>{'kernel': 1**2 * RBF(length_scale=1)}</td>\n",
       "      <td>0.833333</td>\n",
       "      <td>1.000000</td>\n",
       "      <td>0.92</td>\n",
       "      <td>0.8</td>\n",
       "      <td>0.72</td>\n",
       "      <td>0.854667</td>\n",
       "      <td>0.096922</td>\n",
       "      <td>2</td>\n",
       "    </tr>\n",
       "    <tr>\n",
       "      <th>1</th>\n",
       "      <td>0.001596</td>\n",
       "      <td>0.000490</td>\n",
       "      <td>0.000974</td>\n",
       "      <td>0.000574</td>\n",
       "      <td>1**2 * RBF(length_scale=2)</td>\n",
       "      <td>{'kernel': 1**2 * RBF(length_scale=2)}</td>\n",
       "      <td>1.000000</td>\n",
       "      <td>0.916667</td>\n",
       "      <td>0.88</td>\n",
       "      <td>1.0</td>\n",
       "      <td>0.76</td>\n",
       "      <td>0.911333</td>\n",
       "      <td>0.089034</td>\n",
       "      <td>1</td>\n",
       "    </tr>\n",
       "  </tbody>\n",
       "</table>\n",
       "</div>"
      ],
      "text/plain": [
       "   mean_fit_time  std_fit_time  mean_score_time  std_score_time  \\\n",
       "0       0.002180      0.001166         0.001196        0.000401   \n",
       "1       0.001596      0.000490         0.000974        0.000574   \n",
       "\n",
       "                 param_kernel                                  params  \\\n",
       "0  1**2 * RBF(length_scale=1)  {'kernel': 1**2 * RBF(length_scale=1)}   \n",
       "1  1**2 * RBF(length_scale=2)  {'kernel': 1**2 * RBF(length_scale=2)}   \n",
       "\n",
       "   split0_test_score  split1_test_score  split2_test_score  split3_test_score  \\\n",
       "0           0.833333           1.000000               0.92                0.8   \n",
       "1           1.000000           0.916667               0.88                1.0   \n",
       "\n",
       "   split4_test_score  mean_test_score  std_test_score  rank_test_score  \n",
       "0               0.72         0.854667        0.096922                2  \n",
       "1               0.76         0.911333        0.089034                1  "
      ]
     },
     "execution_count": 69,
     "metadata": {},
     "output_type": "execute_result"
    }
   ],
   "source": [
    "gridsearchdf = pd.DataFrame(clf.cv_results_)\n",
    "gridsearchdf"
   ]
  },
  {
   "cell_type": "code",
   "execution_count": 98,
   "id": "c3e52523",
   "metadata": {},
   "outputs": [
    {
     "name": "stdout",
     "output_type": "stream",
     "text": [
      "   length_scale  const       AUC  log-likelihood\n",
      "0           1.0    1.0  0.834138      -34.966601\n",
      "1           1.0    2.0  0.835749      -35.409525\n",
      "2           1.0    3.0  0.835749      -35.762519\n",
      "3           2.0    1.0  0.898551      -33.066213\n",
      "4           2.0    2.0  0.901771      -32.609248\n"
     ]
    },
    {
     "name": "stderr",
     "output_type": "stream",
     "text": [
      "C:\\Users\\jacob\\Anaconda3\\lib\\site-packages\\sklearn\\utils\\validation.py:63: DataConversionWarning: A column-vector y was passed when a 1d array was expected. Please change the shape of y to (n_samples, ), for example using ravel().\n",
      "  return f(*args, **kwargs)\n",
      "C:\\Users\\jacob\\Anaconda3\\lib\\site-packages\\sklearn\\utils\\validation.py:63: DataConversionWarning: A column-vector y was passed when a 1d array was expected. Please change the shape of y to (n_samples, ), for example using ravel().\n",
      "  return f(*args, **kwargs)\n",
      "C:\\Users\\jacob\\Anaconda3\\lib\\site-packages\\sklearn\\utils\\validation.py:63: DataConversionWarning: A column-vector y was passed when a 1d array was expected. Please change the shape of y to (n_samples, ), for example using ravel().\n",
      "  return f(*args, **kwargs)\n",
      "C:\\Users\\jacob\\Anaconda3\\lib\\site-packages\\sklearn\\utils\\validation.py:63: DataConversionWarning: A column-vector y was passed when a 1d array was expected. Please change the shape of y to (n_samples, ), for example using ravel().\n",
      "  return f(*args, **kwargs)\n",
      "C:\\Users\\jacob\\Anaconda3\\lib\\site-packages\\sklearn\\utils\\validation.py:63: DataConversionWarning: A column-vector y was passed when a 1d array was expected. Please change the shape of y to (n_samples, ), for example using ravel().\n",
      "  return f(*args, **kwargs)\n",
      "C:\\Users\\jacob\\Anaconda3\\lib\\site-packages\\sklearn\\utils\\validation.py:63: DataConversionWarning: A column-vector y was passed when a 1d array was expected. Please change the shape of y to (n_samples, ), for example using ravel().\n",
      "  return f(*args, **kwargs)\n",
      "C:\\Users\\jacob\\Anaconda3\\lib\\site-packages\\sklearn\\utils\\validation.py:63: DataConversionWarning: A column-vector y was passed when a 1d array was expected. Please change the shape of y to (n_samples, ), for example using ravel().\n",
      "  return f(*args, **kwargs)\n",
      "C:\\Users\\jacob\\Anaconda3\\lib\\site-packages\\sklearn\\utils\\validation.py:63: DataConversionWarning: A column-vector y was passed when a 1d array was expected. Please change the shape of y to (n_samples, ), for example using ravel().\n",
      "  return f(*args, **kwargs)\n",
      "C:\\Users\\jacob\\Anaconda3\\lib\\site-packages\\sklearn\\utils\\validation.py:63: DataConversionWarning: A column-vector y was passed when a 1d array was expected. Please change the shape of y to (n_samples, ), for example using ravel().\n",
      "  return f(*args, **kwargs)\n"
     ]
    }
   ],
   "source": [
    "#Lets try manually creating the functions:\n",
    "\n",
    "n_lengthscale = 3\n",
    "n_const = 3\n",
    "\n",
    "#The above values control the number of different hyperparaemters we want to test on\n",
    "\n",
    "lengthscale = np.linspace(1,3.0,n_lengthscale)\n",
    "const = np.linspace(1,3.0,n_const)\n",
    "\n",
    "resultsdf = pd.DataFrame({'length_scale':[0.0]*(n_lengthscale*n_const),'const':[0.0]*(n_lengthscale*n_const),'AUC':[0.0]*(n_lengthscale*n_const),\"log-likelihood\":[0.0]*(n_lengthscale*n_const)})\n",
    "\n",
    "iteration = 0\n",
    "\n",
    "for i in lengthscale:\n",
    "    for j in const:\n",
    "        kernel = j*RBF(i)\n",
    "        gpc = GaussianProcessClassifier(kernel=kernel,optimizer=None).fit(X, Y)\n",
    "        \n",
    "        y_probas = cross_val_predict(gpc,X_train,y_train,cv=5,method=\"predict_proba\")\n",
    "        y_scores = y_probas[:,1]\n",
    "        resultsdf.iloc[iteration]['AUC'] = float(roc_auc_score(y_train,y_scores))\n",
    "        \n",
    "        resultsdf.iloc[iteration]['log-likelihood'] = gpc.log_marginal_likelihood(theta=None, eval_gradient=False, clone_kernel=True)\n",
    "        \n",
    "        resultsdf.iloc[iteration]['length_scale'] = i\n",
    "        resultsdf.iloc[iteration]['const'] = j\n",
    "        \n",
    "        iteration+=1\n",
    "\n",
    "print(resultsdf.head())"
   ]
  },
  {
   "cell_type": "code",
   "execution_count": null,
   "id": "db0abaca",
   "metadata": {},
   "outputs": [],
   "source": []
  }
 ],
 "metadata": {
  "kernelspec": {
   "display_name": "Python 3",
   "language": "python",
   "name": "python3"
  },
  "language_info": {
   "codemirror_mode": {
    "name": "ipython",
    "version": 3
   },
   "file_extension": ".py",
   "mimetype": "text/x-python",
   "name": "python",
   "nbconvert_exporter": "python",
   "pygments_lexer": "ipython3",
   "version": "3.8.8"
  }
 },
 "nbformat": 4,
 "nbformat_minor": 5
}
