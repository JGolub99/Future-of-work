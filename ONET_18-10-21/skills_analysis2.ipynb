{
 "cells": [
  {
   "cell_type": "code",
   "execution_count": 1,
   "id": "9e133cd4",
   "metadata": {},
   "outputs": [
    {
     "name": "stdout",
     "output_type": "stream",
     "text": [
      "  O*NET-SOC Code             Title Element ID           Element Name  \\\n",
      "0     11-1011.00  Chief Executives    2.A.1.a  Reading Comprehension   \n",
      "1     11-1011.00  Chief Executives    2.A.1.b       Active Listening   \n",
      "2     11-1011.00  Chief Executives    2.A.1.c                Writing   \n",
      "3     11-1011.00  Chief Executives    2.A.1.d               Speaking   \n",
      "4     11-1011.00  Chief Executives    2.A.1.e            Mathematics   \n",
      "\n",
      "   Data Value  Standard Error  Lower CI Bound  Upper CI Bound  \n",
      "0        4.75            0.16            4.43            5.07  \n",
      "1        4.88            0.23            4.43            5.32  \n",
      "2        4.38            0.18            4.02            4.73  \n",
      "3        4.88            0.13            4.63            5.12  \n",
      "4        3.62            0.26            3.11            4.14  \n"
     ]
    }
   ],
   "source": [
    "import pandas as pd\n",
    "\n",
    "df = pd.read_excel(\"Skills.xlsx\")\n",
    "#print(df.head())\n",
    "\n",
    "#Lets remove the importance values:\n",
    "\n",
    "df2 = df.loc[df[\"Scale Name\"] == \"Level\"]\n",
    "df2.reset_index(drop = True, inplace = True)\n",
    "#print(df2.head())\n",
    "\n",
    "#Lets now remove the irrelevent columns:\n",
    "\n",
    "df3 = df2.drop(columns = [\"Scale ID\",\"Scale Name\",\"N\",\"Recommend Suppress\",\"Not Relevant\",\"Date\",\"Domain Source\"])\n",
    "print(df3.head())\n",
    "\n",
    "#NOTE that we have ignored the suppress recomendations, we shall continue with this for now but will need to address this later\n"
   ]
  },
  {
   "cell_type": "code",
   "execution_count": 2,
   "id": "420df498",
   "metadata": {},
   "outputs": [
    {
     "name": "stdout",
     "output_type": "stream",
     "text": [
      "<class 'pandas.core.frame.DataFrame'>\n",
      "RangeIndex: 30555 entries, 0 to 30554\n",
      "Data columns (total 8 columns):\n",
      " #   Column          Non-Null Count  Dtype  \n",
      "---  ------          --------------  -----  \n",
      " 0   O*NET-SOC Code  30555 non-null  object \n",
      " 1   Title           30555 non-null  object \n",
      " 2   Element ID      30555 non-null  object \n",
      " 3   Element Name    30555 non-null  object \n",
      " 4   Data Value      30555 non-null  float64\n",
      " 5   Standard Error  28700 non-null  float64\n",
      " 6   Lower CI Bound  28700 non-null  float64\n",
      " 7   Upper CI Bound  28700 non-null  float64\n",
      "dtypes: float64(4), object(4)\n",
      "memory usage: 1.9+ MB\n",
      "  O*NET-SOC Code             Title Element ID           Element Name  \\\n",
      "0     11-1011.00  Chief Executives    2.A.1.a  Reading Comprehension   \n",
      "1     11-1011.00  Chief Executives    2.A.1.b       Active Listening   \n",
      "2     11-1011.00  Chief Executives    2.A.1.c                Writing   \n",
      "3     11-1011.00  Chief Executives    2.A.1.d               Speaking   \n",
      "4     11-1011.00  Chief Executives    2.A.1.e            Mathematics   \n",
      "\n",
      "   Data Value  \n",
      "0        4.75  \n",
      "1        4.88  \n",
      "2        4.38  \n",
      "3        4.88  \n",
      "4        3.62  \n"
     ]
    }
   ],
   "source": [
    "#Lets now discover a bit about our data set:\n",
    "\n",
    "df3.info()\n",
    "\n",
    "#We note that there are some occupations for which the standard error and bound values are missing. Lets supress these for now:\n",
    "\n",
    "df3.drop(columns = [\"Standard Error\",\"Lower CI Bound\",\"Upper CI Bound\"],inplace = True)\n",
    "print(df3.head())"
   ]
  },
  {
   "cell_type": "code",
   "execution_count": null,
   "id": "136577d2",
   "metadata": {},
   "outputs": [],
   "source": [
    "#We now want to create a new dataframe that has occupation titles as observations, and the different skills as variables\n",
    "\n",
    "#We need to begin by creating a dictionary:\n",
    "\n",
    "mydict = {}\n",
    "variable = df3.columns[0]\n",
    "myset = set((df3[variable]))\n",
    "variable_list = list(myset)\n",
    "#print(variable_list)\n",
    "mydict[variable] = variable_list\n",
    "\n",
    "variable = df3.columns[1]\n",
    "myset = set((df3[variable]))\n",
    "variable_list = list(myset)\n",
    "#print(variable_list)\n",
    "mydict[variable] = variable_list\n",
    "\n",
    "df4 = pd.DataFrame(mydict)\n",
    "print(df4.head())\n",
    "\n",
    "#Evidently this code doesn't work the way I want it to"
   ]
  },
  {
   "cell_type": "code",
   "execution_count": 3,
   "id": "d55a1537",
   "metadata": {
    "scrolled": true
   },
   "outputs": [
    {
     "name": "stderr",
     "output_type": "stream",
     "text": [
      "<ipython-input-3-398803c0bc0e>:4: SettingWithCopyWarning: \n",
      "A value is trying to be set on a copy of a slice from a DataFrame\n",
      "\n",
      "See the caveats in the documentation: https://pandas.pydata.org/pandas-docs/stable/user_guide/indexing.html#returning-a-view-versus-a-copy\n",
      "  df4.drop_duplicates(inplace=True)\n",
      "<ipython-input-3-398803c0bc0e>:14: SettingWithCopyWarning: \n",
      "A value is trying to be set on a copy of a slice from a DataFrame.\n",
      "Try using .loc[row_indexer,col_indexer] = value instead\n",
      "\n",
      "See the caveats in the documentation: https://pandas.pydata.org/pandas-docs/stable/user_guide/indexing.html#returning-a-view-versus-a-copy\n",
      "  df4[df3[\"Element Name\"][i]] = \"\"\n",
      "C:\\Users\\jacob\\Anaconda3\\lib\\site-packages\\IPython\\core\\interactiveshell.py:3437: SettingWithCopyWarning: \n",
      "A value is trying to be set on a copy of a slice from a DataFrame\n",
      "\n",
      "See the caveats in the documentation: https://pandas.pydata.org/pandas-docs/stable/user_guide/indexing.html#returning-a-view-versus-a-copy\n",
      "  exec(code_obj, self.user_global_ns, self.user_ns)\n"
     ]
    }
   ],
   "source": [
    "#I shall implement the drop_duplicates method:\n",
    "\n",
    "df4 = df3[[\"O*NET-SOC Code\",\"Title\"]]\n",
    "df4.drop_duplicates(inplace=True)\n",
    "df4.reset_index(drop = True, inplace = True)\n",
    "#print(df4.head())\n",
    "\n",
    "#We now need to add the variables. Begin by adding empty columns to the dataframe:\n",
    "\n",
    "n_jobs = len(set((df3[\"Title\"])))\n",
    "n_variables = len(set((df3[\"Element Name\"])))\n",
    "\n",
    "for i in range(n_jobs):\n",
    "    df4[df3[\"Element Name\"][i]] = \"\"\n",
    "\n",
    "#print(df4.head())\n",
    "#Now we need to fill these columns:\n",
    "\n",
    "x = df3.loc[df3[\"Title\"] == \"Chief Executives\"]\n",
    "y = x[\"Data Value\"]\n",
    "\n",
    "for i in range(n_variables):\n",
    "    df4[df4.columns[2+i]][0] = y[i]\n",
    "    \n",
    "#We now need to do this procedure for every job:\n",
    "\n",
    "for j in range(n_jobs):\n",
    "    x = df3.loc[df3[\"Title\"] == df4.iloc[j,1]]\n",
    "    y = x[\"Data Value\"]\n",
    "    y.reset_index(drop = True, inplace = True)\n",
    "    for i in range(n_variables):\n",
    "        df4[df4.columns[2+i]][j] = y[i]\n"
   ]
  },
  {
   "cell_type": "code",
   "execution_count": 4,
   "id": "f0748248",
   "metadata": {},
   "outputs": [
    {
     "name": "stdout",
     "output_type": "stream",
     "text": [
      "    O*NET-SOC Code                                             Title  \\\n",
      "868     53-7071.00  Gas Compressor and Gas Pumping Station Operators   \n",
      "869     53-7072.00           Pump Operators, Except Wellhead Pumpers   \n",
      "870     53-7073.00                                  Wellhead Pumpers   \n",
      "871     53-7081.00         Refuse and Recyclable Material Collectors   \n",
      "872     53-7121.00                 Tank Car, Truck, and Ship Loaders   \n",
      "\n",
      "    Reading Comprehension Active Listening Writing Speaking Mathematics  \\\n",
      "868                  3.12              3.0    2.88      3.0        2.12   \n",
      "869                   3.0              3.0    2.75     2.88        2.62   \n",
      "870                  2.88             2.75    2.12      3.0        1.62   \n",
      "871                  2.38             2.62    2.38     2.25         0.5   \n",
      "872                  3.12              3.0    2.75     2.88        2.12   \n",
      "\n",
      "    Science Critical Thinking Active Learning  ... Troubleshooting Repairing  \\\n",
      "868    1.25               3.0            2.38  ...            3.12       3.0   \n",
      "869    1.38              3.12            2.88  ...            2.88      2.75   \n",
      "870    0.12               3.0            2.12  ...             3.0      3.75   \n",
      "871     0.0               3.0             2.0  ...            2.12      2.12   \n",
      "872    0.75              2.88            2.75  ...             2.5      2.25   \n",
      "\n",
      "    Quality Control Analysis Judgment and Decision Making Systems Analysis  \\\n",
      "868                      3.0                         2.75             2.38   \n",
      "869                     2.75                          3.0             2.12   \n",
      "870                      2.5                         2.88             1.38   \n",
      "871                     2.25                         2.12              2.0   \n",
      "872                     2.88                         2.88             2.62   \n",
      "\n",
      "    Systems Evaluation Time Management Management of Financial Resources  \\\n",
      "868               2.12            2.75                              0.75   \n",
      "869               2.12            2.88                              1.12   \n",
      "870               1.38            2.75                              0.38   \n",
      "871               1.88            2.75                              0.25   \n",
      "872               2.12            2.88                              1.12   \n",
      "\n",
      "    Management of Material Resources Management of Personnel Resources  \n",
      "868                             1.25                              2.12  \n",
      "869                             1.75                              2.25  \n",
      "870                             0.88                               2.0  \n",
      "871                             0.38                               2.0  \n",
      "872                             1.88                              2.75  \n",
      "\n",
      "[5 rows x 37 columns]\n"
     ]
    }
   ],
   "source": [
    "print(df4.tail())"
   ]
  },
  {
   "cell_type": "markdown",
   "id": "194be949",
   "metadata": {},
   "source": [
    "### We now have the skills dataframe just as we want it!"
   ]
  },
  {
   "cell_type": "code",
   "execution_count": 5,
   "id": "0edae9ce",
   "metadata": {},
   "outputs": [
    {
     "data": {
      "text/html": [
       "<div>\n",
       "<style scoped>\n",
       "    .dataframe tbody tr th:only-of-type {\n",
       "        vertical-align: middle;\n",
       "    }\n",
       "\n",
       "    .dataframe tbody tr th {\n",
       "        vertical-align: top;\n",
       "    }\n",
       "\n",
       "    .dataframe thead th {\n",
       "        text-align: right;\n",
       "    }\n",
       "</style>\n",
       "<table border=\"1\" class=\"dataframe\">\n",
       "  <thead>\n",
       "    <tr style=\"text-align: right;\">\n",
       "      <th></th>\n",
       "      <th>O*NET-SOC Code</th>\n",
       "      <th>Title</th>\n",
       "      <th>Reading Comprehension</th>\n",
       "      <th>Active Listening</th>\n",
       "      <th>Writing</th>\n",
       "      <th>Speaking</th>\n",
       "      <th>Mathematics</th>\n",
       "      <th>Science</th>\n",
       "      <th>Critical Thinking</th>\n",
       "      <th>Active Learning</th>\n",
       "      <th>...</th>\n",
       "      <th>Troubleshooting</th>\n",
       "      <th>Repairing</th>\n",
       "      <th>Quality Control Analysis</th>\n",
       "      <th>Judgment and Decision Making</th>\n",
       "      <th>Systems Analysis</th>\n",
       "      <th>Systems Evaluation</th>\n",
       "      <th>Time Management</th>\n",
       "      <th>Management of Financial Resources</th>\n",
       "      <th>Management of Material Resources</th>\n",
       "      <th>Management of Personnel Resources</th>\n",
       "    </tr>\n",
       "  </thead>\n",
       "  <tbody>\n",
       "    <tr>\n",
       "      <th>count</th>\n",
       "      <td>873</td>\n",
       "      <td>873</td>\n",
       "      <td>873.0</td>\n",
       "      <td>873.0</td>\n",
       "      <td>873.0</td>\n",
       "      <td>873.0</td>\n",
       "      <td>873.0</td>\n",
       "      <td>873.0</td>\n",
       "      <td>873.0</td>\n",
       "      <td>873.0</td>\n",
       "      <td>...</td>\n",
       "      <td>873.0</td>\n",
       "      <td>873.0</td>\n",
       "      <td>873.0</td>\n",
       "      <td>873.0</td>\n",
       "      <td>873.0</td>\n",
       "      <td>873.0</td>\n",
       "      <td>873.0</td>\n",
       "      <td>873.00</td>\n",
       "      <td>873.00</td>\n",
       "      <td>873.0</td>\n",
       "    </tr>\n",
       "    <tr>\n",
       "      <th>unique</th>\n",
       "      <td>873</td>\n",
       "      <td>873</td>\n",
       "      <td>55.0</td>\n",
       "      <td>44.0</td>\n",
       "      <td>50.0</td>\n",
       "      <td>47.0</td>\n",
       "      <td>69.0</td>\n",
       "      <td>69.0</td>\n",
       "      <td>46.0</td>\n",
       "      <td>51.0</td>\n",
       "      <td>...</td>\n",
       "      <td>50.0</td>\n",
       "      <td>47.0</td>\n",
       "      <td>53.0</td>\n",
       "      <td>43.0</td>\n",
       "      <td>57.0</td>\n",
       "      <td>62.0</td>\n",
       "      <td>35.0</td>\n",
       "      <td>54.00</td>\n",
       "      <td>52.00</td>\n",
       "      <td>56.0</td>\n",
       "    </tr>\n",
       "    <tr>\n",
       "      <th>top</th>\n",
       "      <td>41-1012.00</td>\n",
       "      <td>Umpires, Referees, and Other Sports Officials</td>\n",
       "      <td>4.0</td>\n",
       "      <td>4.0</td>\n",
       "      <td>4.0</td>\n",
       "      <td>4.0</td>\n",
       "      <td>2.0</td>\n",
       "      <td>0.0</td>\n",
       "      <td>4.0</td>\n",
       "      <td>3.0</td>\n",
       "      <td>...</td>\n",
       "      <td>0.0</td>\n",
       "      <td>0.0</td>\n",
       "      <td>3.0</td>\n",
       "      <td>3.0</td>\n",
       "      <td>3.0</td>\n",
       "      <td>3.0</td>\n",
       "      <td>3.0</td>\n",
       "      <td>0.75</td>\n",
       "      <td>0.88</td>\n",
       "      <td>3.0</td>\n",
       "    </tr>\n",
       "    <tr>\n",
       "      <th>freq</th>\n",
       "      <td>1</td>\n",
       "      <td>1</td>\n",
       "      <td>109.0</td>\n",
       "      <td>165.0</td>\n",
       "      <td>90.0</td>\n",
       "      <td>139.0</td>\n",
       "      <td>74.0</td>\n",
       "      <td>129.0</td>\n",
       "      <td>104.0</td>\n",
       "      <td>96.0</td>\n",
       "      <td>...</td>\n",
       "      <td>146.0</td>\n",
       "      <td>415.0</td>\n",
       "      <td>63.0</td>\n",
       "      <td>110.0</td>\n",
       "      <td>86.0</td>\n",
       "      <td>72.0</td>\n",
       "      <td>154.0</td>\n",
       "      <td>83.00</td>\n",
       "      <td>62.00</td>\n",
       "      <td>88.0</td>\n",
       "    </tr>\n",
       "  </tbody>\n",
       "</table>\n",
       "<p>4 rows × 37 columns</p>\n",
       "</div>"
      ],
      "text/plain": [
       "       O*NET-SOC Code                                          Title  \\\n",
       "count             873                                            873   \n",
       "unique            873                                            873   \n",
       "top        41-1012.00  Umpires, Referees, and Other Sports Officials   \n",
       "freq                1                                              1   \n",
       "\n",
       "        Reading Comprehension  Active Listening  Writing  Speaking  \\\n",
       "count                   873.0             873.0    873.0     873.0   \n",
       "unique                   55.0              44.0     50.0      47.0   \n",
       "top                       4.0               4.0      4.0       4.0   \n",
       "freq                    109.0             165.0     90.0     139.0   \n",
       "\n",
       "        Mathematics  Science  Critical Thinking  Active Learning  ...  \\\n",
       "count         873.0    873.0              873.0            873.0  ...   \n",
       "unique         69.0     69.0               46.0             51.0  ...   \n",
       "top             2.0      0.0                4.0              3.0  ...   \n",
       "freq           74.0    129.0              104.0             96.0  ...   \n",
       "\n",
       "        Troubleshooting  Repairing  Quality Control Analysis  \\\n",
       "count             873.0      873.0                     873.0   \n",
       "unique             50.0       47.0                      53.0   \n",
       "top                 0.0        0.0                       3.0   \n",
       "freq              146.0      415.0                      63.0   \n",
       "\n",
       "        Judgment and Decision Making  Systems Analysis  Systems Evaluation  \\\n",
       "count                          873.0             873.0               873.0   \n",
       "unique                          43.0              57.0                62.0   \n",
       "top                              3.0               3.0                 3.0   \n",
       "freq                           110.0              86.0                72.0   \n",
       "\n",
       "        Time Management  Management of Financial Resources  \\\n",
       "count             873.0                             873.00   \n",
       "unique             35.0                              54.00   \n",
       "top                 3.0                               0.75   \n",
       "freq              154.0                              83.00   \n",
       "\n",
       "        Management of Material Resources  Management of Personnel Resources  \n",
       "count                             873.00                              873.0  \n",
       "unique                             52.00                               56.0  \n",
       "top                                 0.88                                3.0  \n",
       "freq                               62.00                               88.0  \n",
       "\n",
       "[4 rows x 37 columns]"
      ]
     },
     "execution_count": 5,
     "metadata": {},
     "output_type": "execute_result"
    }
   ],
   "source": [
    "#Lets understand our data a bit:\n",
    "\n",
    "df4.describe()"
   ]
  },
  {
   "cell_type": "code",
   "execution_count": null,
   "id": "3ecb3b25",
   "metadata": {},
   "outputs": [],
   "source": [
    "%matplotlib inline\n",
    "import matplotlib.pyplot as plt\n",
    "hist = df4.iloc[:,20].hist(bins=20)\n",
    "\n",
    "#We can inspect the histogram of any variable we want"
   ]
  },
  {
   "cell_type": "markdown",
   "id": "3628f6e5",
   "metadata": {},
   "source": [
    "### Let's now  import another dataframe with autovalues"
   ]
  },
  {
   "cell_type": "code",
   "execution_count": 6,
   "id": "87641e7b",
   "metadata": {},
   "outputs": [
    {
     "name": "stdout",
     "output_type": "stream",
     "text": [
      "                                     Occupation Name BLS codes  \\\n",
      "0                            Recreational Therapists  29-1125_   \n",
      "1  First-Line Supervisors of Mechanics Installers...  49-1011_   \n",
      "2                     Emergency Management Directors  11-9161_   \n",
      "3   Mental Health and Substance Abuse Social Workers  21-1023_   \n",
      "4                                       Audiologists  29-1181_   \n",
      "\n",
      "   Training set automatable labels  \n",
      "0                              NaN  \n",
      "1                              NaN  \n",
      "2                              NaN  \n",
      "3                              NaN  \n",
      "4                              NaN  \n"
     ]
    }
   ],
   "source": [
    "df5 = pd.read_excel(\"US_data_email.xls\")\n",
    "df5 = df5[[\"Occupation Name\",\"BLS codes\",\"Training set automatable labels\"]]\n",
    "print(df5.head())"
   ]
  },
  {
   "cell_type": "code",
   "execution_count": 7,
   "id": "40868f55",
   "metadata": {},
   "outputs": [
    {
     "name": "stdout",
     "output_type": "stream",
     "text": [
      "<class 'pandas.core.frame.DataFrame'>\n",
      "RangeIndex: 702 entries, 0 to 701\n",
      "Data columns (total 3 columns):\n",
      " #   Column                           Non-Null Count  Dtype  \n",
      "---  ------                           --------------  -----  \n",
      " 0   Occupation Name                  702 non-null    object \n",
      " 1   BLS codes                        702 non-null    object \n",
      " 2   Training set automatable labels  70 non-null     float64\n",
      "dtypes: float64(1), object(2)\n",
      "memory usage: 16.6+ KB\n"
     ]
    }
   ],
   "source": [
    "df5.info()"
   ]
  },
  {
   "cell_type": "code",
   "execution_count": 8,
   "id": "422495f2",
   "metadata": {},
   "outputs": [
    {
     "name": "stdout",
     "output_type": "stream",
     "text": [
      "                                     Occupation Name   BLS codes  \\\n",
      "0                            Recreational Therapists  29-1125.00   \n",
      "1  First-Line Supervisors of Mechanics Installers...  49-1011.00   \n",
      "2                     Emergency Management Directors  11-9161.00   \n",
      "3   Mental Health and Substance Abuse Social Workers  21-1023.00   \n",
      "4                                       Audiologists  29-1181.00   \n",
      "\n",
      "   Training set automatable labels  \n",
      "0                              NaN  \n",
      "1                              NaN  \n",
      "2                              NaN  \n",
      "3                              NaN  \n",
      "4                              NaN  \n",
      "<class 'pandas.core.frame.DataFrame'>\n",
      "RangeIndex: 702 entries, 0 to 701\n",
      "Data columns (total 3 columns):\n",
      " #   Column                           Non-Null Count  Dtype  \n",
      "---  ------                           --------------  -----  \n",
      " 0   Occupation Name                  702 non-null    object \n",
      " 1   BLS codes                        702 non-null    object \n",
      " 2   Training set automatable labels  70 non-null     float64\n",
      "dtypes: float64(1), object(2)\n",
      "memory usage: 16.6+ KB\n"
     ]
    }
   ],
   "source": [
    "#Lets define a function so that we can make occupation ID's consistent:\n",
    "\n",
    "def title_set(my_string):\n",
    "    my_list = []\n",
    "    my_list[:0] = my_string\n",
    "    my_list.remove(\"_\")\n",
    "    my_list.append(\".00\")\n",
    "    my_output = \"\".join(my_list)\n",
    "    return my_output\n",
    "\n",
    "#print(title_set(\"45-4023_\"))\n",
    "\n",
    "df5.iloc[:,1] = df5.iloc[:,1].apply(title_set)\n",
    "print(df5.head())\n",
    "df5.info()"
   ]
  },
  {
   "cell_type": "code",
   "execution_count": 9,
   "id": "88670d53",
   "metadata": {},
   "outputs": [
    {
     "name": "stderr",
     "output_type": "stream",
     "text": [
      "<ipython-input-9-27a20ac659ae>:3: SettingWithCopyWarning: \n",
      "A value is trying to be set on a copy of a slice from a DataFrame.\n",
      "Try using .loc[row_indexer,col_indexer] = value instead\n",
      "\n",
      "See the caveats in the documentation: https://pandas.pydata.org/pandas-docs/stable/user_guide/indexing.html#returning-a-view-versus-a-copy\n",
      "  df4[\"Auto label value\"] = np.nan\n",
      "C:\\Users\\jacob\\Anaconda3\\lib\\site-packages\\pandas\\core\\indexing.py:1676: SettingWithCopyWarning: \n",
      "A value is trying to be set on a copy of a slice from a DataFrame.\n",
      "Try using .loc[row_indexer,col_indexer] = value instead\n",
      "\n",
      "See the caveats in the documentation: https://pandas.pydata.org/pandas-docs/stable/user_guide/indexing.html#returning-a-view-versus-a-copy\n",
      "  self._setitem_single_column(ilocs[0], value, pi)\n",
      "C:\\Users\\jacob\\Anaconda3\\lib\\site-packages\\pandas\\core\\indexing.py:1700: SettingWithCopyWarning: \n",
      "A value is trying to be set on a copy of a slice from a DataFrame.\n",
      "Try using .loc[row_indexer,col_indexer] = value instead\n",
      "\n",
      "See the caveats in the documentation: https://pandas.pydata.org/pandas-docs/stable/user_guide/indexing.html#returning-a-view-versus-a-copy\n",
      "  self._setitem_single_column(loc, v, pi)\n"
     ]
    }
   ],
   "source": [
    "#Lets now concatenate the auto labels to our 1st dataframe:\n",
    "import numpy as np\n",
    "df4[\"Auto label value\"] = np.nan\n",
    "for i in list(df5[\"BLS codes\"]):\n",
    "    df4.loc[df4[\"O*NET-SOC Code\"] == i,\"Auto label value\"] = list(df5.loc[df5[\"BLS codes\"] == i,\"Training set automatable labels\"])"
   ]
  },
  {
   "cell_type": "code",
   "execution_count": 10,
   "id": "f37d0dd5",
   "metadata": {},
   "outputs": [
    {
     "name": "stdout",
     "output_type": "stream",
     "text": [
      "<class 'pandas.core.frame.DataFrame'>\n",
      "RangeIndex: 873 entries, 0 to 872\n",
      "Data columns (total 38 columns):\n",
      " #   Column                             Non-Null Count  Dtype  \n",
      "---  ------                             --------------  -----  \n",
      " 0   O*NET-SOC Code                     873 non-null    object \n",
      " 1   Title                              873 non-null    object \n",
      " 2   Reading Comprehension              873 non-null    object \n",
      " 3   Active Listening                   873 non-null    object \n",
      " 4   Writing                            873 non-null    object \n",
      " 5   Speaking                           873 non-null    object \n",
      " 6   Mathematics                        873 non-null    object \n",
      " 7   Science                            873 non-null    object \n",
      " 8   Critical Thinking                  873 non-null    object \n",
      " 9   Active Learning                    873 non-null    object \n",
      " 10  Learning Strategies                873 non-null    object \n",
      " 11  Monitoring                         873 non-null    object \n",
      " 12  Social Perceptiveness              873 non-null    object \n",
      " 13  Coordination                       873 non-null    object \n",
      " 14  Persuasion                         873 non-null    object \n",
      " 15  Negotiation                        873 non-null    object \n",
      " 16  Instructing                        873 non-null    object \n",
      " 17  Service Orientation                873 non-null    object \n",
      " 18  Complex Problem Solving            873 non-null    object \n",
      " 19  Operations Analysis                873 non-null    object \n",
      " 20  Technology Design                  873 non-null    object \n",
      " 21  Equipment Selection                873 non-null    object \n",
      " 22  Installation                       873 non-null    object \n",
      " 23  Programming                        873 non-null    object \n",
      " 24  Operations Monitoring              873 non-null    object \n",
      " 25  Operation and Control              873 non-null    object \n",
      " 26  Equipment Maintenance              873 non-null    object \n",
      " 27  Troubleshooting                    873 non-null    object \n",
      " 28  Repairing                          873 non-null    object \n",
      " 29  Quality Control Analysis           873 non-null    object \n",
      " 30  Judgment and Decision Making       873 non-null    object \n",
      " 31  Systems Analysis                   873 non-null    object \n",
      " 32  Systems Evaluation                 873 non-null    object \n",
      " 33  Time Management                    873 non-null    object \n",
      " 34  Management of Financial Resources  873 non-null    object \n",
      " 35  Management of Material Resources   873 non-null    object \n",
      " 36  Management of Personnel Resources  873 non-null    object \n",
      " 37  Auto label value                   63 non-null     float64\n",
      "dtypes: float64(1), object(37)\n",
      "memory usage: 259.3+ KB\n"
     ]
    }
   ],
   "source": [
    "df4.info()\n",
    "\n",
    "#Note - the auto value count is supposedly 330 non-null, even though it should be 70. After creating a csv from the dataframe,\n",
    "#I found that there were 70 non-null as expected. Worth bringing up with Mike."
   ]
  },
  {
   "cell_type": "code",
   "execution_count": null,
   "id": "6e95a90d",
   "metadata": {},
   "outputs": [],
   "source": [
    "df4.to_csv(\"test.csv\",index=False)"
   ]
  },
  {
   "cell_type": "markdown",
   "id": "b0e2d9a8",
   "metadata": {},
   "source": [
    "### We now have a dataset which encompass jobs titles, SOC codes, skill levels and hand picked auto labels"
   ]
  },
  {
   "cell_type": "code",
   "execution_count": 11,
   "id": "a0fc4bc6",
   "metadata": {},
   "outputs": [
    {
     "name": "stdout",
     "output_type": "stream",
     "text": [
      "<class 'pandas.core.frame.DataFrame'>\n",
      "RangeIndex: 63 entries, 0 to 62\n",
      "Data columns (total 38 columns):\n",
      " #   Column                             Non-Null Count  Dtype  \n",
      "---  ------                             --------------  -----  \n",
      " 0   O*NET-SOC Code                     63 non-null     object \n",
      " 1   Title                              63 non-null     object \n",
      " 2   Reading Comprehension              63 non-null     object \n",
      " 3   Active Listening                   63 non-null     object \n",
      " 4   Writing                            63 non-null     object \n",
      " 5   Speaking                           63 non-null     object \n",
      " 6   Mathematics                        63 non-null     object \n",
      " 7   Science                            63 non-null     object \n",
      " 8   Critical Thinking                  63 non-null     object \n",
      " 9   Active Learning                    63 non-null     object \n",
      " 10  Learning Strategies                63 non-null     object \n",
      " 11  Monitoring                         63 non-null     object \n",
      " 12  Social Perceptiveness              63 non-null     object \n",
      " 13  Coordination                       63 non-null     object \n",
      " 14  Persuasion                         63 non-null     object \n",
      " 15  Negotiation                        63 non-null     object \n",
      " 16  Instructing                        63 non-null     object \n",
      " 17  Service Orientation                63 non-null     object \n",
      " 18  Complex Problem Solving            63 non-null     object \n",
      " 19  Operations Analysis                63 non-null     object \n",
      " 20  Technology Design                  63 non-null     object \n",
      " 21  Equipment Selection                63 non-null     object \n",
      " 22  Installation                       63 non-null     object \n",
      " 23  Programming                        63 non-null     object \n",
      " 24  Operations Monitoring              63 non-null     object \n",
      " 25  Operation and Control              63 non-null     object \n",
      " 26  Equipment Maintenance              63 non-null     object \n",
      " 27  Troubleshooting                    63 non-null     object \n",
      " 28  Repairing                          63 non-null     object \n",
      " 29  Quality Control Analysis           63 non-null     object \n",
      " 30  Judgment and Decision Making       63 non-null     object \n",
      " 31  Systems Analysis                   63 non-null     object \n",
      " 32  Systems Evaluation                 63 non-null     object \n",
      " 33  Time Management                    63 non-null     object \n",
      " 34  Management of Financial Resources  63 non-null     object \n",
      " 35  Management of Material Resources   63 non-null     object \n",
      " 36  Management of Personnel Resources  63 non-null     object \n",
      " 37  Auto label value                   63 non-null     float64\n",
      "dtypes: float64(1), object(37)\n",
      "memory usage: 18.8+ KB\n"
     ]
    }
   ],
   "source": [
    "#Lets now create a training set which includes only the jobs for which we have hand picked auto values:\n",
    "\n",
    "training_set = df4.dropna(axis=0,how=\"any\")\n",
    "training_set.reset_index(drop = True, inplace=True)\n",
    "#print(training_set.head())\n",
    "training_set.info()\n"
   ]
  },
  {
   "cell_type": "code",
   "execution_count": 12,
   "id": "6c955b9b",
   "metadata": {},
   "outputs": [],
   "source": [
    "#Lets apply stratified sampling on this set to create a training and test set\n",
    "#Code taken from Hands on Machine Learning book\n",
    "\n",
    "from sklearn.model_selection import StratifiedShuffleSplit\n",
    "\n",
    "split = StratifiedShuffleSplit(n_splits=1,test_size=0.2,random_state=42)\n",
    "for train_index, test_index in split.split(training_set,training_set[\"Auto label value\"]):\n",
    "    strat_train_set = training_set.loc[train_index]\n",
    "    strat_test_set = training_set.loc[test_index]\n"
   ]
  },
  {
   "cell_type": "code",
   "execution_count": 13,
   "id": "04871038",
   "metadata": {},
   "outputs": [],
   "source": [
    "strat_train_set.reset_index(drop=True,inplace=True)\n",
    "strat_test_set.reset_index(drop=True,inplace=True)"
   ]
  },
  {
   "cell_type": "code",
   "execution_count": 14,
   "id": "7615f630",
   "metadata": {},
   "outputs": [
    {
     "data": {
      "text/plain": [
       "1.0    0.54\n",
       "0.0    0.46\n",
       "Name: Auto label value, dtype: float64"
      ]
     },
     "execution_count": 14,
     "metadata": {},
     "output_type": "execute_result"
    }
   ],
   "source": [
    "strat_train_set[\"Auto label value\"].value_counts()/len(strat_train_set)"
   ]
  },
  {
   "cell_type": "markdown",
   "id": "e78aad85",
   "metadata": {},
   "source": [
    "### We can now perform Principal Component Analysis"
   ]
  },
  {
   "cell_type": "code",
   "execution_count": null,
   "id": "91dfe4a4",
   "metadata": {},
   "outputs": [],
   "source": [
    "#We begin by creating a centred training set:\n",
    "\n",
    "X = strat_train_set.drop([\"Title\",\"O*NET-SOC Code\"],axis=1)\n",
    "\n",
    "#We now use the Scikit learn toolkit to visualise how the explained variance ratio changes with no. dimensions:\n",
    "\n",
    "from sklearn.decomposition import PCA\n",
    "pca = PCA()\n",
    "pca.fit(X)\n",
    "cumsum = np.cumsum(pca.explained_variance_ratio_)\n",
    "dim = range(len(X.columns))"
   ]
  },
  {
   "cell_type": "code",
   "execution_count": null,
   "id": "a4ea62cc",
   "metadata": {},
   "outputs": [],
   "source": [
    "import matplotlib.pyplot as plt\n",
    "plt.plot(np.array(dim),np.array(cumsum))"
   ]
  },
  {
   "cell_type": "code",
   "execution_count": null,
   "id": "e40d274a",
   "metadata": {},
   "outputs": [],
   "source": [
    "#Having visualized the effect of dimensionality, we can implement this to our dataset:\n",
    "\n",
    "pca2 = PCA(n_components=0.95)\n",
    "X_reduced = pca2.fit_transform(X)\n",
    "print(X_reduced[1])\n"
   ]
  },
  {
   "cell_type": "markdown",
   "id": "badabc02",
   "metadata": {},
   "source": [
    "### We shall now fit a GP classifier to the unreduced dataset:"
   ]
  },
  {
   "cell_type": "code",
   "execution_count": 55,
   "id": "30b04605",
   "metadata": {},
   "outputs": [
    {
     "name": "stderr",
     "output_type": "stream",
     "text": [
      "C:\\Users\\jacob\\Anaconda3\\lib\\site-packages\\sklearn\\utils\\validation.py:63: DataConversionWarning: A column-vector y was passed when a 1d array was expected. Please change the shape of y to (n_samples, ), for example using ravel().\n",
      "  return f(*args, **kwargs)\n"
     ]
    }
   ],
   "source": [
    "#Begin by creating numpy arrays for our input X and output Y:\n",
    "\n",
    "X = np.array([strat_train_set.iloc[:,2:37]])\n",
    "Y = np.array([strat_train_set.iloc[:,37]])\n",
    "X = np.transpose(X)\n",
    "Y = np.transpose(Y)\n",
    "X = np.reshape(X,(50,35)) #Reshape to go from 3d matrix to 2d\n",
    "\n",
    "#Now generate a kernel:\n",
    "from sklearn.gaussian_process import GaussianProcessClassifier\n",
    "from sklearn.gaussian_process.kernels import RBF\n",
    "\n",
    "length_scale = 6\n",
    "kernel = 1 * RBF(length_scale)\n",
    "gpc = GaussianProcessClassifier(kernel=kernel,optimizer=None).fit(X, Y)\n",
    "#gpc.score(X, Y)\n",
    "\n"
   ]
  },
  {
   "cell_type": "code",
   "execution_count": 56,
   "id": "40e0f91a",
   "metadata": {},
   "outputs": [
    {
     "data": {
      "text/plain": [
       "0.46153846153846156"
      ]
     },
     "execution_count": 56,
     "metadata": {},
     "output_type": "execute_result"
    }
   ],
   "source": [
    "# Now see how this model does on the test set:\n",
    "\n",
    "X = np.array([strat_test_set.iloc[:,2:37]])\n",
    "Y = np.array([strat_test_set.iloc[:,37]])\n",
    "X = np.transpose(X)\n",
    "Y = np.transpose(Y)\n",
    "X = np.reshape(X,(13,35)) #Reshape to go from 3d matrix to 2d\n",
    "\n",
    "gpc.score(X,Y)"
   ]
  },
  {
   "cell_type": "code",
   "execution_count": null,
   "id": "530ffa9c",
   "metadata": {},
   "outputs": [],
   "source": [
    "print(strat_train_set)"
   ]
  },
  {
   "cell_type": "code",
   "execution_count": null,
   "id": "6ad11394",
   "metadata": {},
   "outputs": [],
   "source": [
    "print(X)"
   ]
  },
  {
   "cell_type": "code",
   "execution_count": 20,
   "id": "e8338bb7",
   "metadata": {},
   "outputs": [
    {
     "data": {
      "text/plain": [
       "array([[4.12, 4.0, 3.25],\n",
       "       [4.62, 4.0, 4.25],\n",
       "       [3.0, 3.0, 2.38],\n",
       "       [2.12, 2.25, 1.75],\n",
       "       [4.75, 5.88, 4.88],\n",
       "       [4.12, 4.0, 3.5],\n",
       "       [4.25, 5.0, 4.25],\n",
       "       [4.0, 4.0, 3.88],\n",
       "       [4.06, 4.0, 3.62],\n",
       "       [4.25, 4.38, 4.0],\n",
       "       [2.75, 2.75, 2.62],\n",
       "       [4.0, 4.0, 3.62],\n",
       "       [2.62, 2.38, 2.0],\n",
       "       [3.25, 3.62, 3.0],\n",
       "       [4.12, 4.25, 4.0],\n",
       "       [3.06, 3.12, 2.75],\n",
       "       [2.12, 2.12, 2.0],\n",
       "       [3.0, 3.25, 2.88],\n",
       "       [3.0, 3.0, 2.88],\n",
       "       [3.75, 3.75, 3.37],\n",
       "       [2.5, 2.5, 2.12],\n",
       "       [3.12, 2.88, 2.62],\n",
       "       [2.88, 2.88, 2.75],\n",
       "       [3.75, 3.88, 3.5],\n",
       "       [4.0, 4.0, 3.62],\n",
       "       [3.25, 3.88, 2.88],\n",
       "       [2.88, 3.0, 2.75],\n",
       "       [4.0, 4.0, 3.88],\n",
       "       [4.0, 4.0, 3.88],\n",
       "       [3.5, 3.25, 2.88],\n",
       "       [3.0, 3.0, 3.0],\n",
       "       [4.75, 4.88, 4.38],\n",
       "       [4.0, 4.0, 3.75],\n",
       "       [4.88, 4.25, 4.38],\n",
       "       [2.62, 2.88, 2.38],\n",
       "       [4.75, 4.5, 4.38],\n",
       "       [2.75, 2.88, 2.5],\n",
       "       [4.06, 3.94, 3.75],\n",
       "       [3.0, 3.0, 2.88],\n",
       "       [3.63, 3.81, 3.44],\n",
       "       [3.75, 4.0, 3.75],\n",
       "       [5.88, 4.75, 5.0],\n",
       "       [3.25, 3.12, 3.0],\n",
       "       [2.38, 2.88, 2.12],\n",
       "       [4.62, 4.0, 4.12],\n",
       "       [4.12, 4.12, 3.75],\n",
       "       [4.12, 4.0, 4.0],\n",
       "       [4.0, 3.96, 3.67],\n",
       "       [4.0, 3.88, 3.75],\n",
       "       [2.88, 3.12, 2.75]], dtype=object)"
      ]
     },
     "execution_count": 20,
     "metadata": {},
     "output_type": "execute_result"
    }
   ],
   "source": [
    "test = np.asarray([strat_train_set.iloc[:,2:5]])\n",
    "np.shape(test)\n",
    "np.reshape(test,(50,3))"
   ]
  },
  {
   "cell_type": "code",
   "execution_count": 32,
   "id": "50a58b26",
   "metadata": {},
   "outputs": [
    {
     "data": {
      "text/plain": [
       "(35, 13, 1)"
      ]
     },
     "execution_count": 32,
     "metadata": {},
     "output_type": "execute_result"
    }
   ],
   "source": [
    "np.shape(X)"
   ]
  },
  {
   "cell_type": "code",
   "execution_count": 33,
   "id": "0ecb30c1",
   "metadata": {},
   "outputs": [
    {
     "data": {
      "text/plain": [
       "(13, 1)"
      ]
     },
     "execution_count": 33,
     "metadata": {},
     "output_type": "execute_result"
    }
   ],
   "source": [
    "np.shape(Y)"
   ]
  },
  {
   "cell_type": "code",
   "execution_count": null,
   "id": "72327403",
   "metadata": {},
   "outputs": [],
   "source": []
  }
 ],
 "metadata": {
  "kernelspec": {
   "display_name": "Python 3",
   "language": "python",
   "name": "python3"
  },
  "language_info": {
   "codemirror_mode": {
    "name": "ipython",
    "version": 3
   },
   "file_extension": ".py",
   "mimetype": "text/x-python",
   "name": "python",
   "nbconvert_exporter": "python",
   "pygments_lexer": "ipython3",
   "version": "3.8.8"
  }
 },
 "nbformat": 4,
 "nbformat_minor": 5
}
