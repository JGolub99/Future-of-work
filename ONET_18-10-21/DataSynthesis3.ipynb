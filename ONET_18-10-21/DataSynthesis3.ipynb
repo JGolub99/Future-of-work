{
 "cells": [
  {
   "cell_type": "code",
   "execution_count": 1,
   "id": "ff2bd22d",
   "metadata": {},
   "outputs": [],
   "source": [
    "''' In this doc, we shall properly implement Mikes method. The previous version \n",
    "was too elementary and didnt have tractable gradients. This one will be for a regression case. '''\n",
    "\n",
    "import numpy as np\n",
    "import pandas as pd\n"
   ]
  },
  {
   "cell_type": "code",
   "execution_count": 18,
   "id": "ca0e8269",
   "metadata": {},
   "outputs": [],
   "source": [
    "#We shall now defined the number of input variables as well as the number of observations:\n",
    "\n",
    "m = 4 #No. variables\n",
    "n = 200 #No. observations\n",
    "\n",
    "\n",
    "#NOTE, this will be the number of observations for both the \"grid\" on which we instantiate the MV Gaussian,\n",
    "#as well as the draw from this prior.\n",
    "\n",
    "#Now we define the variance and lengthscales:\n",
    "\n",
    "m_var = 1\n",
    "m_len = range(1,m) #We shall have different size lengthscales for the different variables to predefine importance (ARD)"
   ]
  },
  {
   "cell_type": "code",
   "execution_count": 19,
   "id": "86cc0ff1",
   "metadata": {},
   "outputs": [],
   "source": [
    "#Now create the grid of data:\n",
    "X = []\n",
    "for i in range(m):\n",
    "    X.append(np.random.uniform(1,10,n))\n",
    "\n",
    "X = np.array(X)\n",
    "X = np.transpose(X)\n"
   ]
  },
  {
   "cell_type": "code",
   "execution_count": 20,
   "id": "c7dd68cc",
   "metadata": {},
   "outputs": [
    {
     "data": {
      "text/plain": [
       "(200, 4)"
      ]
     },
     "execution_count": 20,
     "metadata": {},
     "output_type": "execute_result"
    }
   ],
   "source": [
    "np.shape(X)"
   ]
  },
  {
   "cell_type": "code",
   "execution_count": 71,
   "id": "9b6c1e9f",
   "metadata": {},
   "outputs": [],
   "source": [
    "#We shall extract a mean and covariance from this data:\n",
    "\n",
    "mean = np.mean(X,axis=0)\n",
    "covariance = np.cov(np.transpose(X))\n"
   ]
  },
  {
   "cell_type": "code",
   "execution_count": 20,
   "id": "cb1fcef8",
   "metadata": {},
   "outputs": [
    {
     "data": {
      "text/plain": [
       "array([ 3.7627028 ,  8.09432924,  7.47329929, -0.35269728,  4.66673452,\n",
       "        4.40494354])"
      ]
     },
     "execution_count": 20,
     "metadata": {},
     "output_type": "execute_result"
    }
   ],
   "source": [
    "#We can also define a kernel and GP:\n",
    "\n",
    "np.random.multivariate_normal(mean, covariance)"
   ]
  },
  {
   "cell_type": "code",
   "execution_count": 21,
   "id": "bb609854",
   "metadata": {},
   "outputs": [
    {
     "data": {
      "text/plain": [
       "array([[1.00000000e+00, 4.31465034e-04, 5.67616493e-19, ...,\n",
       "        8.31362973e-06, 1.85744588e-06, 2.39356631e-12],\n",
       "       [4.31465034e-04, 1.00000000e+00, 4.55300384e-12, ...,\n",
       "        1.94389836e-05, 1.66054170e-02, 4.02208319e-06],\n",
       "       [5.67616493e-19, 4.55300384e-12, 1.00000000e+00, ...,\n",
       "        5.53040999e-11, 6.87918959e-08, 5.43763523e-03],\n",
       "       ...,\n",
       "       [8.31362973e-06, 1.94389836e-05, 5.53040999e-11, ...,\n",
       "        1.00000000e+00, 6.23474735e-07, 9.27684875e-09],\n",
       "       [1.85744588e-06, 1.66054170e-02, 6.87918959e-08, ...,\n",
       "        6.23474735e-07, 1.00000000e+00, 3.40963456e-05],\n",
       "       [2.39356631e-12, 4.02208319e-06, 5.43763523e-03, ...,\n",
       "        9.27684875e-09, 3.40963456e-05, 1.00000000e+00]])"
      ]
     },
     "execution_count": 21,
     "metadata": {},
     "output_type": "execute_result"
    }
   ],
   "source": [
    "#I think what I've done so far isn't quite correct, I'm looking for a mean function and mean covariance\n",
    "\n",
    "L = 2*np.identity(m)\n",
    "#for i in range(m):\n",
    "    #L[i,i] = (i+1)**2\n",
    "    \n",
    "\n",
    "def compute_cov(x,y,var,l_matrix):  #x and y are each full observations (vectors)\n",
    "    d = 0\n",
    "    m = len(x)\n",
    "    diff = x-y\n",
    "    L = np.linalg.inv(l_matrix)\n",
    "    exponent = -0.5*(np.matmul(np.transpose(diff),np.matmul(L,diff)))\n",
    "    val = var*np.exp(exponent)\n",
    "    return val\n",
    "#This function takes in two observations and outputs a scalar\n",
    "\n",
    "\n",
    "\n",
    "K = np.empty([n,n])\n",
    "\n",
    "#Now lets start filling this matrix:\n",
    "\n",
    "\n",
    "\n",
    "for i in range(n):\n",
    "    for j in range(n):\n",
    "        K[i,j] = compute_cov(X[i,:],X[j,:],m_var,L)\n",
    "\n",
    "K\n",
    "\n"
   ]
  },
  {
   "cell_type": "code",
   "execution_count": 22,
   "id": "c3a76ef8",
   "metadata": {},
   "outputs": [
    {
     "data": {
      "text/plain": [
       "array([ 0.39603085,  1.16841058, -1.10869134, -1.20988981, -0.70921101,\n",
       "       -2.31847087,  1.50294529,  0.8721    , -0.97029473,  0.23843865,\n",
       "        0.02045112, -0.11588211, -1.12985686, -1.09838217, -0.6595454 ,\n",
       "       -1.99111792,  0.43059328,  0.58662334, -1.05229058, -1.49078733,\n",
       "        0.23100157, -0.05304105,  0.14331402, -0.48221139,  1.20336662,\n",
       "        0.72653797, -1.41559776, -1.48963149,  1.54329243, -0.49132067,\n",
       "        0.53605477,  0.21730011,  0.19925233, -0.26907278,  1.31372757,\n",
       "       -1.17946798,  0.8899017 , -0.22891131,  1.35459221, -1.76696512,\n",
       "        0.01006718, -0.29689979, -0.41352851, -0.72866219,  2.31386623,\n",
       "        1.03835958, -0.65978081, -0.57354186, -0.00865825,  0.74162412,\n",
       "       -0.6479824 , -0.04870051, -0.51054931,  0.43100811,  2.70984553,\n",
       "       -0.67307293,  1.05994796,  1.59989916, -0.97111802,  0.19021326,\n",
       "        0.50307046, -0.79681235, -1.23814086,  0.27021967, -0.44850635,\n",
       "       -0.48014682,  1.43723038, -0.33643808, -0.83123061, -0.63477899,\n",
       "       -0.59639061, -0.15474199,  1.66334397, -0.41743426,  0.88650857,\n",
       "       -1.11124043, -1.25153693,  1.96693564,  1.66195471,  0.71426599,\n",
       "       -0.0072171 ,  0.4313069 , -1.31999132, -1.46443904,  0.84822672,\n",
       "        1.27443492, -0.26928105, -0.79066472, -0.59168778,  0.77203563,\n",
       "        0.32077302,  0.04473549, -1.06540239,  0.37455184,  2.0064057 ,\n",
       "       -0.21382719, -0.80295558,  1.21658237, -2.04879801, -1.54019436,\n",
       "        0.77650048, -1.3591563 ,  1.15618746, -0.70103834, -0.89638555,\n",
       "        0.05429135, -0.10779812,  0.61298901, -1.85618089, -0.67314895,\n",
       "        1.05430305,  0.19424452, -0.76973279, -0.8237309 , -0.45072697,\n",
       "       -0.3507125 ,  1.23748121, -0.43680002, -2.0799575 , -0.05351722,\n",
       "        0.5514022 , -1.21424261,  1.65720202,  1.17780443,  0.5747657 ,\n",
       "        0.11409364, -0.4497073 , -0.45189552, -1.37124554,  0.18180436,\n",
       "       -2.3278936 , -1.30927794, -0.47169504, -0.34617874, -3.22560242,\n",
       "       -0.14887685, -1.15197788, -0.60954635, -1.28549291, -0.6670916 ,\n",
       "        0.01423883,  0.04836094,  1.6942696 ,  0.16682129, -1.80866254,\n",
       "       -2.13571071,  1.71801627, -0.4507353 , -1.8779808 , -0.20379428,\n",
       "        0.41802544, -1.65959183, -2.70801775, -0.11342247, -0.74021171,\n",
       "       -0.33318211, -1.11030713,  0.23469654, -1.89199988, -0.67190354,\n",
       "        0.5038435 ,  0.50222587, -0.43208147, -1.7967562 , -0.53276802,\n",
       "        2.32815294, -0.72301944,  1.35395721,  0.70354872, -0.54933014,\n",
       "        0.39741939, -0.75699052, -0.77228554,  0.75452039, -1.5738444 ,\n",
       "       -1.60654177,  2.32058368,  1.19799032,  0.66425027, -1.17727207,\n",
       "        1.59266387,  1.25435504,  0.5811521 ,  0.829271  , -1.87517119,\n",
       "       -2.75218836, -0.88034222, -2.56777477, -0.57774053, -0.81366814,\n",
       "        2.37399941,  0.32341024,  0.7588374 ,  0.35664388, -0.19912583,\n",
       "       -0.60597974, -0.32690865, -1.54931831, -0.67184302,  1.05176883])"
      ]
     },
     "execution_count": 22,
     "metadata": {},
     "output_type": "execute_result"
    }
   ],
   "source": [
    "#We can now define our prior GP with 0 mean function and covariance function K\n",
    "#We can draw a sample from this:\n",
    "\n",
    "mean = np.zeros((n,1))\n",
    "mean = mean.reshape(n)\n",
    "\n",
    "sample = np.random.multivariate_normal(mean, K)\n",
    "sample"
   ]
  },
  {
   "cell_type": "code",
   "execution_count": 23,
   "id": "3e764c49",
   "metadata": {},
   "outputs": [
    {
     "data": {
      "text/html": [
       "<div>\n",
       "<style scoped>\n",
       "    .dataframe tbody tr th:only-of-type {\n",
       "        vertical-align: middle;\n",
       "    }\n",
       "\n",
       "    .dataframe tbody tr th {\n",
       "        vertical-align: top;\n",
       "    }\n",
       "\n",
       "    .dataframe thead th {\n",
       "        text-align: right;\n",
       "    }\n",
       "</style>\n",
       "<table border=\"1\" class=\"dataframe\">\n",
       "  <thead>\n",
       "    <tr style=\"text-align: right;\">\n",
       "      <th></th>\n",
       "      <th>0</th>\n",
       "      <th>1</th>\n",
       "      <th>2</th>\n",
       "      <th>3</th>\n",
       "      <th>Output</th>\n",
       "    </tr>\n",
       "  </thead>\n",
       "  <tbody>\n",
       "    <tr>\n",
       "      <th>0</th>\n",
       "      <td>8.298618</td>\n",
       "      <td>7.990448</td>\n",
       "      <td>2.058391</td>\n",
       "      <td>1.077975</td>\n",
       "      <td>0.396031</td>\n",
       "    </tr>\n",
       "    <tr>\n",
       "      <th>1</th>\n",
       "      <td>8.855392</td>\n",
       "      <td>7.037031</td>\n",
       "      <td>6.702554</td>\n",
       "      <td>3.942593</td>\n",
       "      <td>1.168411</td>\n",
       "    </tr>\n",
       "    <tr>\n",
       "      <th>2</th>\n",
       "      <td>1.033326</td>\n",
       "      <td>3.936282</td>\n",
       "      <td>6.937451</td>\n",
       "      <td>9.739695</td>\n",
       "      <td>-1.108691</td>\n",
       "    </tr>\n",
       "    <tr>\n",
       "      <th>3</th>\n",
       "      <td>4.914224</td>\n",
       "      <td>3.498826</td>\n",
       "      <td>9.307832</td>\n",
       "      <td>6.318492</td>\n",
       "      <td>-1.209890</td>\n",
       "    </tr>\n",
       "    <tr>\n",
       "      <th>4</th>\n",
       "      <td>3.659548</td>\n",
       "      <td>6.087176</td>\n",
       "      <td>3.198000</td>\n",
       "      <td>4.393357</td>\n",
       "      <td>-0.709211</td>\n",
       "    </tr>\n",
       "    <tr>\n",
       "      <th>...</th>\n",
       "      <td>...</td>\n",
       "      <td>...</td>\n",
       "      <td>...</td>\n",
       "      <td>...</td>\n",
       "      <td>...</td>\n",
       "    </tr>\n",
       "    <tr>\n",
       "      <th>195</th>\n",
       "      <td>3.321805</td>\n",
       "      <td>4.580834</td>\n",
       "      <td>9.896205</td>\n",
       "      <td>9.068701</td>\n",
       "      <td>-0.605980</td>\n",
       "    </tr>\n",
       "    <tr>\n",
       "      <th>196</th>\n",
       "      <td>2.687361</td>\n",
       "      <td>4.545048</td>\n",
       "      <td>3.103580</td>\n",
       "      <td>1.254827</td>\n",
       "      <td>-0.326909</td>\n",
       "    </tr>\n",
       "    <tr>\n",
       "      <th>197</th>\n",
       "      <td>8.285668</td>\n",
       "      <td>3.136081</td>\n",
       "      <td>1.797681</td>\n",
       "      <td>5.890192</td>\n",
       "      <td>-1.549318</td>\n",
       "    </tr>\n",
       "    <tr>\n",
       "      <th>198</th>\n",
       "      <td>5.448711</td>\n",
       "      <td>5.355949</td>\n",
       "      <td>7.845841</td>\n",
       "      <td>3.134208</td>\n",
       "      <td>-0.671843</td>\n",
       "    </tr>\n",
       "    <tr>\n",
       "      <th>199</th>\n",
       "      <td>3.963193</td>\n",
       "      <td>7.356674</td>\n",
       "      <td>7.074983</td>\n",
       "      <td>8.994361</td>\n",
       "      <td>1.051769</td>\n",
       "    </tr>\n",
       "  </tbody>\n",
       "</table>\n",
       "<p>200 rows × 5 columns</p>\n",
       "</div>"
      ],
      "text/plain": [
       "            0         1         2         3    Output\n",
       "0    8.298618  7.990448  2.058391  1.077975  0.396031\n",
       "1    8.855392  7.037031  6.702554  3.942593  1.168411\n",
       "2    1.033326  3.936282  6.937451  9.739695 -1.108691\n",
       "3    4.914224  3.498826  9.307832  6.318492 -1.209890\n",
       "4    3.659548  6.087176  3.198000  4.393357 -0.709211\n",
       "..        ...       ...       ...       ...       ...\n",
       "195  3.321805  4.580834  9.896205  9.068701 -0.605980\n",
       "196  2.687361  4.545048  3.103580  1.254827 -0.326909\n",
       "197  8.285668  3.136081  1.797681  5.890192 -1.549318\n",
       "198  5.448711  5.355949  7.845841  3.134208 -0.671843\n",
       "199  3.963193  7.356674  7.074983  8.994361  1.051769\n",
       "\n",
       "[200 rows x 5 columns]"
      ]
     },
     "execution_count": 23,
     "metadata": {},
     "output_type": "execute_result"
    }
   ],
   "source": [
    "data = pd.DataFrame(X)\n",
    "data['Output'] = sample\n",
    "data"
   ]
  },
  {
   "cell_type": "code",
   "execution_count": 24,
   "id": "9746adde",
   "metadata": {},
   "outputs": [],
   "source": [
    "data.to_csv(\"generated_data2.csv\",index=False)"
   ]
  },
  {
   "cell_type": "code",
   "execution_count": 17,
   "id": "8a169db0",
   "metadata": {},
   "outputs": [],
   "source": [
    "data.to_csv(\"C:/Users/jacob/Documents/4YP data/DataSynthesis/Regression/4x200/data.csv\",index=False)"
   ]
  },
  {
   "cell_type": "code",
   "execution_count": null,
   "id": "c1eb2bc8",
   "metadata": {},
   "outputs": [],
   "source": []
  }
 ],
 "metadata": {
  "kernelspec": {
   "display_name": "Python 3",
   "language": "python",
   "name": "python3"
  },
  "language_info": {
   "codemirror_mode": {
    "name": "ipython",
    "version": 3
   },
   "file_extension": ".py",
   "mimetype": "text/x-python",
   "name": "python",
   "nbconvert_exporter": "python",
   "pygments_lexer": "ipython3",
   "version": "3.8.8"
  }
 },
 "nbformat": 4,
 "nbformat_minor": 5
}
