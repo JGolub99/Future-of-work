{
 "cells": [
  {
   "cell_type": "code",
   "execution_count": 18,
   "id": "c7ed2582",
   "metadata": {},
   "outputs": [
    {
     "data": {
      "text/html": [
       "<div>\n",
       "<style scoped>\n",
       "    .dataframe tbody tr th:only-of-type {\n",
       "        vertical-align: middle;\n",
       "    }\n",
       "\n",
       "    .dataframe tbody tr th {\n",
       "        vertical-align: top;\n",
       "    }\n",
       "\n",
       "    .dataframe thead th {\n",
       "        text-align: right;\n",
       "    }\n",
       "</style>\n",
       "<table border=\"1\" class=\"dataframe\">\n",
       "  <thead>\n",
       "    <tr style=\"text-align: right;\">\n",
       "      <th></th>\n",
       "      <th>Reading Comprehension</th>\n",
       "      <th>Active Listening</th>\n",
       "      <th>Writing</th>\n",
       "      <th>Speaking</th>\n",
       "      <th>Mathematics</th>\n",
       "      <th>Science</th>\n",
       "      <th>Critical Thinking</th>\n",
       "      <th>Active Learning</th>\n",
       "      <th>Learning Strategies</th>\n",
       "      <th>Monitoring</th>\n",
       "      <th>...</th>\n",
       "      <th>Repairing</th>\n",
       "      <th>Quality Control Analysis</th>\n",
       "      <th>Judgment and Decision Making</th>\n",
       "      <th>Systems Analysis</th>\n",
       "      <th>Systems Evaluation</th>\n",
       "      <th>Time Management</th>\n",
       "      <th>Management of Financial Resources</th>\n",
       "      <th>Management of Material Resources</th>\n",
       "      <th>Management of Personnel Resources</th>\n",
       "      <th>Auto probability</th>\n",
       "    </tr>\n",
       "  </thead>\n",
       "  <tbody>\n",
       "    <tr>\n",
       "      <th>0</th>\n",
       "      <td>4.25</td>\n",
       "      <td>4.00</td>\n",
       "      <td>4.25</td>\n",
       "      <td>4.12</td>\n",
       "      <td>3.12</td>\n",
       "      <td>1.88</td>\n",
       "      <td>4.12</td>\n",
       "      <td>3.88</td>\n",
       "      <td>3.75</td>\n",
       "      <td>4.00</td>\n",
       "      <td>...</td>\n",
       "      <td>0.0</td>\n",
       "      <td>1.50</td>\n",
       "      <td>4.00</td>\n",
       "      <td>4.00</td>\n",
       "      <td>4.00</td>\n",
       "      <td>3.88</td>\n",
       "      <td>3.12</td>\n",
       "      <td>2.62</td>\n",
       "      <td>4.00</td>\n",
       "      <td>0.176306</td>\n",
       "    </tr>\n",
       "    <tr>\n",
       "      <th>1</th>\n",
       "      <td>4.00</td>\n",
       "      <td>4.00</td>\n",
       "      <td>3.88</td>\n",
       "      <td>4.00</td>\n",
       "      <td>2.50</td>\n",
       "      <td>1.12</td>\n",
       "      <td>4.00</td>\n",
       "      <td>3.62</td>\n",
       "      <td>3.25</td>\n",
       "      <td>4.00</td>\n",
       "      <td>...</td>\n",
       "      <td>0.0</td>\n",
       "      <td>2.12</td>\n",
       "      <td>3.75</td>\n",
       "      <td>3.00</td>\n",
       "      <td>3.12</td>\n",
       "      <td>3.75</td>\n",
       "      <td>3.38</td>\n",
       "      <td>3.25</td>\n",
       "      <td>3.88</td>\n",
       "      <td>0.090045</td>\n",
       "    </tr>\n",
       "    <tr>\n",
       "      <th>2</th>\n",
       "      <td>4.00</td>\n",
       "      <td>4.12</td>\n",
       "      <td>3.88</td>\n",
       "      <td>4.12</td>\n",
       "      <td>3.25</td>\n",
       "      <td>0.62</td>\n",
       "      <td>4.12</td>\n",
       "      <td>4.12</td>\n",
       "      <td>3.25</td>\n",
       "      <td>4.25</td>\n",
       "      <td>...</td>\n",
       "      <td>0.0</td>\n",
       "      <td>1.00</td>\n",
       "      <td>4.00</td>\n",
       "      <td>3.12</td>\n",
       "      <td>3.75</td>\n",
       "      <td>3.88</td>\n",
       "      <td>3.62</td>\n",
       "      <td>2.62</td>\n",
       "      <td>3.88</td>\n",
       "      <td>0.341019</td>\n",
       "    </tr>\n",
       "    <tr>\n",
       "      <th>3</th>\n",
       "      <td>4.25</td>\n",
       "      <td>4.12</td>\n",
       "      <td>3.88</td>\n",
       "      <td>4.12</td>\n",
       "      <td>3.12</td>\n",
       "      <td>1.50</td>\n",
       "      <td>4.25</td>\n",
       "      <td>4.12</td>\n",
       "      <td>3.50</td>\n",
       "      <td>4.25</td>\n",
       "      <td>...</td>\n",
       "      <td>0.0</td>\n",
       "      <td>1.38</td>\n",
       "      <td>4.00</td>\n",
       "      <td>3.75</td>\n",
       "      <td>3.75</td>\n",
       "      <td>3.75</td>\n",
       "      <td>3.75</td>\n",
       "      <td>2.75</td>\n",
       "      <td>3.88</td>\n",
       "      <td>0.267772</td>\n",
       "    </tr>\n",
       "    <tr>\n",
       "      <th>4</th>\n",
       "      <td>4.00</td>\n",
       "      <td>4.00</td>\n",
       "      <td>4.00</td>\n",
       "      <td>4.12</td>\n",
       "      <td>3.25</td>\n",
       "      <td>0.62</td>\n",
       "      <td>4.00</td>\n",
       "      <td>3.88</td>\n",
       "      <td>3.75</td>\n",
       "      <td>4.75</td>\n",
       "      <td>...</td>\n",
       "      <td>0.0</td>\n",
       "      <td>1.38</td>\n",
       "      <td>4.00</td>\n",
       "      <td>3.75</td>\n",
       "      <td>3.88</td>\n",
       "      <td>3.88</td>\n",
       "      <td>3.62</td>\n",
       "      <td>3.00</td>\n",
       "      <td>4.00</td>\n",
       "      <td>0.132264</td>\n",
       "    </tr>\n",
       "  </tbody>\n",
       "</table>\n",
       "<p>5 rows × 36 columns</p>\n",
       "</div>"
      ],
      "text/plain": [
       "   Reading Comprehension  Active Listening  Writing  Speaking  Mathematics  \\\n",
       "0                   4.25              4.00     4.25      4.12         3.12   \n",
       "1                   4.00              4.00     3.88      4.00         2.50   \n",
       "2                   4.00              4.12     3.88      4.12         3.25   \n",
       "3                   4.25              4.12     3.88      4.12         3.12   \n",
       "4                   4.00              4.00     4.00      4.12         3.25   \n",
       "\n",
       "   Science  Critical Thinking  Active Learning  Learning Strategies  \\\n",
       "0     1.88               4.12             3.88                 3.75   \n",
       "1     1.12               4.00             3.62                 3.25   \n",
       "2     0.62               4.12             4.12                 3.25   \n",
       "3     1.50               4.25             4.12                 3.50   \n",
       "4     0.62               4.00             3.88                 3.75   \n",
       "\n",
       "   Monitoring  ...  Repairing  Quality Control Analysis  \\\n",
       "0        4.00  ...        0.0                      1.50   \n",
       "1        4.00  ...        0.0                      2.12   \n",
       "2        4.25  ...        0.0                      1.00   \n",
       "3        4.25  ...        0.0                      1.38   \n",
       "4        4.75  ...        0.0                      1.38   \n",
       "\n",
       "   Judgment and Decision Making  Systems Analysis  Systems Evaluation  \\\n",
       "0                          4.00              4.00                4.00   \n",
       "1                          3.75              3.00                3.12   \n",
       "2                          4.00              3.12                3.75   \n",
       "3                          4.00              3.75                3.75   \n",
       "4                          4.00              3.75                3.88   \n",
       "\n",
       "   Time Management  Management of Financial Resources  \\\n",
       "0             3.88                               3.12   \n",
       "1             3.75                               3.38   \n",
       "2             3.88                               3.62   \n",
       "3             3.75                               3.75   \n",
       "4             3.88                               3.62   \n",
       "\n",
       "   Management of Material Resources  Management of Personnel Resources  \\\n",
       "0                              2.62                               4.00   \n",
       "1                              3.25                               3.88   \n",
       "2                              2.62                               3.88   \n",
       "3                              2.75                               3.88   \n",
       "4                              3.00                               4.00   \n",
       "\n",
       "   Auto probability  \n",
       "0          0.176306  \n",
       "1          0.090045  \n",
       "2          0.341019  \n",
       "3          0.267772  \n",
       "4          0.132264  \n",
       "\n",
       "[5 rows x 36 columns]"
      ]
     },
     "execution_count": 18,
     "metadata": {},
     "output_type": "execute_result"
    }
   ],
   "source": [
    "\"\"\" In this Notebook I shall investigate using Osborne's PIGEBaQ method on \n",
    "the test data obtained from my permutation algorithm. We shall see if the results agree, \n",
    "and learn a bit about the challenges of using this approach.\"\"\"\n",
    "\n",
    "import numpy as np\n",
    "import pandas as pd\n",
    "import matplotlib.pyplot as plt \n",
    "\n",
    "df1 = pd.read_excel(\"/Users/jacob/Documents/4YP data/ONET_18-10-21/unknown_jobs.xlsx\") #This is all the data I will need\n",
    "df1.drop(columns=['O*NET-SOC Code', 'Title','Auto label value','Auto probability0','Auto probability1'], inplace=True)\n",
    "df1.head()"
   ]
  },
  {
   "cell_type": "code",
   "execution_count": 31,
   "id": "24094247",
   "metadata": {},
   "outputs": [
    {
     "name": "stdout",
     "output_type": "stream",
     "text": [
      "[3.64277778 3.54018519 3.29003704 3.45434568 2.56759259 1.54771605\n",
      " 3.56935802 3.19358025 2.85107407 3.38977778 3.0997284  3.15017284\n",
      " 2.75749383 2.55220988 2.93035802 2.84587654 3.16495062 1.74250617\n",
      " 1.02639506 1.12487654 0.37941975 0.82948148 2.32934568 1.82325926\n",
      " 1.10159259 1.62637037 1.07355556 2.23146914 3.209      2.64719753\n",
      " 2.63446914 3.04465432 1.33997531 1.4938642  2.58975309]\n"
     ]
    }
   ],
   "source": [
    "#We first need to model the input variables of our data. We shall assume they are gaussian (non-mixture)\n",
    "\n",
    "mu = list(df1.mean(axis='index'))\n",
    "del mu[-1]\n",
    "m = len(mu)\n",
    "\n",
    "np_mu = np.array(mu)\n",
    "print(np_mu)\n",
    "#We have our vector of means (mx1)"
   ]
  },
  {
   "cell_type": "code",
   "execution_count": 26,
   "id": "cf68c9d4",
   "metadata": {},
   "outputs": [
    {
     "name": "stdout",
     "output_type": "stream",
     "text": [
      "[[0.7023212  0.48004942 0.66776108 ... 0.31827003 0.26150273 0.35550056]\n",
      " [0.48004942 0.39169947 0.47694239 ... 0.22818567 0.1759779  0.26393503]\n",
      " [0.66776108 0.47694239 0.72033461 ... 0.33661323 0.27250134 0.37274834]\n",
      " ...\n",
      " [0.31827003 0.22818567 0.33661323 ... 0.79005266 0.62692222 0.41116798]\n",
      " [0.26150273 0.1759779  0.27250134 ... 0.62692222 0.62672609 0.36459366]\n",
      " [0.35550056 0.26393503 0.37274834 ... 0.41116798 0.36459366 0.45339129]]\n"
     ]
    }
   ],
   "source": [
    "#Now lets get our covariance matrix:\n",
    "\n",
    "df2 = df1.drop(columns=['Auto probability']) #This dataframe removes the output of our GP so the covariance isn't effected\n",
    "\n",
    "df_cov = df2.cov()\n",
    "df_cov.head()\n",
    "\n",
    "np_cov = df_cov.to_numpy()\n",
    "print(np_cov)\n",
    "#We have our covariance matrix (mxm)"
   ]
  },
  {
   "cell_type": "code",
   "execution_count": 30,
   "id": "9a8e1b3a",
   "metadata": {},
   "outputs": [
    {
     "name": "stdout",
     "output_type": "stream",
     "text": [
      "(35,)\n",
      "(35, 35)\n"
     ]
    }
   ],
   "source": [
    "print(np.shape(np_mu))\n",
    "print(np.shape(np_cov))"
   ]
  },
  {
   "cell_type": "code",
   "execution_count": 35,
   "id": "38cebee9",
   "metadata": {},
   "outputs": [
    {
     "data": {
      "text/plain": [
       "(35, 35)"
      ]
     },
     "execution_count": 35,
     "metadata": {},
     "output_type": "execute_result"
    }
   ],
   "source": [
    "#Now lets focus on the matrix of lengthscales and the output variance of the kernel:\n",
    "\n",
    "output_var = 125\n",
    "lengthscale = 8  #both values estimated while get_params method continues to not work\n",
    "np_lengthscale = lengthscale*np.identity(m)\n",
    "\n"
   ]
  },
  {
   "cell_type": "code",
   "execution_count": 71,
   "id": "e6879994",
   "metadata": {},
   "outputs": [
    {
     "name": "stdout",
     "output_type": "stream",
     "text": [
      "[[-0.01876064]\n",
      " [ 0.00322823]\n",
      " [-0.63572852]\n",
      " [-0.249215  ]\n",
      " [-0.1629253 ]\n",
      " [ 0.36663627]\n",
      " [-0.1776416 ]\n",
      " [-0.23814994]\n",
      " [-0.70359621]\n",
      " [-0.43108496]\n",
      " [-0.61152384]\n",
      " [-0.80854267]\n",
      " [-1.40358688]\n",
      " [-0.39985298]\n",
      " [ 0.0757246 ]\n",
      " [-0.03133469]\n",
      " [-0.95294061]\n",
      " [-1.48826056]\n",
      " [ 0.17465573]\n",
      " [ 0.68462686]\n",
      " [ 0.23317987]\n",
      " [ 0.02900624]\n",
      " [ 0.09286823]\n",
      " [ 0.3037086 ]\n",
      " [ 0.68643703]\n",
      " [ 1.98937267]\n",
      " [ 0.66013405]\n",
      " [ 0.80898793]\n",
      " [-0.59132452]\n",
      " [-1.48959956]\n",
      " [-1.44512639]\n",
      " [-0.9269268 ]\n",
      " [-2.39127602]\n",
      " [-1.3658371 ]\n",
      " [-1.82494356]]\n"
     ]
    }
   ],
   "source": [
    "#We now have all the ingredients we need to make z_n (for each observation):\n",
    "#Lets begin by just focusing on the first observation, and then creating a function for this\n",
    "import math\n",
    "\n",
    "x = np.array(df2.iloc[[0]])\n",
    "\n",
    "element1 = (output_var*math.sqrt(np.linalg.det(np_lengthscale)))/(math.sqrt(np.linalg.det(np_lengthscale+np_cov)))\n",
    "#print(element1)\n",
    "element2 = np.linalg.inv(np_lengthscale+np_cov)\n",
    "#print(element2)\n",
    "element3 = np.transpose(np_mu - x)\n",
    "#print(element3)\n",
    "#temp = np.matmul(element2,-1*element3)\n",
    "element4 = -0.5*np.matmul(np.transpose(-1*element3),np.matmul(element2,-1*element3))\n",
    "#print(element4)\n",
    "\n",
    "z = element1*math.exp(element4.item())*np.matmul(element2,element3)\n",
    "print(z)"
   ]
  },
  {
   "cell_type": "code",
   "execution_count": 63,
   "id": "c523c3ab",
   "metadata": {},
   "outputs": [
    {
     "data": {
      "text/plain": [
       "(35, 1)"
      ]
     },
     "execution_count": 63,
     "metadata": {},
     "output_type": "execute_result"
    }
   ],
   "source": [
    "np.shape(element3)"
   ]
  },
  {
   "cell_type": "code",
   "execution_count": 67,
   "id": "e902cd1f",
   "metadata": {},
   "outputs": [
    {
     "data": {
      "text/plain": [
       "-0.8985978831053343"
      ]
     },
     "execution_count": 67,
     "metadata": {},
     "output_type": "execute_result"
    }
   ],
   "source": [
    "element4.item()"
   ]
  },
  {
   "cell_type": "code",
   "execution_count": 70,
   "id": "31c7f5cc",
   "metadata": {},
   "outputs": [
    {
     "data": {
      "text/plain": [
       "37.973210892541736"
      ]
     },
     "execution_count": 70,
     "metadata": {},
     "output_type": "execute_result"
    }
   ],
   "source": [
    "element1"
   ]
  },
  {
   "cell_type": "code",
   "execution_count": null,
   "id": "8557a191",
   "metadata": {},
   "outputs": [],
   "source": []
  }
 ],
 "metadata": {
  "kernelspec": {
   "display_name": "Python 3",
   "language": "python",
   "name": "python3"
  },
  "language_info": {
   "codemirror_mode": {
    "name": "ipython",
    "version": 3
   },
   "file_extension": ".py",
   "mimetype": "text/x-python",
   "name": "python",
   "nbconvert_exporter": "python",
   "pygments_lexer": "ipython3",
   "version": "3.8.8"
  }
 },
 "nbformat": 4,
 "nbformat_minor": 5
}
