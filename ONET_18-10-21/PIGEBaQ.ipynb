{
 "cells": [
  {
   "cell_type": "code",
   "execution_count": 1,
   "id": "c7ed2582",
   "metadata": {
    "scrolled": true
   },
   "outputs": [
    {
     "data": {
      "text/html": [
       "<div>\n",
       "<style scoped>\n",
       "    .dataframe tbody tr th:only-of-type {\n",
       "        vertical-align: middle;\n",
       "    }\n",
       "\n",
       "    .dataframe tbody tr th {\n",
       "        vertical-align: top;\n",
       "    }\n",
       "\n",
       "    .dataframe thead th {\n",
       "        text-align: right;\n",
       "    }\n",
       "</style>\n",
       "<table border=\"1\" class=\"dataframe\">\n",
       "  <thead>\n",
       "    <tr style=\"text-align: right;\">\n",
       "      <th></th>\n",
       "      <th>Reading Comprehension</th>\n",
       "      <th>Active Listening</th>\n",
       "      <th>Writing</th>\n",
       "      <th>Speaking</th>\n",
       "      <th>Mathematics</th>\n",
       "      <th>Science</th>\n",
       "      <th>Critical Thinking</th>\n",
       "      <th>Active Learning</th>\n",
       "      <th>Learning Strategies</th>\n",
       "      <th>Monitoring</th>\n",
       "      <th>...</th>\n",
       "      <th>Repairing</th>\n",
       "      <th>Quality Control Analysis</th>\n",
       "      <th>Judgment and Decision Making</th>\n",
       "      <th>Systems Analysis</th>\n",
       "      <th>Systems Evaluation</th>\n",
       "      <th>Time Management</th>\n",
       "      <th>Management of Financial Resources</th>\n",
       "      <th>Management of Material Resources</th>\n",
       "      <th>Management of Personnel Resources</th>\n",
       "      <th>Auto label value</th>\n",
       "    </tr>\n",
       "  </thead>\n",
       "  <tbody>\n",
       "    <tr>\n",
       "      <th>0</th>\n",
       "      <td>1.416147</td>\n",
       "      <td>1.658374</td>\n",
       "      <td>1.365633</td>\n",
       "      <td>1.917195</td>\n",
       "      <td>1.261042</td>\n",
       "      <td>0.220817</td>\n",
       "      <td>1.625616</td>\n",
       "      <td>1.970645</td>\n",
       "      <td>1.457906</td>\n",
       "      <td>3.373452</td>\n",
       "      <td>...</td>\n",
       "      <td>-0.462245</td>\n",
       "      <td>-0.559854</td>\n",
       "      <td>3.198755</td>\n",
       "      <td>3.231506</td>\n",
       "      <td>2.796083</td>\n",
       "      <td>3.000691</td>\n",
       "      <td>3.518175</td>\n",
       "      <td>3.370579</td>\n",
       "      <td>3.269982</td>\n",
       "      <td>0.0</td>\n",
       "    </tr>\n",
       "    <tr>\n",
       "      <th>1</th>\n",
       "      <td>0.471545</td>\n",
       "      <td>0.428166</td>\n",
       "      <td>0.442029</td>\n",
       "      <td>0.640730</td>\n",
       "      <td>0.757520</td>\n",
       "      <td>-0.360280</td>\n",
       "      <td>0.700087</td>\n",
       "      <td>0.603361</td>\n",
       "      <td>0.796184</td>\n",
       "      <td>1.331014</td>\n",
       "      <td>...</td>\n",
       "      <td>-0.360652</td>\n",
       "      <td>0.576425</td>\n",
       "      <td>0.525771</td>\n",
       "      <td>1.025229</td>\n",
       "      <td>1.216929</td>\n",
       "      <td>1.436145</td>\n",
       "      <td>1.634337</td>\n",
       "      <td>1.785321</td>\n",
       "      <td>1.403902</td>\n",
       "      <td>0.0</td>\n",
       "    </tr>\n",
       "    <tr>\n",
       "      <th>2</th>\n",
       "      <td>0.622682</td>\n",
       "      <td>0.481653</td>\n",
       "      <td>0.871310</td>\n",
       "      <td>0.696228</td>\n",
       "      <td>0.433029</td>\n",
       "      <td>-0.104950</td>\n",
       "      <td>0.589576</td>\n",
       "      <td>0.879327</td>\n",
       "      <td>1.457906</td>\n",
       "      <td>1.316106</td>\n",
       "      <td>...</td>\n",
       "      <td>-0.462245</td>\n",
       "      <td>0.327864</td>\n",
       "      <td>0.840981</td>\n",
       "      <td>0.634534</td>\n",
       "      <td>0.901098</td>\n",
       "      <td>1.436145</td>\n",
       "      <td>1.564887</td>\n",
       "      <td>1.735155</td>\n",
       "      <td>1.650365</td>\n",
       "      <td>0.0</td>\n",
       "    </tr>\n",
       "    <tr>\n",
       "      <th>3</th>\n",
       "      <td>0.622682</td>\n",
       "      <td>0.815949</td>\n",
       "      <td>0.871310</td>\n",
       "      <td>0.862724</td>\n",
       "      <td>0.701574</td>\n",
       "      <td>0.995613</td>\n",
       "      <td>0.755342</td>\n",
       "      <td>0.879327</td>\n",
       "      <td>1.285859</td>\n",
       "      <td>1.137206</td>\n",
       "      <td>...</td>\n",
       "      <td>-0.462245</td>\n",
       "      <td>0.173993</td>\n",
       "      <td>1.143583</td>\n",
       "      <td>1.358469</td>\n",
       "      <td>1.445634</td>\n",
       "      <td>1.651944</td>\n",
       "      <td>1.452030</td>\n",
       "      <td>0.992692</td>\n",
       "      <td>2.096347</td>\n",
       "      <td>0.0</td>\n",
       "    </tr>\n",
       "    <tr>\n",
       "      <th>4</th>\n",
       "      <td>0.547113</td>\n",
       "      <td>0.401422</td>\n",
       "      <td>0.546097</td>\n",
       "      <td>0.529733</td>\n",
       "      <td>0.634437</td>\n",
       "      <td>-0.377889</td>\n",
       "      <td>0.589576</td>\n",
       "      <td>0.164325</td>\n",
       "      <td>-0.289040</td>\n",
       "      <td>-0.174725</td>\n",
       "      <td>...</td>\n",
       "      <td>-0.462245</td>\n",
       "      <td>0.398881</td>\n",
       "      <td>0.513163</td>\n",
       "      <td>-0.146855</td>\n",
       "      <td>-0.122629</td>\n",
       "      <td>-0.254284</td>\n",
       "      <td>0.644672</td>\n",
       "      <td>0.169964</td>\n",
       "      <td>-0.403496</td>\n",
       "      <td>1.0</td>\n",
       "    </tr>\n",
       "  </tbody>\n",
       "</table>\n",
       "<p>5 rows × 36 columns</p>\n",
       "</div>"
      ],
      "text/plain": [
       "   Reading Comprehension  Active Listening   Writing  Speaking  Mathematics  \\\n",
       "0               1.416147          1.658374  1.365633  1.917195     1.261042   \n",
       "1               0.471545          0.428166  0.442029  0.640730     0.757520   \n",
       "2               0.622682          0.481653  0.871310  0.696228     0.433029   \n",
       "3               0.622682          0.815949  0.871310  0.862724     0.701574   \n",
       "4               0.547113          0.401422  0.546097  0.529733     0.634437   \n",
       "\n",
       "    Science  Critical Thinking  Active Learning  Learning Strategies  \\\n",
       "0  0.220817           1.625616         1.970645             1.457906   \n",
       "1 -0.360280           0.700087         0.603361             0.796184   \n",
       "2 -0.104950           0.589576         0.879327             1.457906   \n",
       "3  0.995613           0.755342         0.879327             1.285859   \n",
       "4 -0.377889           0.589576         0.164325            -0.289040   \n",
       "\n",
       "   Monitoring  ...  Repairing  Quality Control Analysis  \\\n",
       "0    3.373452  ...  -0.462245                 -0.559854   \n",
       "1    1.331014  ...  -0.360652                  0.576425   \n",
       "2    1.316106  ...  -0.462245                  0.327864   \n",
       "3    1.137206  ...  -0.462245                  0.173993   \n",
       "4   -0.174725  ...  -0.462245                  0.398881   \n",
       "\n",
       "   Judgment and Decision Making  Systems Analysis  Systems Evaluation  \\\n",
       "0                      3.198755          3.231506            2.796083   \n",
       "1                      0.525771          1.025229            1.216929   \n",
       "2                      0.840981          0.634534            0.901098   \n",
       "3                      1.143583          1.358469            1.445634   \n",
       "4                      0.513163         -0.146855           -0.122629   \n",
       "\n",
       "   Time Management  Management of Financial Resources  \\\n",
       "0         3.000691                           3.518175   \n",
       "1         1.436145                           1.634337   \n",
       "2         1.436145                           1.564887   \n",
       "3         1.651944                           1.452030   \n",
       "4        -0.254284                           0.644672   \n",
       "\n",
       "   Management of Material Resources  Management of Personnel Resources  \\\n",
       "0                          3.370579                           3.269982   \n",
       "1                          1.785321                           1.403902   \n",
       "2                          1.735155                           1.650365   \n",
       "3                          0.992692                           2.096347   \n",
       "4                          0.169964                          -0.403496   \n",
       "\n",
       "   Auto label value  \n",
       "0               0.0  \n",
       "1               0.0  \n",
       "2               0.0  \n",
       "3               0.0  \n",
       "4               1.0  \n",
       "\n",
       "[5 rows x 36 columns]"
      ]
     },
     "execution_count": 1,
     "metadata": {},
     "output_type": "execute_result"
    }
   ],
   "source": [
    "\"\"\" In this Notebook I shall investigate using Osborne's PIGEBaQ method on \n",
    "the test data obtained from my permutation algorithm. We shall see if the results agree, \n",
    "and learn a bit about the challenges of using this approach.\"\"\"\n",
    "\n",
    "import numpy as np\n",
    "import pandas as pd\n",
    "import matplotlib.pyplot as plt \n",
    "\n",
    "df = pd.read_csv(\"/Users/jacob/Documents/4YP data/ONET_18-10-21/scaled_total_set.csv\") #This is all the data I will need\n",
    "df.drop(columns=['O*NET-SOC Code', 'Title'], inplace=True)\n",
    "df.head()"
   ]
  },
  {
   "cell_type": "code",
   "execution_count": 2,
   "id": "e42d5b43",
   "metadata": {},
   "outputs": [
    {
     "data": {
      "text/plain": [
       "' Not necessary when using scaled training set'"
      ]
     },
     "execution_count": 2,
     "metadata": {},
     "output_type": "execute_result"
    }
   ],
   "source": [
    "#Lets now drop the unseen observations to leave just the training data:\n",
    "\n",
    "df1 = df.dropna()\n",
    "df1.reset_index(drop=True,inplace=True)\n",
    "df1.head()\n",
    "\n",
    "''' Not necessary when using scaled training set'''"
   ]
  },
  {
   "cell_type": "code",
   "execution_count": 3,
   "id": "24094247",
   "metadata": {},
   "outputs": [
    {
     "name": "stdout",
     "output_type": "stream",
     "text": [
      "35\n",
      "63\n",
      "[ 0.03752818 -0.02286795  0.03277732 -0.00432976 -0.01632227  0.05702519\n",
      "  0.00698149  0.00105528 -0.03947646 -0.02232934 -0.05512616 -0.04766119\n",
      " -0.04796171 -0.09966144 -0.04570855 -0.1407273  -0.00371802  0.05501268\n",
      "  0.06092517  0.02039227  0.05932767  0.00446861 -0.0243302  -0.00667049\n",
      "  0.0367995  -0.01393973  0.04027407  0.0486789  -0.01779188 -0.03212745\n",
      " -0.04864175 -0.00166131 -0.01951496 -0.01525377 -0.04618905]\n"
     ]
    }
   ],
   "source": [
    "#We first need to model the input variables of our data. We shall assume they are gaussian (non-mixture)\n",
    "\n",
    "mu = list(df.mean(axis='index'))\n",
    "del mu[-1]\n",
    "m = len(mu)\n",
    "print(m)\n",
    "\n",
    "n = len(df1.index)\n",
    "print(n)\n",
    "\n",
    "np_mu = np.array(mu)\n",
    "print(np_mu)\n",
    "#We have our vector of means (mx1)\n",
    "\n",
    "#Checked with excel, works"
   ]
  },
  {
   "cell_type": "code",
   "execution_count": 4,
   "id": "cf68c9d4",
   "metadata": {
    "scrolled": true
   },
   "outputs": [
    {
     "name": "stdout",
     "output_type": "stream",
     "text": [
      "[[1.212615   0.97899862 1.14550018 ... 0.49550273 0.46400925 0.50102343]\n",
      " [0.97899862 1.01154023 1.00482735 ... 0.41960006 0.36609006 0.49286511]\n",
      " [1.14550018 1.00482735 1.18477781 ... 0.43113451 0.39791495 0.49348872]\n",
      " ...\n",
      " [0.49550273 0.41960006 0.43113451 ... 0.98767927 0.95893632 0.77478643]\n",
      " [0.46400925 0.36609006 0.39791495 ... 0.95893632 1.01381003 0.81230896]\n",
      " [0.50102343 0.49286511 0.49348872 ... 0.77478643 0.81230896 0.98395153]]\n"
     ]
    }
   ],
   "source": [
    "#Now lets get our covariance matrix:\n",
    "\n",
    "df2 = df1.drop(columns=['Auto label value']) #This dataframe removes the output of our GP so the covariance isn't effected\n",
    "\n",
    "df_cov = df2.cov()\n",
    "df_cov.head()\n",
    "\n",
    "np_cov = df_cov.to_numpy()\n",
    "print(np_cov)\n",
    "#We have our covariance matrix (mxm)"
   ]
  },
  {
   "cell_type": "code",
   "execution_count": null,
   "id": "9a8e1b3a",
   "metadata": {},
   "outputs": [],
   "source": [
    "print(np.shape(np_mu))\n",
    "print(np.shape(np_cov))"
   ]
  },
  {
   "cell_type": "code",
   "execution_count": 5,
   "id": "38cebee9",
   "metadata": {},
   "outputs": [],
   "source": [
    "#Now lets focus on the matrix of lengthscales and the output variance of the kernel:\n",
    "\n",
    "output_var = 2.3316000000000003\n",
    "lengthscale = 14.390100000000004  #both values estimated while get_params method continues to not work\n",
    "np_lengthscale = lengthscale*np.identity(m)\n",
    "\n"
   ]
  },
  {
   "cell_type": "code",
   "execution_count": 6,
   "id": "e6879994",
   "metadata": {},
   "outputs": [
    {
     "name": "stdout",
     "output_type": "stream",
     "text": [
      "[[ 0.00011649]\n",
      " [-0.00149788]\n",
      " [ 0.00045762]\n",
      " [-0.00546622]\n",
      " [-0.01297132]\n",
      " [ 0.02545067]\n",
      " [-0.00766286]\n",
      " [-0.00354615]\n",
      " [-0.01228941]\n",
      " [-0.02775709]\n",
      " [-0.00786925]\n",
      " [-0.03023731]\n",
      " [-0.01487956]\n",
      " [-0.02389525]\n",
      " [-0.00798971]\n",
      " [-0.00240927]\n",
      " [-0.00138198]\n",
      " [-0.02623644]\n",
      " [ 0.00714309]\n",
      " [ 0.01480278]\n",
      " [ 0.00739952]\n",
      " [ 0.01130127]\n",
      " [-0.02356174]\n",
      " [-0.02225887]\n",
      " [ 0.01469697]\n",
      " [-0.00997662]\n",
      " [ 0.01097069]\n",
      " [-0.01575743]\n",
      " [-0.00089057]\n",
      " [-0.01731699]\n",
      " [-0.02384149]\n",
      " [-0.02925903]\n",
      " [-0.03793443]\n",
      " [-0.04280505]\n",
      " [-0.03065676]]\n"
     ]
    }
   ],
   "source": [
    "#We now have all the ingredients we need to make z_n (for each observation):\n",
    "#Lets begin by just focusing on the first observation, and then creating a function for this\n",
    "import math\n",
    "\n",
    "x = np.array(df2.iloc[[1]])\n",
    "\n",
    "element1 = (output_var*math.sqrt(np.linalg.det(np_lengthscale)))/(math.sqrt(np.linalg.det(np_lengthscale+np_cov)))\n",
    "#print(element1)\n",
    "element2 = np.linalg.inv(np_lengthscale+np_cov)\n",
    "#print(element2)\n",
    "element3 = np.transpose(np_mu - x)\n",
    "#print(element3)\n",
    "#temp = np.matmul(element2,-1*element3)\n",
    "element4 = -0.5*np.matmul(np.transpose(-1*element3),np.matmul(element2,-1*element3))\n",
    "#print(element4)\n",
    "\n",
    "z = element1*math.exp(element4.item())*np.matmul(element2,element3)\n",
    "print(z)"
   ]
  },
  {
   "cell_type": "code",
   "execution_count": 7,
   "id": "c523c3ab",
   "metadata": {},
   "outputs": [],
   "source": [
    "#Lets now create a function that does this for each observation:\n",
    "\n",
    "def compute_zn(index):\n",
    "    x = np.array(df2.iloc[[index]])\n",
    "\n",
    "    element1 = (output_var*math.sqrt(np.linalg.det(np_lengthscale)))/(math.sqrt(np.linalg.det(np_lengthscale+np_cov)))\n",
    "    element2 = np.linalg.inv(np_lengthscale+np_cov)\n",
    "    element3 = np.transpose(np_mu - x)\n",
    "    element4 = -0.5*np.matmul(np.transpose(-1*element3),np.matmul(element2,-1*element3))\n",
    "\n",
    "    zn = element1*math.exp(element4.item())*np.matmul(element2,element3)\n",
    "    return zn\n"
   ]
  },
  {
   "cell_type": "code",
   "execution_count": 8,
   "id": "ec8d7a9b",
   "metadata": {},
   "outputs": [
    {
     "name": "stdout",
     "output_type": "stream",
     "text": [
      "[[-0.00054779  0.00011649 -0.00216038 ...  0.01101506  0.04148635\n",
      "   0.00890875]\n",
      " [-0.00205622 -0.00149788 -0.00013263 ...  0.01101027  0.01308579\n",
      "   0.01011851]\n",
      " [-0.00043766  0.00045762 -0.00997745 ...  0.00727168  0.02851336\n",
      "   0.01124271]\n",
      " ...\n",
      " [-0.00951555 -0.03793443 -0.03249189 ...  0.00340099  0.00168985\n",
      "  -0.00016125]\n",
      " [-0.0089571  -0.04280505 -0.03779664 ...  0.00284834  0.00276941\n",
      "   0.00143169]\n",
      " [-0.00835241 -0.03065676 -0.03445337 ... -0.00639661  0.00983245\n",
      "   0.01205588]]\n"
     ]
    }
   ],
   "source": [
    "Z = [0]*n\n",
    "for i in range(0,n):\n",
    "    Z[i] = compute_zn(i)\n",
    "\n",
    "Z = np.array(Z)\n",
    "Z = np.transpose(Z)\n",
    "Z = Z.reshape(m,n)\n",
    "print(Z)"
   ]
  },
  {
   "cell_type": "code",
   "execution_count": null,
   "id": "0a8536a2",
   "metadata": {},
   "outputs": [],
   "source": [
    "poop = compute_zn(1)\n",
    "#np.shape(poop)\n",
    "np.shape(Z)\n",
    "#print(poop)"
   ]
  },
  {
   "cell_type": "code",
   "execution_count": null,
   "id": "dcec5ed7",
   "metadata": {},
   "outputs": [],
   "source": [
    "#We now need to find K, which is a matrix of the kernel outputs of the training data.\n",
    "X = df2.to_numpy()\n",
    "X_norm = np.sum(X ** 2, axis = -1)\n",
    "K = output_var * np.exp(-(1/lengthscale) * (X_norm[:,None] + X_norm[None,:] - 2 * np.dot(X, X.T)))\n",
    "print(K)\n",
    "np.shape(K)\n",
    "\n",
    "#I don't trust this code"
   ]
  },
  {
   "cell_type": "code",
   "execution_count": 9,
   "id": "a3c8aae4",
   "metadata": {},
   "outputs": [
    {
     "data": {
      "text/plain": [
       "array([[2.3316    , 2.01523051, 1.98569655, ..., 1.26621823, 1.04764759,\n",
       "        0.97072806],\n",
       "       [2.01523051, 2.3316    , 2.27565668, ..., 1.86179271, 1.7344988 ,\n",
       "        1.63470596],\n",
       "       [1.98569655, 2.27565668, 2.3316    , ..., 1.77614619, 1.68242147,\n",
       "        1.53790662],\n",
       "       ...,\n",
       "       [1.26621823, 1.86179271, 1.77614619, ..., 2.3316    , 1.97377122,\n",
       "        2.15001923],\n",
       "       [1.04764759, 1.7344988 , 1.68242147, ..., 1.97377122, 2.3316    ,\n",
       "        2.17936864],\n",
       "       [0.97072806, 1.63470596, 1.53790662, ..., 2.15001923, 2.17936864,\n",
       "        2.3316    ]])"
      ]
     },
     "execution_count": 9,
     "metadata": {},
     "output_type": "execute_result"
    }
   ],
   "source": [
    "# I do not trust the code that I've been presented with. I shall create my own function for computing the covariance matrix:\n",
    "\n",
    "X = df2.to_numpy() #Each row is an abservation, each column is a variable\n",
    "\n",
    "def compute_cov(x,y,var,l):  #x and y are each full observations (vectors)\n",
    "    d = 0\n",
    "    m = len(x)\n",
    "    for i in range(m):\n",
    "        d += (x[i]-y[i])**2\n",
    "    val = var*np.exp(-0.5*d/(l**2))\n",
    "    return val\n",
    "#This function takes in two observations and outputs a scalar\n",
    "\n",
    "\n",
    "num = df2.shape[0]\n",
    "K = np.empty([num,num])\n",
    "\n",
    "#Now lets start filling this matrix:\n",
    "\n",
    "K[0,0] = compute_cov(X[0,:],X[0,:],output_var,lengthscale)\n",
    "#K\n",
    "\n",
    "for i in range(num):\n",
    "    for j in range(num):\n",
    "        K[i,j] = compute_cov(X[i,:],X[j,:],output_var,lengthscale)\n",
    "\n",
    "K\n",
    "\n",
    "#Which of these methods should I trust?"
   ]
  },
  {
   "cell_type": "code",
   "execution_count": 10,
   "id": "a9afcb1d",
   "metadata": {},
   "outputs": [
    {
     "data": {
      "text/plain": [
       "(63,)"
      ]
     },
     "execution_count": 10,
     "metadata": {},
     "output_type": "execute_result"
    }
   ],
   "source": [
    "#Final ingredient: we need a row vector of the outputs:\n",
    "\n",
    "f = df1[\"Auto label value\"].to_numpy()\n",
    "f = f.reshape(n)\n",
    "np.shape(f)"
   ]
  },
  {
   "cell_type": "code",
   "execution_count": 11,
   "id": "168482b0",
   "metadata": {},
   "outputs": [
    {
     "name": "stdout",
     "output_type": "stream",
     "text": [
      "[-1.24571308 -0.42691972 -0.7364672   0.37694129 -5.90102583 -1.58464594\n",
      "  1.75518411  0.76251649  1.03462635 -0.57934575  0.72122459  0.05398722\n",
      "  0.63459162 -1.97177508 -0.5674741   3.61182461  0.21800034 -3.01548145\n",
      " -1.21767194  1.67737079 -1.56514624 -1.76174394  0.94215582  2.52243659\n",
      " -0.5864454  -1.01802825 -1.17275897  2.3269412  -1.46918052 -4.86203424\n",
      " -0.36162484 -1.28854735 -1.79537025 -1.48509259 -0.97351873]\n"
     ]
    }
   ],
   "source": [
    "#Moment of truth...\n",
    "\n",
    "E = np.matmul(Z,np.matmul(np.linalg.inv(K),f))\n",
    "print(E)"
   ]
  },
  {
   "cell_type": "code",
   "execution_count": null,
   "id": "745443c7",
   "metadata": {},
   "outputs": [],
   "source": [
    "print(np.shape(Z))\n",
    "print(np.shape(K))\n",
    "print(np.shape(f))"
   ]
  },
  {
   "cell_type": "code",
   "execution_count": 12,
   "id": "c78ae927",
   "metadata": {},
   "outputs": [],
   "source": [
    "#Lets now hitch these values onto a new dataframe of skills:\n",
    "\n",
    "output_df = pd.DataFrame({\"Skills\":df2.columns,\"Importance\":E})"
   ]
  },
  {
   "cell_type": "code",
   "execution_count": 13,
   "id": "ab94a2d7",
   "metadata": {
    "scrolled": true
   },
   "outputs": [
    {
     "name": "stdout",
     "output_type": "stream",
     "text": [
      "                               Skills  Importance\n",
      "0                         Mathematics   -5.901026\n",
      "1                    Systems Analysis   -4.862034\n",
      "2                 Operations Analysis   -3.015481\n",
      "3                         Negotiation   -1.971775\n",
      "4   Management of Financial Resources   -1.795370\n",
      "5                         Programming   -1.761744\n",
      "6                             Science   -1.584646\n",
      "7                        Installation   -1.565146\n",
      "8    Management of Material Resources   -1.485093\n",
      "9        Judgment and Decision Making   -1.469181\n",
      "10                    Time Management   -1.288547\n",
      "11              Reading Comprehension   -1.245713\n",
      "12                  Technology Design   -1.217672\n",
      "13                          Repairing   -1.172759\n",
      "14                    Troubleshooting   -1.018028\n",
      "15  Management of Personnel Resources   -0.973519\n",
      "16                            Writing   -0.736467\n",
      "17              Equipment Maintenance   -0.586445\n",
      "18                         Monitoring   -0.579346\n",
      "19                        Instructing   -0.567474\n",
      "20                   Active Listening   -0.426920\n",
      "21                 Systems Evaluation   -0.361625\n",
      "22                       Coordination    0.053987\n",
      "23            Complex Problem Solving    0.218000\n",
      "24                           Speaking    0.376941\n",
      "25                         Persuasion    0.634592\n",
      "26              Social Perceptiveness    0.721225\n",
      "27                    Active Learning    0.762516\n",
      "28              Operations Monitoring    0.942156\n",
      "29                Learning Strategies    1.034626\n",
      "30                Equipment Selection    1.677371\n",
      "31                  Critical Thinking    1.755184\n",
      "32           Quality Control Analysis    2.326941\n",
      "33              Operation and Control    2.522437\n",
      "34                Service Orientation    3.611825\n"
     ]
    }
   ],
   "source": [
    "output_df = output_df.sort_values(by=\"Importance\")\n",
    "output_df.reset_index(drop=True, inplace = True)\n",
    "print(output_df)"
   ]
  },
  {
   "cell_type": "code",
   "execution_count": null,
   "id": "62043967",
   "metadata": {},
   "outputs": [],
   "source": [
    "output_df.to_csv(\"PIGEBaQ_Ex.csv\")"
   ]
  },
  {
   "cell_type": "code",
   "execution_count": null,
   "id": "fc6287d9",
   "metadata": {},
   "outputs": [],
   "source": [
    "X_norm"
   ]
  },
  {
   "cell_type": "code",
   "execution_count": null,
   "id": "8c7b5847",
   "metadata": {},
   "outputs": [],
   "source": [
    "np.shape(X_norm)"
   ]
  },
  {
   "cell_type": "code",
   "execution_count": null,
   "id": "82b98588",
   "metadata": {},
   "outputs": [],
   "source": [
    "X_norm[:,None]"
   ]
  },
  {
   "cell_type": "code",
   "execution_count": null,
   "id": "6b3d326a",
   "metadata": {},
   "outputs": [],
   "source": [
    "X_norm[None,:]"
   ]
  },
  {
   "cell_type": "code",
   "execution_count": null,
   "id": "1e7d8037",
   "metadata": {},
   "outputs": [],
   "source": [
    "np.dot(X, X.T)"
   ]
  },
  {
   "cell_type": "code",
   "execution_count": null,
   "id": "9f8369ad",
   "metadata": {},
   "outputs": [],
   "source": [
    "X_norm[:,None] + X_norm[None,:]"
   ]
  },
  {
   "cell_type": "code",
   "execution_count": null,
   "id": "a0b9c5e9",
   "metadata": {},
   "outputs": [],
   "source": [
    "df2.shape[0]"
   ]
  },
  {
   "cell_type": "code",
   "execution_count": null,
   "id": "ead5c442",
   "metadata": {},
   "outputs": [],
   "source": [
    "compute_cov(X[0,:],X[1,:],1,8)"
   ]
  },
  {
   "cell_type": "code",
   "execution_count": null,
   "id": "0bfdffff",
   "metadata": {},
   "outputs": [],
   "source": [
    "test = X[0,:]\n",
    "test[1]"
   ]
  },
  {
   "cell_type": "code",
   "execution_count": null,
   "id": "10132aa5",
   "metadata": {},
   "outputs": [],
   "source": []
  }
 ],
 "metadata": {
  "kernelspec": {
   "display_name": "Python 3",
   "language": "python",
   "name": "python3"
  },
  "language_info": {
   "codemirror_mode": {
    "name": "ipython",
    "version": 3
   },
   "file_extension": ".py",
   "mimetype": "text/x-python",
   "name": "python",
   "nbconvert_exporter": "python",
   "pygments_lexer": "ipython3",
   "version": "3.8.8"
  }
 },
 "nbformat": 4,
 "nbformat_minor": 5
}
