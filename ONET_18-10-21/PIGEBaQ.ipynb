{
 "cells": [
  {
   "cell_type": "code",
   "execution_count": 67,
   "id": "c7ed2582",
   "metadata": {
    "scrolled": true
   },
   "outputs": [
    {
     "data": {
      "text/html": [
       "<div>\n",
       "<style scoped>\n",
       "    .dataframe tbody tr th:only-of-type {\n",
       "        vertical-align: middle;\n",
       "    }\n",
       "\n",
       "    .dataframe tbody tr th {\n",
       "        vertical-align: top;\n",
       "    }\n",
       "\n",
       "    .dataframe thead th {\n",
       "        text-align: right;\n",
       "    }\n",
       "</style>\n",
       "<table border=\"1\" class=\"dataframe\">\n",
       "  <thead>\n",
       "    <tr style=\"text-align: right;\">\n",
       "      <th></th>\n",
       "      <th>Reading Comprehension</th>\n",
       "      <th>Active Listening</th>\n",
       "      <th>Writing</th>\n",
       "      <th>Speaking</th>\n",
       "      <th>Mathematics</th>\n",
       "      <th>Science</th>\n",
       "      <th>Critical Thinking</th>\n",
       "      <th>Active Learning</th>\n",
       "      <th>Learning Strategies</th>\n",
       "      <th>Monitoring</th>\n",
       "      <th>...</th>\n",
       "      <th>Repairing</th>\n",
       "      <th>Quality Control Analysis</th>\n",
       "      <th>Judgment and Decision Making</th>\n",
       "      <th>Systems Analysis</th>\n",
       "      <th>Systems Evaluation</th>\n",
       "      <th>Time Management</th>\n",
       "      <th>Management of Financial Resources</th>\n",
       "      <th>Management of Material Resources</th>\n",
       "      <th>Management of Personnel Resources</th>\n",
       "      <th>Auto label value</th>\n",
       "    </tr>\n",
       "  </thead>\n",
       "  <tbody>\n",
       "    <tr>\n",
       "      <th>0</th>\n",
       "      <td>1.416147</td>\n",
       "      <td>1.658374</td>\n",
       "      <td>1.365633</td>\n",
       "      <td>1.917195</td>\n",
       "      <td>1.261042</td>\n",
       "      <td>0.220817</td>\n",
       "      <td>1.625616</td>\n",
       "      <td>1.970645</td>\n",
       "      <td>1.457906</td>\n",
       "      <td>3.373452</td>\n",
       "      <td>...</td>\n",
       "      <td>-0.462245</td>\n",
       "      <td>-0.559854</td>\n",
       "      <td>3.198755</td>\n",
       "      <td>3.231506</td>\n",
       "      <td>2.796083</td>\n",
       "      <td>3.000691</td>\n",
       "      <td>3.518175</td>\n",
       "      <td>3.370579</td>\n",
       "      <td>3.269982</td>\n",
       "      <td>0.0</td>\n",
       "    </tr>\n",
       "    <tr>\n",
       "      <th>1</th>\n",
       "      <td>0.471545</td>\n",
       "      <td>0.428166</td>\n",
       "      <td>0.442029</td>\n",
       "      <td>0.640730</td>\n",
       "      <td>0.757520</td>\n",
       "      <td>-0.360280</td>\n",
       "      <td>0.700087</td>\n",
       "      <td>0.603361</td>\n",
       "      <td>0.796184</td>\n",
       "      <td>1.331014</td>\n",
       "      <td>...</td>\n",
       "      <td>-0.360652</td>\n",
       "      <td>0.576425</td>\n",
       "      <td>0.525771</td>\n",
       "      <td>1.025229</td>\n",
       "      <td>1.216929</td>\n",
       "      <td>1.436145</td>\n",
       "      <td>1.634337</td>\n",
       "      <td>1.785321</td>\n",
       "      <td>1.403902</td>\n",
       "      <td>0.0</td>\n",
       "    </tr>\n",
       "    <tr>\n",
       "      <th>2</th>\n",
       "      <td>0.622682</td>\n",
       "      <td>0.481653</td>\n",
       "      <td>0.871310</td>\n",
       "      <td>0.696228</td>\n",
       "      <td>0.433029</td>\n",
       "      <td>-0.104950</td>\n",
       "      <td>0.589576</td>\n",
       "      <td>0.879327</td>\n",
       "      <td>1.457906</td>\n",
       "      <td>1.316106</td>\n",
       "      <td>...</td>\n",
       "      <td>-0.462245</td>\n",
       "      <td>0.327864</td>\n",
       "      <td>0.840981</td>\n",
       "      <td>0.634534</td>\n",
       "      <td>0.901098</td>\n",
       "      <td>1.436145</td>\n",
       "      <td>1.564887</td>\n",
       "      <td>1.735155</td>\n",
       "      <td>1.650365</td>\n",
       "      <td>0.0</td>\n",
       "    </tr>\n",
       "    <tr>\n",
       "      <th>3</th>\n",
       "      <td>0.622682</td>\n",
       "      <td>0.815949</td>\n",
       "      <td>0.871310</td>\n",
       "      <td>0.862724</td>\n",
       "      <td>0.701574</td>\n",
       "      <td>0.995613</td>\n",
       "      <td>0.755342</td>\n",
       "      <td>0.879327</td>\n",
       "      <td>1.285859</td>\n",
       "      <td>1.137206</td>\n",
       "      <td>...</td>\n",
       "      <td>-0.462245</td>\n",
       "      <td>0.173993</td>\n",
       "      <td>1.143583</td>\n",
       "      <td>1.358469</td>\n",
       "      <td>1.445634</td>\n",
       "      <td>1.651944</td>\n",
       "      <td>1.452030</td>\n",
       "      <td>0.992692</td>\n",
       "      <td>2.096347</td>\n",
       "      <td>0.0</td>\n",
       "    </tr>\n",
       "    <tr>\n",
       "      <th>4</th>\n",
       "      <td>0.547113</td>\n",
       "      <td>0.401422</td>\n",
       "      <td>0.546097</td>\n",
       "      <td>0.529733</td>\n",
       "      <td>0.634437</td>\n",
       "      <td>-0.377889</td>\n",
       "      <td>0.589576</td>\n",
       "      <td>0.164325</td>\n",
       "      <td>-0.289040</td>\n",
       "      <td>-0.174725</td>\n",
       "      <td>...</td>\n",
       "      <td>-0.462245</td>\n",
       "      <td>0.398881</td>\n",
       "      <td>0.513163</td>\n",
       "      <td>-0.146855</td>\n",
       "      <td>-0.122629</td>\n",
       "      <td>-0.254284</td>\n",
       "      <td>0.644672</td>\n",
       "      <td>0.169964</td>\n",
       "      <td>-0.403496</td>\n",
       "      <td>1.0</td>\n",
       "    </tr>\n",
       "  </tbody>\n",
       "</table>\n",
       "<p>5 rows × 36 columns</p>\n",
       "</div>"
      ],
      "text/plain": [
       "   Reading Comprehension  Active Listening   Writing  Speaking  Mathematics  \\\n",
       "0               1.416147          1.658374  1.365633  1.917195     1.261042   \n",
       "1               0.471545          0.428166  0.442029  0.640730     0.757520   \n",
       "2               0.622682          0.481653  0.871310  0.696228     0.433029   \n",
       "3               0.622682          0.815949  0.871310  0.862724     0.701574   \n",
       "4               0.547113          0.401422  0.546097  0.529733     0.634437   \n",
       "\n",
       "    Science  Critical Thinking  Active Learning  Learning Strategies  \\\n",
       "0  0.220817           1.625616         1.970645             1.457906   \n",
       "1 -0.360280           0.700087         0.603361             0.796184   \n",
       "2 -0.104950           0.589576         0.879327             1.457906   \n",
       "3  0.995613           0.755342         0.879327             1.285859   \n",
       "4 -0.377889           0.589576         0.164325            -0.289040   \n",
       "\n",
       "   Monitoring  ...  Repairing  Quality Control Analysis  \\\n",
       "0    3.373452  ...  -0.462245                 -0.559854   \n",
       "1    1.331014  ...  -0.360652                  0.576425   \n",
       "2    1.316106  ...  -0.462245                  0.327864   \n",
       "3    1.137206  ...  -0.462245                  0.173993   \n",
       "4   -0.174725  ...  -0.462245                  0.398881   \n",
       "\n",
       "   Judgment and Decision Making  Systems Analysis  Systems Evaluation  \\\n",
       "0                      3.198755          3.231506            2.796083   \n",
       "1                      0.525771          1.025229            1.216929   \n",
       "2                      0.840981          0.634534            0.901098   \n",
       "3                      1.143583          1.358469            1.445634   \n",
       "4                      0.513163         -0.146855           -0.122629   \n",
       "\n",
       "   Time Management  Management of Financial Resources  \\\n",
       "0         3.000691                           3.518175   \n",
       "1         1.436145                           1.634337   \n",
       "2         1.436145                           1.564887   \n",
       "3         1.651944                           1.452030   \n",
       "4        -0.254284                           0.644672   \n",
       "\n",
       "   Management of Material Resources  Management of Personnel Resources  \\\n",
       "0                          3.370579                           3.269982   \n",
       "1                          1.785321                           1.403902   \n",
       "2                          1.735155                           1.650365   \n",
       "3                          0.992692                           2.096347   \n",
       "4                          0.169964                          -0.403496   \n",
       "\n",
       "   Auto label value  \n",
       "0               0.0  \n",
       "1               0.0  \n",
       "2               0.0  \n",
       "3               0.0  \n",
       "4               1.0  \n",
       "\n",
       "[5 rows x 36 columns]"
      ]
     },
     "execution_count": 67,
     "metadata": {},
     "output_type": "execute_result"
    }
   ],
   "source": [
    "\"\"\" In this Notebook I shall investigate using Osborne's PIGEBaQ method on \n",
    "the test data obtained from my permutation algorithm. We shall see if the results agree, \n",
    "and learn a bit about the challenges of using this approach.\"\"\"\n",
    "\n",
    "import numpy as np\n",
    "import pandas as pd\n",
    "import matplotlib.pyplot as plt \n",
    "\n",
    "df = pd.read_csv(\"/Users/jacob/Documents/4YP data/ONET_18-10-21/scaled_total_set.csv\") #This is all the data I will need\n",
    "df.drop(columns=['O*NET-SOC Code', 'Title'], inplace=True)\n",
    "df.head()"
   ]
  },
  {
   "cell_type": "code",
   "execution_count": 68,
   "id": "e42d5b43",
   "metadata": {},
   "outputs": [
    {
     "data": {
      "text/plain": [
       "' Not necessary when using scaled training set'"
      ]
     },
     "execution_count": 68,
     "metadata": {},
     "output_type": "execute_result"
    }
   ],
   "source": [
    "#Lets now drop the unseen observations to leave just the training data:\n",
    "\n",
    "df1 = df.dropna()\n",
    "df1.reset_index(drop=True,inplace=True)\n",
    "df1.head()\n",
    "\n",
    "''' Not necessary when using scaled training set'''"
   ]
  },
  {
   "cell_type": "code",
   "execution_count": 69,
   "id": "24094247",
   "metadata": {},
   "outputs": [
    {
     "name": "stdout",
     "output_type": "stream",
     "text": [
      "35\n",
      "63\n",
      "[ 0.03752818 -0.02286795  0.03277732 -0.00432976 -0.01632227  0.05702519\n",
      "  0.00698149  0.00105528 -0.03947646 -0.02232934 -0.05512616 -0.04766119\n",
      " -0.04796171 -0.09966144 -0.04570855 -0.1407273  -0.00371802  0.05501268\n",
      "  0.06092517  0.02039227  0.05932767  0.00446861 -0.0243302  -0.00667049\n",
      "  0.0367995  -0.01393973  0.04027407  0.0486789  -0.01779188 -0.03212745\n",
      " -0.04864175 -0.00166131 -0.01951496 -0.01525377 -0.04618905]\n"
     ]
    }
   ],
   "source": [
    "#We first need to model the input variables of our data. We shall assume they are gaussian (non-mixture)\n",
    "\n",
    "mu = list(df.mean(axis='index'))\n",
    "del mu[-1]\n",
    "m = len(mu)\n",
    "print(m)\n",
    "\n",
    "n = len(df1.index)\n",
    "print(n)\n",
    "\n",
    "np_mu = np.array(mu)\n",
    "print(np_mu)\n",
    "#We have our vector of means (mx1)\n",
    "\n",
    "#Checked with excel, works"
   ]
  },
  {
   "cell_type": "code",
   "execution_count": 70,
   "id": "cf68c9d4",
   "metadata": {
    "scrolled": true
   },
   "outputs": [
    {
     "name": "stdout",
     "output_type": "stream",
     "text": [
      "[[1.212615   0.97899862 1.14550018 ... 0.49550273 0.46400925 0.50102343]\n",
      " [0.97899862 1.01154023 1.00482735 ... 0.41960006 0.36609006 0.49286511]\n",
      " [1.14550018 1.00482735 1.18477781 ... 0.43113451 0.39791495 0.49348872]\n",
      " ...\n",
      " [0.49550273 0.41960006 0.43113451 ... 0.98767927 0.95893632 0.77478643]\n",
      " [0.46400925 0.36609006 0.39791495 ... 0.95893632 1.01381003 0.81230896]\n",
      " [0.50102343 0.49286511 0.49348872 ... 0.77478643 0.81230896 0.98395153]]\n"
     ]
    }
   ],
   "source": [
    "#Now lets get our covariance matrix:\n",
    "\n",
    "df2 = df1.drop(columns=['Auto label value']) #This dataframe removes the output of our GP so the covariance isn't effected\n",
    "\n",
    "df_cov = df2.cov()\n",
    "df_cov.head()\n",
    "\n",
    "np_cov = df_cov.to_numpy()\n",
    "print(np_cov)\n",
    "#We have our covariance matrix (mxm)"
   ]
  },
  {
   "cell_type": "code",
   "execution_count": 71,
   "id": "9a8e1b3a",
   "metadata": {},
   "outputs": [
    {
     "name": "stdout",
     "output_type": "stream",
     "text": [
      "(35,)\n",
      "(35, 35)\n"
     ]
    }
   ],
   "source": [
    "print(np.shape(np_mu))\n",
    "print(np.shape(np_cov))"
   ]
  },
  {
   "cell_type": "code",
   "execution_count": 72,
   "id": "38cebee9",
   "metadata": {},
   "outputs": [],
   "source": [
    "#Now lets focus on the matrix of lengthscales and the output variance of the kernel:\n",
    "\n",
    "output_var = 3.48\n",
    "lengthscale = 8.13  #both values estimated while get_params method continues to not work\n",
    "np_lengthscale = lengthscale*np.identity(m)\n",
    "\n"
   ]
  },
  {
   "cell_type": "code",
   "execution_count": 73,
   "id": "e6879994",
   "metadata": {},
   "outputs": [
    {
     "name": "stdout",
     "output_type": "stream",
     "text": [
      "[[ 0.00276283]\n",
      " [ 0.00094172]\n",
      " [ 0.00315331]\n",
      " [-0.00267687]\n",
      " [-0.01184604]\n",
      " [ 0.03229108]\n",
      " [-0.0057681 ]\n",
      " [-0.00062749]\n",
      " [-0.01054357]\n",
      " [-0.02768055]\n",
      " [-0.00522451]\n",
      " [-0.02961399]\n",
      " [-0.01188937]\n",
      " [-0.02243728]\n",
      " [-0.00491342]\n",
      " [ 0.00136302]\n",
      " [ 0.00260466]\n",
      " [-0.0266213 ]\n",
      " [ 0.01060608]\n",
      " [ 0.01817409]\n",
      " [ 0.00797495]\n",
      " [ 0.01446153]\n",
      " [-0.02561375]\n",
      " [-0.02483259]\n",
      " [ 0.01698292]\n",
      " [-0.01144229]\n",
      " [ 0.01275354]\n",
      " [-0.01712443]\n",
      " [ 0.00345916]\n",
      " [-0.01543496]\n",
      " [-0.02293169]\n",
      " [-0.02879506]\n",
      " [-0.03818787]\n",
      " [-0.04390562]\n",
      " [-0.02999286]]\n"
     ]
    }
   ],
   "source": [
    "#We now have all the ingredients we need to make z_n (for each observation):\n",
    "#Lets begin by just focusing on the first observation, and then creating a function for this\n",
    "import math\n",
    "\n",
    "x = np.array(df2.iloc[[1]])\n",
    "\n",
    "element1 = (output_var*math.sqrt(np.linalg.det(np_lengthscale)))/(math.sqrt(np.linalg.det(np_lengthscale+np_cov)))\n",
    "#print(element1)\n",
    "element2 = np.linalg.inv(np_lengthscale+np_cov)\n",
    "#print(element2)\n",
    "element3 = np.transpose(np_mu - x)\n",
    "#print(element3)\n",
    "#temp = np.matmul(element2,-1*element3)\n",
    "element4 = -0.5*np.matmul(np.transpose(-1*element3),np.matmul(element2,-1*element3))\n",
    "#print(element4)\n",
    "\n",
    "z = element1*math.exp(element4.item())*np.matmul(element2,element3)\n",
    "print(z)"
   ]
  },
  {
   "cell_type": "code",
   "execution_count": 74,
   "id": "c523c3ab",
   "metadata": {},
   "outputs": [],
   "source": [
    "#Lets now create a function that does this for each observation:\n",
    "\n",
    "def compute_zn(index):\n",
    "    x = np.array(df2.iloc[[index]])\n",
    "\n",
    "    element1 = (output_var*math.sqrt(np.linalg.det(np_lengthscale)))/(math.sqrt(np.linalg.det(np_lengthscale+np_cov)))\n",
    "    element2 = np.linalg.inv(np_lengthscale+np_cov)\n",
    "    element3 = np.transpose(np_mu - x)\n",
    "    element4 = -0.5*np.matmul(np.transpose(-1*element3),np.matmul(element2,-1*element3))\n",
    "\n",
    "    zn = element1*math.exp(element4.item())*np.matmul(element2,element3)\n",
    "    return zn\n"
   ]
  },
  {
   "cell_type": "code",
   "execution_count": 75,
   "id": "ec8d7a9b",
   "metadata": {},
   "outputs": [
    {
     "name": "stdout",
     "output_type": "stream",
     "text": [
      "[[ 0.00022248  0.00276283  0.00042028 ...  0.00727782  0.04306511\n",
      "   0.00490365]\n",
      " [-0.00063314  0.00094172  0.00302241 ...  0.00715614  0.00993501\n",
      "   0.00601285]\n",
      " [ 0.00030379  0.00315331 -0.00824936 ...  0.00399186  0.02768605\n",
      "   0.00698272]\n",
      " ...\n",
      " [-0.00474205 -0.03818787 -0.03151992 ...  0.0030293  -0.00138965\n",
      "  -0.00138328]\n",
      " [-0.00442558 -0.04390562 -0.03750254 ...  0.00315084 -0.00034172\n",
      "   0.00053402]\n",
      " [-0.00406597 -0.02999286 -0.03326817 ... -0.00457978  0.00740965\n",
      "   0.01007128]]\n"
     ]
    }
   ],
   "source": [
    "Z = [0]*n\n",
    "for i in range(0,n):\n",
    "    Z[i] = compute_zn(i)\n",
    "\n",
    "Z = np.array(Z)\n",
    "Z = np.transpose(Z)\n",
    "Z = Z.reshape(m,n)\n",
    "print(Z)"
   ]
  },
  {
   "cell_type": "code",
   "execution_count": 86,
   "id": "0a8536a2",
   "metadata": {},
   "outputs": [
    {
     "name": "stdout",
     "output_type": "stream",
     "text": [
      "[[ 0.00276283]\n",
      " [ 0.00094172]\n",
      " [ 0.00315331]\n",
      " [-0.00267687]\n",
      " [-0.01184604]\n",
      " [ 0.03229108]\n",
      " [-0.0057681 ]\n",
      " [-0.00062749]\n",
      " [-0.01054357]\n",
      " [-0.02768055]\n",
      " [-0.00522451]\n",
      " [-0.02961399]\n",
      " [-0.01188937]\n",
      " [-0.02243728]\n",
      " [-0.00491342]\n",
      " [ 0.00136302]\n",
      " [ 0.00260466]\n",
      " [-0.0266213 ]\n",
      " [ 0.01060608]\n",
      " [ 0.01817409]\n",
      " [ 0.00797495]\n",
      " [ 0.01446153]\n",
      " [-0.02561375]\n",
      " [-0.02483259]\n",
      " [ 0.01698292]\n",
      " [-0.01144229]\n",
      " [ 0.01275354]\n",
      " [-0.01712443]\n",
      " [ 0.00345916]\n",
      " [-0.01543496]\n",
      " [-0.02293169]\n",
      " [-0.02879506]\n",
      " [-0.03818787]\n",
      " [-0.04390562]\n",
      " [-0.02999286]]\n"
     ]
    }
   ],
   "source": [
    "poop = compute_zn(1)\n",
    "#np.shape(poop)\n",
    "np.shape(Z)\n",
    "#print(poop)"
   ]
  },
  {
   "cell_type": "code",
   "execution_count": 77,
   "id": "dcec5ed7",
   "metadata": {},
   "outputs": [
    {
     "name": "stdout",
     "output_type": "stream",
     "text": [
      "[[3.48000000e+00 2.06787098e-03 9.74759995e-04 ... 1.08346600e-13\n",
      "  6.96167650e-18 1.43109995e-19]\n",
      " [2.06787098e-03 3.48000000e+00 1.00992596e+00 ... 3.66008006e-05\n",
      "  9.92392145e-07 4.85009871e-08]\n",
      " [9.74759995e-04 1.00992596e+00 3.48000000e+00 ... 3.32364577e-06\n",
      "  2.10022450e-07 2.16432386e-09]\n",
      " ...\n",
      " [1.08346600e-13 3.66008006e-05 3.32364577e-06 ... 3.48000000e+00\n",
      "  7.17187467e-04 5.59579155e-02]\n",
      " [6.96167650e-18 9.92392145e-07 2.10022450e-07 ... 7.17187467e-04\n",
      "  3.48000000e+00 1.11639997e-01]\n",
      " [1.43109995e-19 4.85009871e-08 2.16432386e-09 ... 5.59579155e-02\n",
      "  1.11639997e-01 3.48000000e+00]]\n"
     ]
    },
    {
     "data": {
      "text/plain": [
       "(63, 63)"
      ]
     },
     "execution_count": 77,
     "metadata": {},
     "output_type": "execute_result"
    }
   ],
   "source": [
    "#We now need to find K, which is a matrix of the kernel outputs of the training data.\n",
    "X = df2.to_numpy()\n",
    "X_norm = np.sum(X ** 2, axis = -1)\n",
    "K = output_var * np.exp(-(1/lengthscale) * (X_norm[:,None] + X_norm[None,:] - 2 * np.dot(X, X.T)))\n",
    "print(K)\n",
    "np.shape(K)\n",
    "\n",
    "#I don't trust this code"
   ]
  },
  {
   "cell_type": "code",
   "execution_count": 78,
   "id": "a3c8aae4",
   "metadata": {},
   "outputs": [
    {
     "data": {
      "text/plain": [
       "array([[3.48      , 2.20381344, 2.10420062, ..., 0.51393116, 0.2838495 ,\n",
       "        0.22352901],\n",
       "       [2.20381344, 3.48      , 3.22504364, ..., 1.71958532, 1.37741282,\n",
       "        1.14403932],\n",
       "       [2.10420062, 3.22504364, 3.48      , ..., 1.48370556, 1.25195011,\n",
       "        0.94490637],\n",
       "       ...,\n",
       "       [0.51393116, 1.71958532, 1.48370556, ..., 3.48      , 2.0648631 ,\n",
       "        2.69938296],\n",
       "       [0.2838495 , 1.37741282, 1.25195011, ..., 2.0648631 , 3.48      ,\n",
       "        2.81651534],\n",
       "       [0.22352901, 1.14403932, 0.94490637, ..., 2.69938296, 2.81651534,\n",
       "        3.48      ]])"
      ]
     },
     "execution_count": 78,
     "metadata": {},
     "output_type": "execute_result"
    }
   ],
   "source": [
    "# I do not trust the code that I've been presented with. I shall create my own function for computing the covariance matrix:\n",
    "\n",
    "X = df2.to_numpy() #Each row is an abservation, each column is a variable\n",
    "\n",
    "def compute_cov(x,y,var,l):  #x and y are each full observations (vectors)\n",
    "    d = 0\n",
    "    m = len(x)\n",
    "    for i in range(m):\n",
    "        d += (x[i]-y[i])**2\n",
    "    val = var*np.exp(-0.5*d/(l**2))\n",
    "    return val\n",
    "#This function takes in two observations and outputs a scalar\n",
    "\n",
    "\n",
    "num = df2.shape[0]\n",
    "K = np.empty([num,num])\n",
    "\n",
    "#Now lets start filling this matrix:\n",
    "\n",
    "K[0,0] = compute_cov(X[0,:],X[0,:],output_var,lengthscale)\n",
    "#K\n",
    "\n",
    "for i in range(num):\n",
    "    for j in range(num):\n",
    "        K[i,j] = compute_cov(X[i,:],X[j,:],output_var,lengthscale)\n",
    "\n",
    "K\n",
    "\n",
    "#Which of these methods should I trust?"
   ]
  },
  {
   "cell_type": "code",
   "execution_count": 79,
   "id": "a9afcb1d",
   "metadata": {},
   "outputs": [
    {
     "data": {
      "text/plain": [
       "(63,)"
      ]
     },
     "execution_count": 79,
     "metadata": {},
     "output_type": "execute_result"
    }
   ],
   "source": [
    "#Final ingredient: we need a row vector of the outputs:\n",
    "\n",
    "f = df1[\"Auto label value\"].to_numpy()\n",
    "f = f.reshape(n)\n",
    "np.shape(f)"
   ]
  },
  {
   "cell_type": "code",
   "execution_count": 80,
   "id": "168482b0",
   "metadata": {},
   "outputs": [
    {
     "name": "stdout",
     "output_type": "stream",
     "text": [
      "[-0.2573979  -0.05659378 -0.15506038 -0.18654817 -0.75427853 -0.18625383\n",
      "  0.24173035  0.15150696  0.29413873 -0.01649291  0.11497358  0.17062347\n",
      "  0.21726065 -0.33312263 -0.10107973  0.46224445  0.12928378 -0.26798706\n",
      " -0.00273377  0.2684818  -0.15783488 -0.24817751  0.03984263  0.31825804\n",
      " -0.07589788 -0.0662493  -0.13615566  0.4867432  -0.17784934 -0.55207722\n",
      "  0.19629749 -0.06179917 -0.05521807 -0.01234103  0.00639952]\n"
     ]
    }
   ],
   "source": [
    "#Moment of truth...\n",
    "\n",
    "E = np.matmul(Z,np.matmul(np.linalg.inv(K),f))\n",
    "print(E)"
   ]
  },
  {
   "cell_type": "code",
   "execution_count": 81,
   "id": "745443c7",
   "metadata": {},
   "outputs": [
    {
     "name": "stdout",
     "output_type": "stream",
     "text": [
      "(35, 63)\n",
      "(63, 63)\n",
      "(63,)\n"
     ]
    }
   ],
   "source": [
    "print(np.shape(Z))\n",
    "print(np.shape(K))\n",
    "print(np.shape(f))"
   ]
  },
  {
   "cell_type": "code",
   "execution_count": 82,
   "id": "c78ae927",
   "metadata": {},
   "outputs": [],
   "source": [
    "#Lets now hitch these values onto a new dataframe of skills:\n",
    "\n",
    "output_df = pd.DataFrame({\"Skills\":df2.columns,\"Importance\":E})"
   ]
  },
  {
   "cell_type": "code",
   "execution_count": 83,
   "id": "ab94a2d7",
   "metadata": {
    "scrolled": true
   },
   "outputs": [
    {
     "name": "stdout",
     "output_type": "stream",
     "text": [
      "                               Skills  Importance\n",
      "0                         Mathematics   -0.754279\n",
      "1                    Systems Analysis   -0.552077\n",
      "2                         Negotiation   -0.333123\n",
      "3                 Operations Analysis   -0.267987\n",
      "4               Reading Comprehension   -0.257398\n",
      "5                         Programming   -0.248178\n",
      "6                            Speaking   -0.186548\n",
      "7                             Science   -0.186254\n",
      "8        Judgment and Decision Making   -0.177849\n",
      "9                        Installation   -0.157835\n",
      "10                            Writing   -0.155060\n",
      "11                          Repairing   -0.136156\n",
      "12                        Instructing   -0.101080\n",
      "13              Equipment Maintenance   -0.075898\n",
      "14                    Troubleshooting   -0.066249\n",
      "15                    Time Management   -0.061799\n",
      "16                   Active Listening   -0.056594\n",
      "17  Management of Financial Resources   -0.055218\n",
      "18                         Monitoring   -0.016493\n",
      "19   Management of Material Resources   -0.012341\n",
      "20                  Technology Design   -0.002734\n",
      "21  Management of Personnel Resources    0.006400\n",
      "22              Operations Monitoring    0.039843\n",
      "23              Social Perceptiveness    0.114974\n",
      "24            Complex Problem Solving    0.129284\n",
      "25                    Active Learning    0.151507\n",
      "26                       Coordination    0.170623\n",
      "27                 Systems Evaluation    0.196297\n",
      "28                         Persuasion    0.217261\n",
      "29                  Critical Thinking    0.241730\n",
      "30                Equipment Selection    0.268482\n",
      "31                Learning Strategies    0.294139\n",
      "32              Operation and Control    0.318258\n",
      "33                Service Orientation    0.462244\n",
      "34           Quality Control Analysis    0.486743\n"
     ]
    }
   ],
   "source": [
    "output_df = output_df.sort_values(by=\"Importance\")\n",
    "output_df.reset_index(drop=True, inplace = True)\n",
    "print(output_df)"
   ]
  },
  {
   "cell_type": "code",
   "execution_count": 88,
   "id": "62043967",
   "metadata": {},
   "outputs": [],
   "source": [
    "output_df.to_csv(\"PIGEBaQ_Ex.csv\")"
   ]
  },
  {
   "cell_type": "code",
   "execution_count": 12,
   "id": "fc6287d9",
   "metadata": {},
   "outputs": [
    {
     "data": {
      "text/plain": [
       "array([554.0729, 330.1999, 332.6104, 378.3367, 237.0379, 243.5691,\n",
       "       299.7154, 187.9249, 301.2836, 298.1673, 283.1239, 234.4784,\n",
       "       219.5566, 232.146 , 215.9703, 323.7935, 310.0904, 403.8916,\n",
       "       207.7635, 241.111 , 308.8178, 504.3654, 308.5041, 310.5558,\n",
       "       354.0708, 380.4842, 351.2378, 244.381 , 364.0085, 188.4971,\n",
       "       205.7941, 286.1248, 186.5247, 222.3067, 210.6354, 391.0291,\n",
       "       138.788 , 318.1841,  97.0642, 116.4398, 104.9929,  91.0192,\n",
       "       124.5191, 176.4997, 177.2292, 177.4204, 126.6923, 112.8203,\n",
       "       180.6432, 129.7653, 204.0797, 123.6887, 152.7537, 135.9679,\n",
       "       247.3617, 205.4042, 170.0322,  99.6029, 199.6029, 139.1711,\n",
       "       232.2723, 109.019 , 133.3697])"
      ]
     },
     "execution_count": 12,
     "metadata": {},
     "output_type": "execute_result"
    }
   ],
   "source": [
    "X_norm"
   ]
  },
  {
   "cell_type": "code",
   "execution_count": 13,
   "id": "8c7b5847",
   "metadata": {},
   "outputs": [
    {
     "data": {
      "text/plain": [
       "(63,)"
      ]
     },
     "execution_count": 13,
     "metadata": {},
     "output_type": "execute_result"
    }
   ],
   "source": [
    "np.shape(X_norm)"
   ]
  },
  {
   "cell_type": "code",
   "execution_count": 23,
   "id": "82b98588",
   "metadata": {},
   "outputs": [
    {
     "data": {
      "text/plain": [
       "array([[554.0729],\n",
       "       [330.1999],\n",
       "       [332.6104],\n",
       "       [378.3367],\n",
       "       [237.0379],\n",
       "       [243.5691],\n",
       "       [299.7154],\n",
       "       [187.9249],\n",
       "       [301.2836],\n",
       "       [298.1673],\n",
       "       [283.1239],\n",
       "       [234.4784],\n",
       "       [219.5566],\n",
       "       [232.146 ],\n",
       "       [215.9703],\n",
       "       [323.7935],\n",
       "       [310.0904],\n",
       "       [403.8916],\n",
       "       [207.7635],\n",
       "       [241.111 ],\n",
       "       [308.8178],\n",
       "       [504.3654],\n",
       "       [308.5041],\n",
       "       [310.5558],\n",
       "       [354.0708],\n",
       "       [380.4842],\n",
       "       [351.2378],\n",
       "       [244.381 ],\n",
       "       [364.0085],\n",
       "       [188.4971],\n",
       "       [205.7941],\n",
       "       [286.1248],\n",
       "       [186.5247],\n",
       "       [222.3067],\n",
       "       [210.6354],\n",
       "       [391.0291],\n",
       "       [138.788 ],\n",
       "       [318.1841],\n",
       "       [ 97.0642],\n",
       "       [116.4398],\n",
       "       [104.9929],\n",
       "       [ 91.0192],\n",
       "       [124.5191],\n",
       "       [176.4997],\n",
       "       [177.2292],\n",
       "       [177.4204],\n",
       "       [126.6923],\n",
       "       [112.8203],\n",
       "       [180.6432],\n",
       "       [129.7653],\n",
       "       [204.0797],\n",
       "       [123.6887],\n",
       "       [152.7537],\n",
       "       [135.9679],\n",
       "       [247.3617],\n",
       "       [205.4042],\n",
       "       [170.0322],\n",
       "       [ 99.6029],\n",
       "       [199.6029],\n",
       "       [139.1711],\n",
       "       [232.2723],\n",
       "       [109.019 ],\n",
       "       [133.3697]])"
      ]
     },
     "execution_count": 23,
     "metadata": {},
     "output_type": "execute_result"
    }
   ],
   "source": [
    "X_norm[:,None]"
   ]
  },
  {
   "cell_type": "code",
   "execution_count": 16,
   "id": "6b3d326a",
   "metadata": {},
   "outputs": [
    {
     "data": {
      "text/plain": [
       "(1, 63)"
      ]
     },
     "execution_count": 16,
     "metadata": {},
     "output_type": "execute_result"
    }
   ],
   "source": [
    "X_norm[None,:]"
   ]
  },
  {
   "cell_type": "code",
   "execution_count": 18,
   "id": "1e7d8037",
   "metadata": {},
   "outputs": [
    {
     "data": {
      "text/plain": [
       "array([[554.0729, 422.3088, 419.1619, ..., 308.5094, 226.0056, 228.3662],\n",
       "       [422.3088, 330.1999, 327.3978, ..., 250.1323, 181.6586, 186.4566],\n",
       "       [419.1619, 327.3978, 332.6104, ..., 246.0862, 181.8938, 182.6163],\n",
       "       ...,\n",
       "       [308.5094, 250.1323, 246.0862, ..., 232.2723, 149.9388, 173.43  ],\n",
       "       [226.0056, 181.6586, 181.8938, ..., 149.9388, 109.019 , 113.1337],\n",
       "       [228.3662, 186.4566, 182.6163, ..., 173.43  , 113.1337, 133.3697]])"
      ]
     },
     "execution_count": 18,
     "metadata": {},
     "output_type": "execute_result"
    }
   ],
   "source": [
    "np.dot(X, X.T)"
   ]
  },
  {
   "cell_type": "code",
   "execution_count": 22,
   "id": "9f8369ad",
   "metadata": {},
   "outputs": [
    {
     "data": {
      "text/plain": [
       "array([[1108.1458,  884.2728,  886.6833, ...,  786.3452,  663.0919,\n",
       "         687.4426],\n",
       "       [ 884.2728,  660.3998,  662.8103, ...,  562.4722,  439.2189,\n",
       "         463.5696],\n",
       "       [ 886.6833,  662.8103,  665.2208, ...,  564.8827,  441.6294,\n",
       "         465.9801],\n",
       "       ...,\n",
       "       [ 786.3452,  562.4722,  564.8827, ...,  464.5446,  341.2913,\n",
       "         365.642 ],\n",
       "       [ 663.0919,  439.2189,  441.6294, ...,  341.2913,  218.038 ,\n",
       "         242.3887],\n",
       "       [ 687.4426,  463.5696,  465.9801, ...,  365.642 ,  242.3887,\n",
       "         266.7394]])"
      ]
     },
     "execution_count": 22,
     "metadata": {},
     "output_type": "execute_result"
    }
   ],
   "source": [
    "X_norm[:,None] + X_norm[None,:]"
   ]
  },
  {
   "cell_type": "code",
   "execution_count": 24,
   "id": "a0b9c5e9",
   "metadata": {},
   "outputs": [
    {
     "data": {
      "text/plain": [
       "63"
      ]
     },
     "execution_count": 24,
     "metadata": {},
     "output_type": "execute_result"
    }
   ],
   "source": [
    "df2.shape[0]"
   ]
  },
  {
   "cell_type": "code",
   "execution_count": 34,
   "id": "ead5c442",
   "metadata": {},
   "outputs": [
    {
     "data": {
      "text/plain": [
       "0.7335890753394024"
      ]
     },
     "execution_count": 34,
     "metadata": {},
     "output_type": "execute_result"
    }
   ],
   "source": [
    "compute_cov(X[0,:],X[1,:],1,8)"
   ]
  },
  {
   "cell_type": "code",
   "execution_count": 36,
   "id": "0bfdffff",
   "metadata": {},
   "outputs": [
    {
     "data": {
      "text/plain": [
       "4.88"
      ]
     },
     "execution_count": 36,
     "metadata": {},
     "output_type": "execute_result"
    }
   ],
   "source": [
    "test = X[0,:]\n",
    "test[1]"
   ]
  },
  {
   "cell_type": "code",
   "execution_count": null,
   "id": "10132aa5",
   "metadata": {},
   "outputs": [],
   "source": []
  }
 ],
 "metadata": {
  "kernelspec": {
   "display_name": "Python 3",
   "language": "python",
   "name": "python3"
  },
  "language_info": {
   "codemirror_mode": {
    "name": "ipython",
    "version": 3
   },
   "file_extension": ".py",
   "mimetype": "text/x-python",
   "name": "python",
   "nbconvert_exporter": "python",
   "pygments_lexer": "ipython3",
   "version": "3.8.8"
  }
 },
 "nbformat": 4,
 "nbformat_minor": 5
}
