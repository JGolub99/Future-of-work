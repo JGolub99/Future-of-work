{
 "cells": [
  {
   "cell_type": "code",
   "execution_count": 2,
   "id": "c7ed2582",
   "metadata": {
    "scrolled": true
   },
   "outputs": [
    {
     "data": {
      "text/html": [
       "<div>\n",
       "<style scoped>\n",
       "    .dataframe tbody tr th:only-of-type {\n",
       "        vertical-align: middle;\n",
       "    }\n",
       "\n",
       "    .dataframe tbody tr th {\n",
       "        vertical-align: top;\n",
       "    }\n",
       "\n",
       "    .dataframe thead th {\n",
       "        text-align: right;\n",
       "    }\n",
       "</style>\n",
       "<table border=\"1\" class=\"dataframe\">\n",
       "  <thead>\n",
       "    <tr style=\"text-align: right;\">\n",
       "      <th></th>\n",
       "      <th>Reading Comprehension</th>\n",
       "      <th>Active Listening</th>\n",
       "      <th>Writing</th>\n",
       "      <th>Speaking</th>\n",
       "      <th>Mathematics</th>\n",
       "      <th>Science</th>\n",
       "      <th>Critical Thinking</th>\n",
       "      <th>Active Learning</th>\n",
       "      <th>Learning Strategies</th>\n",
       "      <th>Monitoring</th>\n",
       "      <th>...</th>\n",
       "      <th>Repairing</th>\n",
       "      <th>Quality Control Analysis</th>\n",
       "      <th>Judgment and Decision Making</th>\n",
       "      <th>Systems Analysis</th>\n",
       "      <th>Systems Evaluation</th>\n",
       "      <th>Time Management</th>\n",
       "      <th>Management of Financial Resources</th>\n",
       "      <th>Management of Material Resources</th>\n",
       "      <th>Management of Personnel Resources</th>\n",
       "      <th>Auto label value</th>\n",
       "    </tr>\n",
       "  </thead>\n",
       "  <tbody>\n",
       "    <tr>\n",
       "      <th>0</th>\n",
       "      <td>4.75</td>\n",
       "      <td>4.88</td>\n",
       "      <td>4.38</td>\n",
       "      <td>4.88</td>\n",
       "      <td>3.62</td>\n",
       "      <td>1.12</td>\n",
       "      <td>4.75</td>\n",
       "      <td>4.75</td>\n",
       "      <td>3.88</td>\n",
       "      <td>5.50</td>\n",
       "      <td>...</td>\n",
       "      <td>0.0</td>\n",
       "      <td>1.00</td>\n",
       "      <td>5.75</td>\n",
       "      <td>5.38</td>\n",
       "      <td>5.12</td>\n",
       "      <td>4.75</td>\n",
       "      <td>5.50</td>\n",
       "      <td>4.75</td>\n",
       "      <td>5.38</td>\n",
       "      <td>0.0</td>\n",
       "    </tr>\n",
       "    <tr>\n",
       "      <th>1</th>\n",
       "      <td>4.25</td>\n",
       "      <td>4.00</td>\n",
       "      <td>4.25</td>\n",
       "      <td>4.12</td>\n",
       "      <td>3.12</td>\n",
       "      <td>1.88</td>\n",
       "      <td>4.12</td>\n",
       "      <td>3.88</td>\n",
       "      <td>3.75</td>\n",
       "      <td>4.00</td>\n",
       "      <td>...</td>\n",
       "      <td>0.0</td>\n",
       "      <td>1.50</td>\n",
       "      <td>4.00</td>\n",
       "      <td>4.00</td>\n",
       "      <td>4.00</td>\n",
       "      <td>3.88</td>\n",
       "      <td>3.12</td>\n",
       "      <td>2.62</td>\n",
       "      <td>4.00</td>\n",
       "      <td>NaN</td>\n",
       "    </tr>\n",
       "    <tr>\n",
       "      <th>2</th>\n",
       "      <td>4.00</td>\n",
       "      <td>4.00</td>\n",
       "      <td>3.88</td>\n",
       "      <td>4.00</td>\n",
       "      <td>2.50</td>\n",
       "      <td>1.12</td>\n",
       "      <td>4.00</td>\n",
       "      <td>3.62</td>\n",
       "      <td>3.25</td>\n",
       "      <td>4.00</td>\n",
       "      <td>...</td>\n",
       "      <td>0.0</td>\n",
       "      <td>2.12</td>\n",
       "      <td>3.75</td>\n",
       "      <td>3.00</td>\n",
       "      <td>3.12</td>\n",
       "      <td>3.75</td>\n",
       "      <td>3.38</td>\n",
       "      <td>3.25</td>\n",
       "      <td>3.88</td>\n",
       "      <td>NaN</td>\n",
       "    </tr>\n",
       "    <tr>\n",
       "      <th>3</th>\n",
       "      <td>4.00</td>\n",
       "      <td>4.12</td>\n",
       "      <td>3.88</td>\n",
       "      <td>4.12</td>\n",
       "      <td>3.25</td>\n",
       "      <td>0.62</td>\n",
       "      <td>4.12</td>\n",
       "      <td>4.12</td>\n",
       "      <td>3.25</td>\n",
       "      <td>4.25</td>\n",
       "      <td>...</td>\n",
       "      <td>0.0</td>\n",
       "      <td>1.00</td>\n",
       "      <td>4.00</td>\n",
       "      <td>3.12</td>\n",
       "      <td>3.75</td>\n",
       "      <td>3.88</td>\n",
       "      <td>3.62</td>\n",
       "      <td>2.62</td>\n",
       "      <td>3.88</td>\n",
       "      <td>NaN</td>\n",
       "    </tr>\n",
       "    <tr>\n",
       "      <th>4</th>\n",
       "      <td>4.25</td>\n",
       "      <td>4.12</td>\n",
       "      <td>3.88</td>\n",
       "      <td>4.12</td>\n",
       "      <td>3.12</td>\n",
       "      <td>1.50</td>\n",
       "      <td>4.25</td>\n",
       "      <td>4.12</td>\n",
       "      <td>3.50</td>\n",
       "      <td>4.25</td>\n",
       "      <td>...</td>\n",
       "      <td>0.0</td>\n",
       "      <td>1.38</td>\n",
       "      <td>4.00</td>\n",
       "      <td>3.75</td>\n",
       "      <td>3.75</td>\n",
       "      <td>3.75</td>\n",
       "      <td>3.75</td>\n",
       "      <td>2.75</td>\n",
       "      <td>3.88</td>\n",
       "      <td>NaN</td>\n",
       "    </tr>\n",
       "  </tbody>\n",
       "</table>\n",
       "<p>5 rows × 36 columns</p>\n",
       "</div>"
      ],
      "text/plain": [
       "   Reading Comprehension  Active Listening  Writing  Speaking  Mathematics  \\\n",
       "0                   4.75              4.88     4.38      4.88         3.62   \n",
       "1                   4.25              4.00     4.25      4.12         3.12   \n",
       "2                   4.00              4.00     3.88      4.00         2.50   \n",
       "3                   4.00              4.12     3.88      4.12         3.25   \n",
       "4                   4.25              4.12     3.88      4.12         3.12   \n",
       "\n",
       "   Science  Critical Thinking  Active Learning  Learning Strategies  \\\n",
       "0     1.12               4.75             4.75                 3.88   \n",
       "1     1.88               4.12             3.88                 3.75   \n",
       "2     1.12               4.00             3.62                 3.25   \n",
       "3     0.62               4.12             4.12                 3.25   \n",
       "4     1.50               4.25             4.12                 3.50   \n",
       "\n",
       "   Monitoring  ...  Repairing  Quality Control Analysis  \\\n",
       "0        5.50  ...        0.0                      1.00   \n",
       "1        4.00  ...        0.0                      1.50   \n",
       "2        4.00  ...        0.0                      2.12   \n",
       "3        4.25  ...        0.0                      1.00   \n",
       "4        4.25  ...        0.0                      1.38   \n",
       "\n",
       "   Judgment and Decision Making  Systems Analysis  Systems Evaluation  \\\n",
       "0                          5.75              5.38                5.12   \n",
       "1                          4.00              4.00                4.00   \n",
       "2                          3.75              3.00                3.12   \n",
       "3                          4.00              3.12                3.75   \n",
       "4                          4.00              3.75                3.75   \n",
       "\n",
       "   Time Management  Management of Financial Resources  \\\n",
       "0             4.75                               5.50   \n",
       "1             3.88                               3.12   \n",
       "2             3.75                               3.38   \n",
       "3             3.88                               3.62   \n",
       "4             3.75                               3.75   \n",
       "\n",
       "   Management of Material Resources  Management of Personnel Resources  \\\n",
       "0                              4.75                               5.38   \n",
       "1                              2.62                               4.00   \n",
       "2                              3.25                               3.88   \n",
       "3                              2.62                               3.88   \n",
       "4                              2.75                               3.88   \n",
       "\n",
       "   Auto label value  \n",
       "0               0.0  \n",
       "1               NaN  \n",
       "2               NaN  \n",
       "3               NaN  \n",
       "4               NaN  \n",
       "\n",
       "[5 rows x 36 columns]"
      ]
     },
     "execution_count": 2,
     "metadata": {},
     "output_type": "execute_result"
    }
   ],
   "source": [
    "\"\"\" In this Notebook I shall investigate using Osborne's PIGEBaQ method on \n",
    "the test data obtained from my permutation algorithm. We shall see if the results agree, \n",
    "and learn a bit about the challenges of using this approach.\"\"\"\n",
    "\n",
    "import numpy as np\n",
    "import pandas as pd\n",
    "import matplotlib.pyplot as plt \n",
    "\n",
    "df = pd.read_csv(\"/Users/jacob/Documents/4YP data/ONET_18-10-21/test.csv\") #This is all the data I will need\n",
    "df.drop(columns=['O*NET-SOC Code', 'Title'], inplace=True)\n",
    "df.head()"
   ]
  },
  {
   "cell_type": "code",
   "execution_count": 3,
   "id": "e42d5b43",
   "metadata": {},
   "outputs": [
    {
     "data": {
      "text/html": [
       "<div>\n",
       "<style scoped>\n",
       "    .dataframe tbody tr th:only-of-type {\n",
       "        vertical-align: middle;\n",
       "    }\n",
       "\n",
       "    .dataframe tbody tr th {\n",
       "        vertical-align: top;\n",
       "    }\n",
       "\n",
       "    .dataframe thead th {\n",
       "        text-align: right;\n",
       "    }\n",
       "</style>\n",
       "<table border=\"1\" class=\"dataframe\">\n",
       "  <thead>\n",
       "    <tr style=\"text-align: right;\">\n",
       "      <th></th>\n",
       "      <th>Reading Comprehension</th>\n",
       "      <th>Active Listening</th>\n",
       "      <th>Writing</th>\n",
       "      <th>Speaking</th>\n",
       "      <th>Mathematics</th>\n",
       "      <th>Science</th>\n",
       "      <th>Critical Thinking</th>\n",
       "      <th>Active Learning</th>\n",
       "      <th>Learning Strategies</th>\n",
       "      <th>Monitoring</th>\n",
       "      <th>...</th>\n",
       "      <th>Repairing</th>\n",
       "      <th>Quality Control Analysis</th>\n",
       "      <th>Judgment and Decision Making</th>\n",
       "      <th>Systems Analysis</th>\n",
       "      <th>Systems Evaluation</th>\n",
       "      <th>Time Management</th>\n",
       "      <th>Management of Financial Resources</th>\n",
       "      <th>Management of Material Resources</th>\n",
       "      <th>Management of Personnel Resources</th>\n",
       "      <th>Auto label value</th>\n",
       "    </tr>\n",
       "  </thead>\n",
       "  <tbody>\n",
       "    <tr>\n",
       "      <th>0</th>\n",
       "      <td>4.75</td>\n",
       "      <td>4.88</td>\n",
       "      <td>4.38</td>\n",
       "      <td>4.88</td>\n",
       "      <td>3.62</td>\n",
       "      <td>1.12</td>\n",
       "      <td>4.75</td>\n",
       "      <td>4.75</td>\n",
       "      <td>3.88</td>\n",
       "      <td>5.50</td>\n",
       "      <td>...</td>\n",
       "      <td>0.00</td>\n",
       "      <td>1.00</td>\n",
       "      <td>5.75</td>\n",
       "      <td>5.38</td>\n",
       "      <td>5.12</td>\n",
       "      <td>4.75</td>\n",
       "      <td>5.50</td>\n",
       "      <td>4.75</td>\n",
       "      <td>5.38</td>\n",
       "      <td>0.0</td>\n",
       "    </tr>\n",
       "    <tr>\n",
       "      <th>1</th>\n",
       "      <td>4.00</td>\n",
       "      <td>3.96</td>\n",
       "      <td>3.67</td>\n",
       "      <td>3.96</td>\n",
       "      <td>3.17</td>\n",
       "      <td>0.46</td>\n",
       "      <td>4.08</td>\n",
       "      <td>3.66</td>\n",
       "      <td>3.38</td>\n",
       "      <td>4.13</td>\n",
       "      <td>...</td>\n",
       "      <td>0.08</td>\n",
       "      <td>1.96</td>\n",
       "      <td>3.63</td>\n",
       "      <td>3.46</td>\n",
       "      <td>3.67</td>\n",
       "      <td>3.88</td>\n",
       "      <td>3.33</td>\n",
       "      <td>3.17</td>\n",
       "      <td>3.79</td>\n",
       "      <td>0.0</td>\n",
       "    </tr>\n",
       "    <tr>\n",
       "      <th>2</th>\n",
       "      <td>4.12</td>\n",
       "      <td>4.00</td>\n",
       "      <td>4.00</td>\n",
       "      <td>4.00</td>\n",
       "      <td>2.88</td>\n",
       "      <td>0.75</td>\n",
       "      <td>4.00</td>\n",
       "      <td>3.88</td>\n",
       "      <td>3.88</td>\n",
       "      <td>4.12</td>\n",
       "      <td>...</td>\n",
       "      <td>0.00</td>\n",
       "      <td>1.75</td>\n",
       "      <td>3.88</td>\n",
       "      <td>3.12</td>\n",
       "      <td>3.38</td>\n",
       "      <td>3.88</td>\n",
       "      <td>3.25</td>\n",
       "      <td>3.12</td>\n",
       "      <td>4.00</td>\n",
       "      <td>0.0</td>\n",
       "    </tr>\n",
       "    <tr>\n",
       "      <th>3</th>\n",
       "      <td>4.12</td>\n",
       "      <td>4.25</td>\n",
       "      <td>4.00</td>\n",
       "      <td>4.12</td>\n",
       "      <td>3.12</td>\n",
       "      <td>2.00</td>\n",
       "      <td>4.12</td>\n",
       "      <td>3.88</td>\n",
       "      <td>3.75</td>\n",
       "      <td>4.00</td>\n",
       "      <td>...</td>\n",
       "      <td>0.00</td>\n",
       "      <td>1.62</td>\n",
       "      <td>4.12</td>\n",
       "      <td>3.75</td>\n",
       "      <td>3.88</td>\n",
       "      <td>4.00</td>\n",
       "      <td>3.12</td>\n",
       "      <td>2.38</td>\n",
       "      <td>4.38</td>\n",
       "      <td>0.0</td>\n",
       "    </tr>\n",
       "    <tr>\n",
       "      <th>4</th>\n",
       "      <td>4.06</td>\n",
       "      <td>3.94</td>\n",
       "      <td>3.75</td>\n",
       "      <td>3.88</td>\n",
       "      <td>3.06</td>\n",
       "      <td>0.44</td>\n",
       "      <td>4.00</td>\n",
       "      <td>3.31</td>\n",
       "      <td>2.56</td>\n",
       "      <td>3.12</td>\n",
       "      <td>...</td>\n",
       "      <td>0.00</td>\n",
       "      <td>1.81</td>\n",
       "      <td>3.62</td>\n",
       "      <td>2.44</td>\n",
       "      <td>2.44</td>\n",
       "      <td>2.94</td>\n",
       "      <td>2.19</td>\n",
       "      <td>1.56</td>\n",
       "      <td>2.25</td>\n",
       "      <td>1.0</td>\n",
       "    </tr>\n",
       "  </tbody>\n",
       "</table>\n",
       "<p>5 rows × 36 columns</p>\n",
       "</div>"
      ],
      "text/plain": [
       "   Reading Comprehension  Active Listening  Writing  Speaking  Mathematics  \\\n",
       "0                   4.75              4.88     4.38      4.88         3.62   \n",
       "1                   4.00              3.96     3.67      3.96         3.17   \n",
       "2                   4.12              4.00     4.00      4.00         2.88   \n",
       "3                   4.12              4.25     4.00      4.12         3.12   \n",
       "4                   4.06              3.94     3.75      3.88         3.06   \n",
       "\n",
       "   Science  Critical Thinking  Active Learning  Learning Strategies  \\\n",
       "0     1.12               4.75             4.75                 3.88   \n",
       "1     0.46               4.08             3.66                 3.38   \n",
       "2     0.75               4.00             3.88                 3.88   \n",
       "3     2.00               4.12             3.88                 3.75   \n",
       "4     0.44               4.00             3.31                 2.56   \n",
       "\n",
       "   Monitoring  ...  Repairing  Quality Control Analysis  \\\n",
       "0        5.50  ...       0.00                      1.00   \n",
       "1        4.13  ...       0.08                      1.96   \n",
       "2        4.12  ...       0.00                      1.75   \n",
       "3        4.00  ...       0.00                      1.62   \n",
       "4        3.12  ...       0.00                      1.81   \n",
       "\n",
       "   Judgment and Decision Making  Systems Analysis  Systems Evaluation  \\\n",
       "0                          5.75              5.38                5.12   \n",
       "1                          3.63              3.46                3.67   \n",
       "2                          3.88              3.12                3.38   \n",
       "3                          4.12              3.75                3.88   \n",
       "4                          3.62              2.44                2.44   \n",
       "\n",
       "   Time Management  Management of Financial Resources  \\\n",
       "0             4.75                               5.50   \n",
       "1             3.88                               3.33   \n",
       "2             3.88                               3.25   \n",
       "3             4.00                               3.12   \n",
       "4             2.94                               2.19   \n",
       "\n",
       "   Management of Material Resources  Management of Personnel Resources  \\\n",
       "0                              4.75                               5.38   \n",
       "1                              3.17                               3.79   \n",
       "2                              3.12                               4.00   \n",
       "3                              2.38                               4.38   \n",
       "4                              1.56                               2.25   \n",
       "\n",
       "   Auto label value  \n",
       "0               0.0  \n",
       "1               0.0  \n",
       "2               0.0  \n",
       "3               0.0  \n",
       "4               1.0  \n",
       "\n",
       "[5 rows x 36 columns]"
      ]
     },
     "execution_count": 3,
     "metadata": {},
     "output_type": "execute_result"
    }
   ],
   "source": [
    "#Lets now drop the unseen observations to leave just the training data:\n",
    "\n",
    "df1 = df.dropna()\n",
    "df1.reset_index(drop=True,inplace=True)\n",
    "df1.head()"
   ]
  },
  {
   "cell_type": "code",
   "execution_count": 4,
   "id": "24094247",
   "metadata": {},
   "outputs": [
    {
     "name": "stdout",
     "output_type": "stream",
     "text": [
      "35\n",
      "63\n",
      "[3.64368843 3.54613975 3.29475372 3.45728522 2.56115693 1.50342497\n",
      " 3.57       3.19258877 2.84367698 3.37768614 3.10325315 3.14676976\n",
      " 2.76437572 2.564937   2.91871707 2.85216495 3.15989691 1.73046964\n",
      " 1.00459336 1.07781214 0.35969072 0.81539519 2.28172967 1.7741008\n",
      " 1.05408935 1.56753723 1.02463918 2.17970218 3.20827033 2.63945017\n",
      " 2.62533792 3.0472394  1.34610538 1.48531501 2.58720504]\n"
     ]
    }
   ],
   "source": [
    "#We first need to model the input variables of our data. We shall assume they are gaussian (non-mixture)\n",
    "\n",
    "mu = list(df.mean(axis='index'))\n",
    "del mu[-1]\n",
    "m = len(mu)\n",
    "print(m)\n",
    "\n",
    "n = len(df1.index)\n",
    "print(n)\n",
    "\n",
    "np_mu = np.array(mu)\n",
    "print(np_mu)\n",
    "#We have our vector of means (mx1)"
   ]
  },
  {
   "cell_type": "code",
   "execution_count": 5,
   "id": "cf68c9d4",
   "metadata": {},
   "outputs": [
    {
     "name": "stdout",
     "output_type": "stream",
     "text": [
      "[[0.76444782 0.58130456 0.69916557 ... 0.45318431 0.3671946  0.33895143]\n",
      " [0.58130456 0.56572002 0.57766101 ... 0.3614607  0.27286907 0.31405394]\n",
      " [0.69916557 0.57766101 0.70013492 ... 0.38176979 0.30487363 0.32323369]\n",
      " ...\n",
      " [0.45318431 0.3614607  0.38176979 ... 1.31053507 1.10093914 0.76044068]\n",
      " [0.3671946  0.27286907 0.30487363 ... 1.10093914 1.00709621 0.6898353 ]\n",
      " [0.33895143 0.31405394 0.32323369 ... 0.76044068 0.6898353  0.71434444]]\n"
     ]
    }
   ],
   "source": [
    "#Now lets get our covariance matrix:\n",
    "\n",
    "df2 = df1.drop(columns=['Auto label value']) #This dataframe removes the output of our GP so the covariance isn't effected\n",
    "\n",
    "df_cov = df2.cov()\n",
    "df_cov.head()\n",
    "\n",
    "np_cov = df_cov.to_numpy()\n",
    "print(np_cov)\n",
    "#We have our covariance matrix (mxm)"
   ]
  },
  {
   "cell_type": "code",
   "execution_count": 6,
   "id": "9a8e1b3a",
   "metadata": {},
   "outputs": [
    {
     "name": "stdout",
     "output_type": "stream",
     "text": [
      "(35,)\n",
      "(35, 35)\n"
     ]
    }
   ],
   "source": [
    "print(np.shape(np_mu))\n",
    "print(np.shape(np_cov))"
   ]
  },
  {
   "cell_type": "code",
   "execution_count": 7,
   "id": "38cebee9",
   "metadata": {},
   "outputs": [],
   "source": [
    "#Now lets focus on the matrix of lengthscales and the output variance of the kernel:\n",
    "\n",
    "output_var = 125\n",
    "lengthscale = 8  #both values estimated while get_params method continues to not work\n",
    "np_lengthscale = lengthscale*np.identity(m)\n",
    "\n"
   ]
  },
  {
   "cell_type": "code",
   "execution_count": 8,
   "id": "e6879994",
   "metadata": {},
   "outputs": [
    {
     "name": "stdout",
     "output_type": "stream",
     "text": [
      "[[-0.00860548]\n",
      " [-0.06894903]\n",
      " [-0.01170304]\n",
      " [-0.0725187 ]\n",
      " [-0.02920896]\n",
      " [ 0.22937517]\n",
      " [-0.03208581]\n",
      " [-0.07919282]\n",
      " [-0.01842026]\n",
      " [-0.22136611]\n",
      " [-0.0328072 ]\n",
      " [-0.20914795]\n",
      " [-0.1989016 ]\n",
      " [-0.18529898]\n",
      " [-0.02611171]\n",
      " [ 0.02813506]\n",
      " [-0.15039913]\n",
      " [-0.20639342]\n",
      " [ 0.1156125 ]\n",
      " [ 0.03784764]\n",
      " [ 0.0399778 ]\n",
      " [ 0.12448286]\n",
      " [ 0.09360752]\n",
      " [-0.02798726]\n",
      " [ 0.09913313]\n",
      " [ 0.20658357]\n",
      " [ 0.11353483]\n",
      " [ 0.17739136]\n",
      " [-0.26150596]\n",
      " [-0.26995348]\n",
      " [-0.20238852]\n",
      " [-0.16396686]\n",
      " [-0.48638356]\n",
      " [-0.36933394]\n",
      " [-0.31257482]]\n"
     ]
    }
   ],
   "source": [
    "#We now have all the ingredients we need to make z_n (for each observation):\n",
    "#Lets begin by just focusing on the first observation, and then creating a function for this\n",
    "import math\n",
    "\n",
    "x = np.array(df2.iloc[[0]])\n",
    "\n",
    "element1 = (output_var*math.sqrt(np.linalg.det(np_lengthscale)))/(math.sqrt(np.linalg.det(np_lengthscale+np_cov)))\n",
    "#print(element1)\n",
    "element2 = np.linalg.inv(np_lengthscale+np_cov)\n",
    "#print(element2)\n",
    "element3 = np.transpose(np_mu - x)\n",
    "#print(element3)\n",
    "#temp = np.matmul(element2,-1*element3)\n",
    "element4 = -0.5*np.matmul(np.transpose(-1*element3),np.matmul(element2,-1*element3))\n",
    "#print(element4)\n",
    "\n",
    "z = element1*math.exp(element4.item())*np.matmul(element2,element3)\n",
    "print(z)"
   ]
  },
  {
   "cell_type": "code",
   "execution_count": 9,
   "id": "c523c3ab",
   "metadata": {},
   "outputs": [],
   "source": [
    "#Lets now create a function that does this for each observation:\n",
    "\n",
    "def compute_zn(index):\n",
    "    x = np.array(df2.iloc[[index]])\n",
    "\n",
    "    element1 = (output_var*math.sqrt(np.linalg.det(np_lengthscale)))/(math.sqrt(np.linalg.det(np_lengthscale+np_cov)))\n",
    "    element2 = np.linalg.inv(np_lengthscale+np_cov)\n",
    "    element3 = np.transpose(np_mu - x)\n",
    "    element4 = -0.5*np.matmul(np.transpose(-1*element3),np.matmul(element2,-1*element3))\n",
    "\n",
    "    zn = element1*math.exp(element4.item())*np.matmul(element2,element3)\n",
    "    return zn\n"
   ]
  },
  {
   "cell_type": "code",
   "execution_count": 10,
   "id": "ec8d7a9b",
   "metadata": {},
   "outputs": [
    {
     "name": "stdout",
     "output_type": "stream",
     "text": [
      "[[-0.00860548 -0.06894903 -0.01170304 ...  0.76190741  1.61546301\n",
      "   0.19852163]\n",
      " [ 0.05586835 -0.70885447 -1.11877989 ...  0.14882637  1.74613009\n",
      "   0.50923952]\n",
      " [ 0.394528   -0.20829026 -0.29004295 ...  0.91202445 -0.87630489\n",
      "  -1.100605  ]\n",
      " ...\n",
      " [ 0.77157932  0.44761931 -0.40216863 ...  2.04667063  0.72953125\n",
      "   1.09449997]\n",
      " [ 1.97317995  0.32414552  1.364847   ... -0.511011    1.39508738\n",
      "   0.54003225]\n",
      " [ 1.59337505  0.58907687  1.02868886 ... -0.28181533  0.23086294\n",
      "   1.1566362 ]]\n"
     ]
    }
   ],
   "source": [
    "Z = [0]*n\n",
    "for i in range(0,n):\n",
    "    Z[i] = compute_zn(i)\n",
    "\n",
    "Z = np.array(Z)\n",
    "Z = Z.reshape(m,n)\n",
    "print(Z)"
   ]
  },
  {
   "cell_type": "code",
   "execution_count": 11,
   "id": "dcec5ed7",
   "metadata": {},
   "outputs": [
    {
     "name": "stdout",
     "output_type": "stream",
     "text": [
      "[[1.25000000e+02 8.79337705e-01 2.96228619e-01 ... 8.03007993e-08\n",
      "  4.34522338e-10 3.73584772e-11]\n",
      " [8.79337705e-01 1.25000000e+02 4.59005104e+01 ... 5.24635696e-02\n",
      "  9.47215570e-03 1.49783243e-03]\n",
      " [2.96228619e-01 4.59005104e+01 1.25000000e+02 ... 1.41156134e-02\n",
      "  7.43236429e-03 4.24277107e-04]\n",
      " ...\n",
      " [8.03007993e-08 5.24635696e-02 1.41156134e-02 ... 1.25000000e+02\n",
      "  7.05817366e-01 1.19479981e+01]\n",
      " [4.34522338e-10 9.47215570e-03 7.43236429e-03 ... 7.05817366e-01\n",
      "  1.25000000e+02 1.66623426e+01]\n",
      " [3.73584772e-11 1.49783243e-03 4.24277107e-04 ... 1.19479981e+01\n",
      "  1.66623426e+01 1.25000000e+02]]\n"
     ]
    },
    {
     "data": {
      "text/plain": [
       "(63, 63)"
      ]
     },
     "execution_count": 11,
     "metadata": {},
     "output_type": "execute_result"
    }
   ],
   "source": [
    "#We now need to find K, which is a matrix of the kernel outputs of the training data.\n",
    "X = df2.to_numpy()\n",
    "X_norm = np.sum(X ** 2, axis = -1)\n",
    "K = output_var * np.exp(-(1/lengthscale) * (X_norm[:,None] + X_norm[None,:] - 2 * np.dot(X, X.T)))\n",
    "print(K)\n",
    "np.shape(K)\n",
    "\n",
    "#I don't trust this code"
   ]
  },
  {
   "cell_type": "code",
   "execution_count": 26,
   "id": "a3c8aae4",
   "metadata": {},
   "outputs": [
    {
     "data": {
      "text/plain": [
       "array([[125.        ,  91.69863442,  85.67020883, ...,  33.29646507,\n",
       "         24.02862357,  20.61234771],\n",
       "       [ 91.69863442, 125.        , 117.41314791, ...,  76.88546618,\n",
       "         69.08459071,  61.56297362],\n",
       "       [ 85.67020883, 117.41314791, 125.        , ...,  70.82871649,\n",
       "         68.04536906,  56.89593478],\n",
       "       ...,\n",
       "       [ 33.29646507,  76.88546618,  70.82871649, ..., 125.        ,\n",
       "         90.44746691, 107.94041504],\n",
       "       [ 24.02862357,  69.08459071,  68.04536906, ...,  90.44746691,\n",
       "        125.        , 110.20762438],\n",
       "       [ 20.61234771,  61.56297362,  56.89593478, ..., 107.94041504,\n",
       "        110.20762438, 125.        ]])"
      ]
     },
     "execution_count": 26,
     "metadata": {},
     "output_type": "execute_result"
    }
   ],
   "source": [
    "# I do not trust the code that I've been presented with. I shall create my own function for computing the covariance matrix:\n",
    "\n",
    "X = df2.to_numpy() #Each row is an abservation, each column is a variable\n",
    "\n",
    "def compute_cov(x,y,var,l):  #x and y are each full observations (vectors)\n",
    "    d = 0\n",
    "    m = len(x)\n",
    "    for i in range(m):\n",
    "        d += (x[i]-y[i])**2\n",
    "    val = var*np.exp(-0.5*d/(l**2))\n",
    "    return val\n",
    "#This function takes in two observations and outputs a scalar\n",
    "\n",
    "\n",
    "num = df2.shape[0]\n",
    "K = np.empty([num,num])\n",
    "\n",
    "#Now lets start filling this matrix:\n",
    "\n",
    "K[0,0] = compute_cov(X[0,:],X[0,:],output_var,lengthscale)\n",
    "#K\n",
    "\n",
    "for i in range(num):\n",
    "    for j in range(num):\n",
    "        K[i,j] = compute_cov(X[i,:],X[j,:],output_var,lengthscale)\n",
    "\n",
    "K\n",
    "\n",
    "#Which of these methods should I trust?"
   ]
  },
  {
   "cell_type": "code",
   "execution_count": 27,
   "id": "a9afcb1d",
   "metadata": {},
   "outputs": [
    {
     "data": {
      "text/plain": [
       "(63,)"
      ]
     },
     "execution_count": 27,
     "metadata": {},
     "output_type": "execute_result"
    }
   ],
   "source": [
    "#Final ingredient: we need a row vector of the outputs:\n",
    "\n",
    "f = df1[\"Auto label value\"].to_numpy()\n",
    "f = f.reshape(63)\n",
    "np.shape(f)"
   ]
  },
  {
   "cell_type": "code",
   "execution_count": 28,
   "id": "168482b0",
   "metadata": {},
   "outputs": [
    {
     "name": "stdout",
     "output_type": "stream",
     "text": [
      "[ 1.14964646  5.42178878 -7.9328146   0.6369632   1.23118419  3.82719757\n",
      "  4.20191414 -7.26342922  4.03859191 -0.31367138  2.85058822 -4.37243335\n",
      " -3.76126644  1.40708163  0.29877881 -3.57626968 -3.70770537 -2.47611244\n",
      "  3.54966393 -0.6463692   1.48245035  2.43750781  0.5945215   1.64923033\n",
      "  1.8976617  -0.72129151  1.07350224 -4.35600845  3.67576978 -1.65115823\n",
      "  4.48369962 -2.24000178  1.55190675 -2.41752283 -0.35813421]\n"
     ]
    }
   ],
   "source": [
    "#Moment of truth...\n",
    "\n",
    "E = np.matmul(Z,np.matmul(np.linalg.inv(K),f))\n",
    "print(E)"
   ]
  },
  {
   "cell_type": "code",
   "execution_count": 29,
   "id": "745443c7",
   "metadata": {},
   "outputs": [
    {
     "name": "stdout",
     "output_type": "stream",
     "text": [
      "(35, 63)\n",
      "(63, 63)\n",
      "(63,)\n"
     ]
    }
   ],
   "source": [
    "print(np.shape(Z))\n",
    "print(np.shape(K))\n",
    "print(np.shape(f))"
   ]
  },
  {
   "cell_type": "code",
   "execution_count": 30,
   "id": "c78ae927",
   "metadata": {},
   "outputs": [],
   "source": [
    "#Lets now hitch these values onto a new dataframe of skills:\n",
    "\n",
    "output_df = pd.DataFrame({\"Skills\":df2.columns,\"Importance\":E})"
   ]
  },
  {
   "cell_type": "code",
   "execution_count": 31,
   "id": "ab94a2d7",
   "metadata": {
    "scrolled": true
   },
   "outputs": [
    {
     "name": "stdout",
     "output_type": "stream",
     "text": [
      "                               Skills  Importance\n",
      "0                             Writing   -7.932815\n",
      "1                     Active Learning   -7.263429\n",
      "2                        Coordination   -4.372433\n",
      "3            Quality Control Analysis   -4.356008\n",
      "4                          Persuasion   -3.761266\n",
      "5             Complex Problem Solving   -3.707705\n",
      "6                 Service Orientation   -3.576270\n",
      "7                 Operations Analysis   -2.476112\n",
      "8    Management of Material Resources   -2.417523\n",
      "9                     Time Management   -2.240002\n",
      "10                   Systems Analysis   -1.651158\n",
      "11                    Troubleshooting   -0.721292\n",
      "12                Equipment Selection   -0.646369\n",
      "13  Management of Personnel Resources   -0.358134\n",
      "14                         Monitoring   -0.313671\n",
      "15                        Instructing    0.298779\n",
      "16              Operations Monitoring    0.594522\n",
      "17                           Speaking    0.636963\n",
      "18                          Repairing    1.073502\n",
      "19              Reading Comprehension    1.149646\n",
      "20                        Mathematics    1.231184\n",
      "21                        Negotiation    1.407082\n",
      "22                       Installation    1.482450\n",
      "23  Management of Financial Resources    1.551907\n",
      "24              Operation and Control    1.649230\n",
      "25              Equipment Maintenance    1.897662\n",
      "26                        Programming    2.437508\n",
      "27              Social Perceptiveness    2.850588\n",
      "28                  Technology Design    3.549664\n",
      "29       Judgment and Decision Making    3.675770\n",
      "30                            Science    3.827198\n",
      "31                Learning Strategies    4.038592\n",
      "32                  Critical Thinking    4.201914\n",
      "33                 Systems Evaluation    4.483700\n",
      "34                   Active Listening    5.421789\n"
     ]
    }
   ],
   "source": [
    "output_df = output_df.sort_values(by=\"Importance\")\n",
    "output_df.reset_index(drop=True, inplace = True)\n",
    "print(output_df)"
   ]
  },
  {
   "cell_type": "code",
   "execution_count": null,
   "id": "62043967",
   "metadata": {},
   "outputs": [],
   "source": [
    "output_df.to_csv(\"PIGEBaQ_Ex.csv\")"
   ]
  },
  {
   "cell_type": "code",
   "execution_count": 12,
   "id": "fc6287d9",
   "metadata": {},
   "outputs": [
    {
     "data": {
      "text/plain": [
       "array([554.0729, 330.1999, 332.6104, 378.3367, 237.0379, 243.5691,\n",
       "       299.7154, 187.9249, 301.2836, 298.1673, 283.1239, 234.4784,\n",
       "       219.5566, 232.146 , 215.9703, 323.7935, 310.0904, 403.8916,\n",
       "       207.7635, 241.111 , 308.8178, 504.3654, 308.5041, 310.5558,\n",
       "       354.0708, 380.4842, 351.2378, 244.381 , 364.0085, 188.4971,\n",
       "       205.7941, 286.1248, 186.5247, 222.3067, 210.6354, 391.0291,\n",
       "       138.788 , 318.1841,  97.0642, 116.4398, 104.9929,  91.0192,\n",
       "       124.5191, 176.4997, 177.2292, 177.4204, 126.6923, 112.8203,\n",
       "       180.6432, 129.7653, 204.0797, 123.6887, 152.7537, 135.9679,\n",
       "       247.3617, 205.4042, 170.0322,  99.6029, 199.6029, 139.1711,\n",
       "       232.2723, 109.019 , 133.3697])"
      ]
     },
     "execution_count": 12,
     "metadata": {},
     "output_type": "execute_result"
    }
   ],
   "source": [
    "X_norm"
   ]
  },
  {
   "cell_type": "code",
   "execution_count": 13,
   "id": "8c7b5847",
   "metadata": {},
   "outputs": [
    {
     "data": {
      "text/plain": [
       "(63,)"
      ]
     },
     "execution_count": 13,
     "metadata": {},
     "output_type": "execute_result"
    }
   ],
   "source": [
    "np.shape(X_norm)"
   ]
  },
  {
   "cell_type": "code",
   "execution_count": 23,
   "id": "82b98588",
   "metadata": {},
   "outputs": [
    {
     "data": {
      "text/plain": [
       "array([[554.0729],\n",
       "       [330.1999],\n",
       "       [332.6104],\n",
       "       [378.3367],\n",
       "       [237.0379],\n",
       "       [243.5691],\n",
       "       [299.7154],\n",
       "       [187.9249],\n",
       "       [301.2836],\n",
       "       [298.1673],\n",
       "       [283.1239],\n",
       "       [234.4784],\n",
       "       [219.5566],\n",
       "       [232.146 ],\n",
       "       [215.9703],\n",
       "       [323.7935],\n",
       "       [310.0904],\n",
       "       [403.8916],\n",
       "       [207.7635],\n",
       "       [241.111 ],\n",
       "       [308.8178],\n",
       "       [504.3654],\n",
       "       [308.5041],\n",
       "       [310.5558],\n",
       "       [354.0708],\n",
       "       [380.4842],\n",
       "       [351.2378],\n",
       "       [244.381 ],\n",
       "       [364.0085],\n",
       "       [188.4971],\n",
       "       [205.7941],\n",
       "       [286.1248],\n",
       "       [186.5247],\n",
       "       [222.3067],\n",
       "       [210.6354],\n",
       "       [391.0291],\n",
       "       [138.788 ],\n",
       "       [318.1841],\n",
       "       [ 97.0642],\n",
       "       [116.4398],\n",
       "       [104.9929],\n",
       "       [ 91.0192],\n",
       "       [124.5191],\n",
       "       [176.4997],\n",
       "       [177.2292],\n",
       "       [177.4204],\n",
       "       [126.6923],\n",
       "       [112.8203],\n",
       "       [180.6432],\n",
       "       [129.7653],\n",
       "       [204.0797],\n",
       "       [123.6887],\n",
       "       [152.7537],\n",
       "       [135.9679],\n",
       "       [247.3617],\n",
       "       [205.4042],\n",
       "       [170.0322],\n",
       "       [ 99.6029],\n",
       "       [199.6029],\n",
       "       [139.1711],\n",
       "       [232.2723],\n",
       "       [109.019 ],\n",
       "       [133.3697]])"
      ]
     },
     "execution_count": 23,
     "metadata": {},
     "output_type": "execute_result"
    }
   ],
   "source": [
    "X_norm[:,None]"
   ]
  },
  {
   "cell_type": "code",
   "execution_count": 16,
   "id": "6b3d326a",
   "metadata": {},
   "outputs": [
    {
     "data": {
      "text/plain": [
       "(1, 63)"
      ]
     },
     "execution_count": 16,
     "metadata": {},
     "output_type": "execute_result"
    }
   ],
   "source": [
    "X_norm[None,:]"
   ]
  },
  {
   "cell_type": "code",
   "execution_count": 18,
   "id": "1e7d8037",
   "metadata": {},
   "outputs": [
    {
     "data": {
      "text/plain": [
       "array([[554.0729, 422.3088, 419.1619, ..., 308.5094, 226.0056, 228.3662],\n",
       "       [422.3088, 330.1999, 327.3978, ..., 250.1323, 181.6586, 186.4566],\n",
       "       [419.1619, 327.3978, 332.6104, ..., 246.0862, 181.8938, 182.6163],\n",
       "       ...,\n",
       "       [308.5094, 250.1323, 246.0862, ..., 232.2723, 149.9388, 173.43  ],\n",
       "       [226.0056, 181.6586, 181.8938, ..., 149.9388, 109.019 , 113.1337],\n",
       "       [228.3662, 186.4566, 182.6163, ..., 173.43  , 113.1337, 133.3697]])"
      ]
     },
     "execution_count": 18,
     "metadata": {},
     "output_type": "execute_result"
    }
   ],
   "source": [
    "np.dot(X, X.T)"
   ]
  },
  {
   "cell_type": "code",
   "execution_count": 22,
   "id": "9f8369ad",
   "metadata": {},
   "outputs": [
    {
     "data": {
      "text/plain": [
       "array([[1108.1458,  884.2728,  886.6833, ...,  786.3452,  663.0919,\n",
       "         687.4426],\n",
       "       [ 884.2728,  660.3998,  662.8103, ...,  562.4722,  439.2189,\n",
       "         463.5696],\n",
       "       [ 886.6833,  662.8103,  665.2208, ...,  564.8827,  441.6294,\n",
       "         465.9801],\n",
       "       ...,\n",
       "       [ 786.3452,  562.4722,  564.8827, ...,  464.5446,  341.2913,\n",
       "         365.642 ],\n",
       "       [ 663.0919,  439.2189,  441.6294, ...,  341.2913,  218.038 ,\n",
       "         242.3887],\n",
       "       [ 687.4426,  463.5696,  465.9801, ...,  365.642 ,  242.3887,\n",
       "         266.7394]])"
      ]
     },
     "execution_count": 22,
     "metadata": {},
     "output_type": "execute_result"
    }
   ],
   "source": [
    "X_norm[:,None] + X_norm[None,:]"
   ]
  },
  {
   "cell_type": "code",
   "execution_count": 24,
   "id": "a0b9c5e9",
   "metadata": {},
   "outputs": [
    {
     "data": {
      "text/plain": [
       "63"
      ]
     },
     "execution_count": 24,
     "metadata": {},
     "output_type": "execute_result"
    }
   ],
   "source": [
    "df2.shape[0]"
   ]
  },
  {
   "cell_type": "code",
   "execution_count": 34,
   "id": "ead5c442",
   "metadata": {},
   "outputs": [
    {
     "data": {
      "text/plain": [
       "0.7335890753394024"
      ]
     },
     "execution_count": 34,
     "metadata": {},
     "output_type": "execute_result"
    }
   ],
   "source": [
    "compute_cov(X[0,:],X[1,:],1,8)"
   ]
  },
  {
   "cell_type": "code",
   "execution_count": 36,
   "id": "0bfdffff",
   "metadata": {},
   "outputs": [
    {
     "data": {
      "text/plain": [
       "4.88"
      ]
     },
     "execution_count": 36,
     "metadata": {},
     "output_type": "execute_result"
    }
   ],
   "source": [
    "test = X[0,:]\n",
    "test[1]"
   ]
  },
  {
   "cell_type": "code",
   "execution_count": null,
   "id": "10132aa5",
   "metadata": {},
   "outputs": [],
   "source": []
  }
 ],
 "metadata": {
  "kernelspec": {
   "display_name": "Python 3",
   "language": "python",
   "name": "python3"
  },
  "language_info": {
   "codemirror_mode": {
    "name": "ipython",
    "version": 3
   },
   "file_extension": ".py",
   "mimetype": "text/x-python",
   "name": "python",
   "nbconvert_exporter": "python",
   "pygments_lexer": "ipython3",
   "version": "3.8.8"
  }
 },
 "nbformat": 4,
 "nbformat_minor": 5
}
