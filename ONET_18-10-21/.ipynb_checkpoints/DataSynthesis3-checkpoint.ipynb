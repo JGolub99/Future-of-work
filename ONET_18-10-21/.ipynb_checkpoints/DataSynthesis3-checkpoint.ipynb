{
 "cells": [
  {
   "cell_type": "code",
   "execution_count": 1,
   "id": "ff2bd22d",
   "metadata": {},
   "outputs": [],
   "source": [
    "''' In this doc, we shall properly implement Mikes method. The previous version \n",
    "was too elementary and didnt have tractable gradients. '''\n",
    "\n",
    "import numpy as np\n",
    "import pandas as pd\n"
   ]
  },
  {
   "cell_type": "code",
   "execution_count": 90,
   "id": "ca0e8269",
   "metadata": {},
   "outputs": [],
   "source": [
    "#We shall now defined the number of input variables as well as the number of observations:\n",
    "\n",
    "m = 4 #No. variables\n",
    "n = 100 #No. observations\n",
    "\n",
    "\n",
    "#NOTE, this will be the number of observations for both the \"grid\" on which we instantiate the MV Gaussian,\n",
    "#as well as the draw from this prior.\n",
    "\n",
    "#Now we define the variance and lengthscales:\n",
    "\n",
    "m_var = 1\n",
    "m_len = range(1,m) #We shall have different size lengthscales for the different variables to predefine importance (ARD)"
   ]
  },
  {
   "cell_type": "code",
   "execution_count": 91,
   "id": "86cc0ff1",
   "metadata": {},
   "outputs": [],
   "source": [
    "#Now create the grid of data:\n",
    "X = []\n",
    "for i in range(m):\n",
    "    X.append(np.random.uniform(1,10,n))\n",
    "\n",
    "X = np.array(X)\n",
    "X = np.transpose(X)\n"
   ]
  },
  {
   "cell_type": "code",
   "execution_count": 92,
   "id": "c7dd68cc",
   "metadata": {},
   "outputs": [
    {
     "data": {
      "text/plain": [
       "(100, 4)"
      ]
     },
     "execution_count": 92,
     "metadata": {},
     "output_type": "execute_result"
    }
   ],
   "source": [
    "np.shape(X)"
   ]
  },
  {
   "cell_type": "code",
   "execution_count": 71,
   "id": "9b6c1e9f",
   "metadata": {},
   "outputs": [],
   "source": [
    "#We shall extract a mean and covariance from this data:\n",
    "\n",
    "mean = np.mean(X,axis=0)\n",
    "covariance = np.cov(np.transpose(X))\n"
   ]
  },
  {
   "cell_type": "code",
   "execution_count": 20,
   "id": "cb1fcef8",
   "metadata": {},
   "outputs": [
    {
     "data": {
      "text/plain": [
       "array([ 3.7627028 ,  8.09432924,  7.47329929, -0.35269728,  4.66673452,\n",
       "        4.40494354])"
      ]
     },
     "execution_count": 20,
     "metadata": {},
     "output_type": "execute_result"
    }
   ],
   "source": [
    "#We can also define a kernel and GP:\n",
    "\n",
    "np.random.multivariate_normal(mean, covariance)"
   ]
  },
  {
   "cell_type": "code",
   "execution_count": 93,
   "id": "bb609854",
   "metadata": {},
   "outputs": [
    {
     "data": {
      "text/plain": [
       "array([[1.00000000e+00, 5.50775769e-01, 2.09022341e-06, ...,\n",
       "        4.92970371e-03, 1.19978253e-05, 2.14067025e-03],\n",
       "       [5.50775769e-01, 1.00000000e+00, 6.13554560e-07, ...,\n",
       "        2.10477268e-03, 6.72309728e-06, 8.38475212e-05],\n",
       "       [2.09022341e-06, 6.13554560e-07, 1.00000000e+00, ...,\n",
       "        1.54198240e-03, 1.99278872e-01, 8.60968986e-06],\n",
       "       ...,\n",
       "       [4.92970371e-03, 2.10477268e-03, 1.54198240e-03, ...,\n",
       "        1.00000000e+00, 2.33476887e-02, 1.00315750e-02],\n",
       "       [1.19978253e-05, 6.72309728e-06, 1.99278872e-01, ...,\n",
       "        2.33476887e-02, 1.00000000e+00, 1.97233855e-04],\n",
       "       [2.14067025e-03, 8.38475212e-05, 8.60968986e-06, ...,\n",
       "        1.00315750e-02, 1.97233855e-04, 1.00000000e+00]])"
      ]
     },
     "execution_count": 93,
     "metadata": {},
     "output_type": "execute_result"
    }
   ],
   "source": [
    "#I think what I've done so far isn't quite correct, I'm looking for a mean function and mean covariance\n",
    "\n",
    "L = np.identity(m)\n",
    "for i in range(m):\n",
    "    L[i,i] = (i+1)**2\n",
    "\n",
    "def compute_cov(x,y,var,l_matrix):  #x and y are each full observations (vectors)\n",
    "    d = 0\n",
    "    m = len(x)\n",
    "    diff = x-y\n",
    "    L = np.linalg.inv(l_matrix)\n",
    "    exponent = -0.5*(np.matmul(np.transpose(diff),np.matmul(L,diff)))\n",
    "    val = var*np.exp(exponent)\n",
    "    return val\n",
    "#This function takes in two observations and outputs a scalar\n",
    "\n",
    "\n",
    "\n",
    "K = np.empty([n,n])\n",
    "\n",
    "#Now lets start filling this matrix:\n",
    "\n",
    "\n",
    "\n",
    "for i in range(n):\n",
    "    for j in range(n):\n",
    "        K[i,j] = compute_cov(X[i,:],X[j,:],m_var,L)\n",
    "\n",
    "K\n",
    "\n"
   ]
  },
  {
   "cell_type": "code",
   "execution_count": 94,
   "id": "c3a76ef8",
   "metadata": {},
   "outputs": [
    {
     "data": {
      "text/plain": [
       "array([ 2.18558260e+00,  1.25885620e+00, -7.58760813e-01, -1.24189228e+00,\n",
       "       -2.39903497e-01,  1.95125700e-01, -3.26274852e-01,  1.68104439e-02,\n",
       "       -1.91612761e+00,  9.31777881e-01, -1.55710538e+00,  2.16546888e+00,\n",
       "       -8.19274791e-01, -1.27831770e+00,  2.68182138e-01, -7.33331241e-01,\n",
       "       -7.14413296e-02, -1.21119790e+00,  1.50726918e+00,  3.11735119e-01,\n",
       "       -1.34242927e+00, -5.35120549e-01, -6.81722975e-01,  1.11055304e+00,\n",
       "       -1.35684280e-02, -1.42629251e+00, -1.02889966e+00,  6.04678922e-01,\n",
       "        1.15646010e+00, -1.47030823e+00, -2.08544197e-01, -5.94382189e-01,\n",
       "       -5.53432477e-01, -1.24623923e+00,  6.09568309e-01,  1.56572393e+00,\n",
       "        3.54326751e-01,  4.91463752e-01,  5.95479617e-01, -1.76952925e-01,\n",
       "        9.68613096e-01, -9.82505902e-01, -9.67432158e-01, -8.62624118e-01,\n",
       "       -8.85934656e-01,  1.54731939e+00, -1.98464154e-01,  5.08101310e-01,\n",
       "       -4.69595782e-02,  2.46386858e-01,  4.83299398e-01, -7.62568947e-01,\n",
       "       -2.00403700e+00,  7.25880865e-01,  5.72945871e-01,  2.51550299e-01,\n",
       "        2.26488067e+00,  4.26439163e-01, -1.58127128e-01,  1.91032724e-04,\n",
       "       -1.97923452e+00,  5.08354897e-01,  4.88028234e-01,  1.38628619e-01,\n",
       "       -9.93327716e-01,  4.89419891e-02, -1.21945916e+00,  9.02872617e-01,\n",
       "        1.84877113e-01, -1.11827834e+00,  6.56698376e-01,  5.33822473e-01,\n",
       "        3.99889191e-01,  1.11334108e+00,  3.24427946e-01,  2.91413798e-01,\n",
       "        2.06132986e+00,  1.20828559e+00,  7.59168172e-01,  5.13307835e-01,\n",
       "        1.34967238e+00, -1.55852096e-01, -2.44988423e+00, -1.21353938e+00,\n",
       "       -3.47292231e-01,  9.14146997e-02,  1.05675676e+00,  1.10367884e+00,\n",
       "       -1.68509042e+00, -9.02568664e-01, -1.07289767e+00,  3.28253206e-01,\n",
       "       -6.02582764e-01, -2.82406511e+00, -1.10951844e+00, -9.72868820e-01,\n",
       "       -9.81125384e-02, -1.40374725e+00, -6.72571398e-01,  1.62767760e+00])"
      ]
     },
     "execution_count": 94,
     "metadata": {},
     "output_type": "execute_result"
    }
   ],
   "source": [
    "#We can now define our prior GP with 0 mean function and covariance function K\n",
    "#We can draw a sample from this:\n",
    "\n",
    "mean = np.zeros((n,1))\n",
    "mean = mean.reshape(n)\n",
    "\n",
    "sample = np.random.multivariate_normal(mean, K)\n",
    "sample"
   ]
  },
  {
   "cell_type": "code",
   "execution_count": 95,
   "id": "8fb2881f",
   "metadata": {},
   "outputs": [],
   "source": [
    "#We can now squash this through a sigmoid function:\n",
    "\n",
    "import math\n",
    "\n",
    "def sigmoid(x):\n",
    "    return 1 / (1 + math.exp(-x))\n",
    "output=[]\n",
    "\n",
    "for i in sample:\n",
    "    output.append(sigmoid(i))\n",
    "\n",
    "output=np.asarray(output)\n",
    "output = np.round(output)"
   ]
  },
  {
   "cell_type": "code",
   "execution_count": 96,
   "id": "93216996",
   "metadata": {},
   "outputs": [
    {
     "data": {
      "text/plain": [
       "array([1., 1., 0., 0., 0., 1., 0., 1., 0., 1., 0., 1., 0., 0., 1., 0., 0.,\n",
       "       0., 1., 1., 0., 0., 0., 1., 0., 0., 0., 1., 1., 0., 0., 0., 0., 0.,\n",
       "       1., 1., 1., 1., 1., 0., 1., 0., 0., 0., 0., 1., 0., 1., 0., 1., 1.,\n",
       "       0., 0., 1., 1., 1., 1., 1., 0., 1., 0., 1., 1., 1., 0., 1., 0., 1.,\n",
       "       1., 0., 1., 1., 1., 1., 1., 1., 1., 1., 1., 1., 1., 0., 0., 0., 0.,\n",
       "       1., 1., 1., 0., 0., 0., 1., 0., 0., 0., 0., 0., 0., 0., 1.])"
      ]
     },
     "execution_count": 96,
     "metadata": {},
     "output_type": "execute_result"
    }
   ],
   "source": [
    "output"
   ]
  },
  {
   "cell_type": "code",
   "execution_count": 97,
   "id": "3e764c49",
   "metadata": {},
   "outputs": [
    {
     "data": {
      "text/html": [
       "<div>\n",
       "<style scoped>\n",
       "    .dataframe tbody tr th:only-of-type {\n",
       "        vertical-align: middle;\n",
       "    }\n",
       "\n",
       "    .dataframe tbody tr th {\n",
       "        vertical-align: top;\n",
       "    }\n",
       "\n",
       "    .dataframe thead th {\n",
       "        text-align: right;\n",
       "    }\n",
       "</style>\n",
       "<table border=\"1\" class=\"dataframe\">\n",
       "  <thead>\n",
       "    <tr style=\"text-align: right;\">\n",
       "      <th></th>\n",
       "      <th>0</th>\n",
       "      <th>1</th>\n",
       "      <th>2</th>\n",
       "      <th>3</th>\n",
       "      <th>Output</th>\n",
       "    </tr>\n",
       "  </thead>\n",
       "  <tbody>\n",
       "    <tr>\n",
       "      <th>0</th>\n",
       "      <td>6.997731</td>\n",
       "      <td>3.117586</td>\n",
       "      <td>9.426286</td>\n",
       "      <td>7.496173</td>\n",
       "      <td>1.0</td>\n",
       "    </tr>\n",
       "    <tr>\n",
       "      <th>1</th>\n",
       "      <td>7.304658</td>\n",
       "      <td>1.194708</td>\n",
       "      <td>8.627045</td>\n",
       "      <td>6.210501</td>\n",
       "      <td>1.0</td>\n",
       "    </tr>\n",
       "    <tr>\n",
       "      <th>2</th>\n",
       "      <td>2.281435</td>\n",
       "      <td>2.402172</td>\n",
       "      <td>3.603377</td>\n",
       "      <td>8.028638</td>\n",
       "      <td>0.0</td>\n",
       "    </tr>\n",
       "    <tr>\n",
       "      <th>3</th>\n",
       "      <td>2.111528</td>\n",
       "      <td>7.152782</td>\n",
       "      <td>1.169089</td>\n",
       "      <td>5.366276</td>\n",
       "      <td>0.0</td>\n",
       "    </tr>\n",
       "    <tr>\n",
       "      <th>4</th>\n",
       "      <td>3.833990</td>\n",
       "      <td>4.807618</td>\n",
       "      <td>7.139091</td>\n",
       "      <td>9.268070</td>\n",
       "      <td>0.0</td>\n",
       "    </tr>\n",
       "    <tr>\n",
       "      <th>...</th>\n",
       "      <td>...</td>\n",
       "      <td>...</td>\n",
       "      <td>...</td>\n",
       "      <td>...</td>\n",
       "      <td>...</td>\n",
       "    </tr>\n",
       "    <tr>\n",
       "      <th>95</th>\n",
       "      <td>5.265548</td>\n",
       "      <td>5.860197</td>\n",
       "      <td>6.318972</td>\n",
       "      <td>1.350611</td>\n",
       "      <td>0.0</td>\n",
       "    </tr>\n",
       "    <tr>\n",
       "      <th>96</th>\n",
       "      <td>4.358943</td>\n",
       "      <td>2.303494</td>\n",
       "      <td>1.950808</td>\n",
       "      <td>5.793848</td>\n",
       "      <td>0.0</td>\n",
       "    </tr>\n",
       "    <tr>\n",
       "      <th>97</th>\n",
       "      <td>5.512987</td>\n",
       "      <td>4.650868</td>\n",
       "      <td>1.271030</td>\n",
       "      <td>4.833993</td>\n",
       "      <td>0.0</td>\n",
       "    </tr>\n",
       "    <tr>\n",
       "      <th>98</th>\n",
       "      <td>3.081351</td>\n",
       "      <td>2.805108</td>\n",
       "      <td>2.535002</td>\n",
       "      <td>1.807614</td>\n",
       "      <td>0.0</td>\n",
       "    </tr>\n",
       "    <tr>\n",
       "      <th>99</th>\n",
       "      <td>5.370149</td>\n",
       "      <td>8.707204</td>\n",
       "      <td>7.801816</td>\n",
       "      <td>2.532173</td>\n",
       "      <td>1.0</td>\n",
       "    </tr>\n",
       "  </tbody>\n",
       "</table>\n",
       "<p>100 rows × 5 columns</p>\n",
       "</div>"
      ],
      "text/plain": [
       "           0         1         2         3  Output\n",
       "0   6.997731  3.117586  9.426286  7.496173     1.0\n",
       "1   7.304658  1.194708  8.627045  6.210501     1.0\n",
       "2   2.281435  2.402172  3.603377  8.028638     0.0\n",
       "3   2.111528  7.152782  1.169089  5.366276     0.0\n",
       "4   3.833990  4.807618  7.139091  9.268070     0.0\n",
       "..       ...       ...       ...       ...     ...\n",
       "95  5.265548  5.860197  6.318972  1.350611     0.0\n",
       "96  4.358943  2.303494  1.950808  5.793848     0.0\n",
       "97  5.512987  4.650868  1.271030  4.833993     0.0\n",
       "98  3.081351  2.805108  2.535002  1.807614     0.0\n",
       "99  5.370149  8.707204  7.801816  2.532173     1.0\n",
       "\n",
       "[100 rows x 5 columns]"
      ]
     },
     "execution_count": 97,
     "metadata": {},
     "output_type": "execute_result"
    }
   ],
   "source": [
    "data = pd.DataFrame(X)\n",
    "data['Output'] = output\n",
    "data"
   ]
  },
  {
   "cell_type": "code",
   "execution_count": 98,
   "id": "9746adde",
   "metadata": {},
   "outputs": [],
   "source": [
    "data.to_csv(\"generated_data2.csv\",index=False)"
   ]
  },
  {
   "cell_type": "code",
   "execution_count": 89,
   "id": "8a169db0",
   "metadata": {},
   "outputs": [],
   "source": [
    "data.to_csv(\"C:/Users/jacob/Documents/4YP data/DataSynthesis/4x200/data.csv\",index=False)"
   ]
  },
  {
   "cell_type": "code",
   "execution_count": null,
   "id": "c1eb2bc8",
   "metadata": {},
   "outputs": [],
   "source": []
  }
 ],
 "metadata": {
  "kernelspec": {
   "display_name": "Python 3",
   "language": "python",
   "name": "python3"
  },
  "language_info": {
   "codemirror_mode": {
    "name": "ipython",
    "version": 3
   },
   "file_extension": ".py",
   "mimetype": "text/x-python",
   "name": "python",
   "nbconvert_exporter": "python",
   "pygments_lexer": "ipython3",
   "version": "3.8.8"
  }
 },
 "nbformat": 4,
 "nbformat_minor": 5
}
